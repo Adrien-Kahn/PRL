{
 "cells": [
  {
   "cell_type": "code",
   "execution_count": 2,
   "metadata": {},
   "outputs": [],
   "source": [
    "import numpy as np\n",
    "import matplotlib.pyplot as plt"
   ]
  },
  {
   "cell_type": "markdown",
   "metadata": {},
   "source": [
    "# Phase diagram of the Hubbard model with Mean Field Theory\n",
    "\n",
    "More details on the formalism [here](https://arxiv.org/pdf/1403.2259.pdf).\n",
    "\n",
    "We place ourselves at half filling ($\\mu = \\frac U 2$) and look for antiferromagnetic solutions ($m_{i,1} = m_{i,2}$) assuming spatial homogeneity ($\\langle n_{i,\\alpha,\\sigma} \\rangle = \\langle n_{\\alpha,\\sigma} \\rangle$).\n",
    "\n",
    "$\\langle n_{\\alpha, \\sigma}\\rangle$ is encoded in a vector:\n",
    "\\begin{pmatrix}\n",
    "\\langle n_{1, \\uparrow}\\rangle \\\\\n",
    "\\langle n_{1, \\downarrow}\\rangle \\\\\n",
    "\\langle n_{2, \\uparrow}\\rangle \\\\\n",
    "\\langle n_{2, \\downarrow}\\rangle \\\\\n",
    "\\end{pmatrix}\n",
    "\n",
    "Among the 4 $\\langle n_{\\alpha, \\sigma}\\rangle$, only one is independant because of the assumptions. For $\\alpha = 1,2$ we define:\n",
    "\n",
    "\\begin{cases}\n",
    "\\langle n_\\alpha \\rangle = \\langle n_{\\alpha, \\uparrow} \\rangle + \\langle n_{\\alpha, \\downarrow} \\rangle \\\\\n",
    "\\langle m_\\alpha \\rangle = \\langle n_{\\alpha, \\uparrow} \\rangle - \\langle n_{\\alpha, \\downarrow} \\rangle \\\\\n",
    "\\end{cases}\n",
    "\n",
    "Then the assumptions lead to:\n",
    "\n",
    "\\begin{cases}\n",
    "\\langle n_1 \\rangle = \\langle n_2 \\rangle = 1 \\\\\n",
    "\\langle m_1 \\rangle = - \\langle m_2 \\rangle \\\\\n",
    "\\end{cases}\n",
    "\n",
    "Therefore, the self-consistency equation can be written simply as $\\langle m_1 \\rangle = f \\left( \\langle m_1 \\rangle \\right)$. In practice, we compute $\\langle n_{\\alpha,\\sigma} \\rangle$ from $\\langle m_1 \\rangle$ with those constraints, and then use it to return $\\langle m_1 \\rangle$.\n",
    "\n",
    "\n",
    "### $\\vec k$ vectors\n",
    "\n",
    "With the chosen unit cell, the first Brillouin zone is defined by $||\\vec k||_1 < \\frac \\pi a$\n",
    "\n",
    "$\\vec k$ vectors are denoted by integers $(h,l)$ such that $\\vec k = \\frac \\pi L (h \\vec e_x + l \\vec e_y)$ where $\\vec e_x$ and $\\vec e_y$ are unit vectors along $\\vec b_1$ and $\\vec b_2$ respectively. They are encoded by a vector of size 2 with components $h$ and $l$. With this notation, the first brillouin zone corresponds to integers $(h,l)$ verifying $|h| < \\sqrt \\frac N 2$ and $|l| < \\sqrt \\frac N 2$.\n",
    "\n",
    "Since $\\vec b_1 = \\vec a_1 - \\vec a_2$ and $\\vec b_2 = \\vec a_1 + \\vec a_2$, we have:\n",
    "\n",
    "\\begin{cases}\n",
    "\\vec k \\cdot \\vec b_1 = \\pi \\sqrt{\\frac 2 N} h \\\\\n",
    "\\vec k \\cdot \\vec b_2 = \\pi \\sqrt{\\frac 2 N} l\n",
    "\\end{cases}\n",
    "\n",
    "### Spin\n",
    "\n",
    "We encode $\\sigma = \\uparrow$ by `0` and $\\sigma = \\downarrow$ by `1`."
   ]
  },
  {
   "cell_type": "code",
   "execution_count": 54,
   "metadata": {},
   "outputs": [
    {
     "ename": "SyntaxError",
     "evalue": "invalid syntax (<ipython-input-54-3196befecfa9>, line 16)",
     "output_type": "error",
     "traceback": [
      "\u001b[1;36m  File \u001b[1;32m\"<ipython-input-54-3196befecfa9>\"\u001b[1;36m, line \u001b[1;32m16\u001b[0m\n\u001b[1;33m    wrong -> BZ = [[h,l] for h in range(-int(N**0.5), int(N**0.5) + 1) for l in range(-int(N**0.5), int(N**0.5) + 1) if ((h < 0 or (h == 0 and l < 0)) and abs(h) + abs(l) == N**0.5) or abs(h) + abs(l) < N**0.5]\u001b[0m\n\u001b[1;37m          ^\u001b[0m\n\u001b[1;31mSyntaxError\u001b[0m\u001b[1;31m:\u001b[0m invalid syntax\n"
     ]
    }
   ],
   "source": [
    "# Global parameters\n",
    "\n",
    "# Distance between two atoms\n",
    "a = 1\n",
    "\n",
    "# Number of atoms (in the context of a unit cell with two atoms, the number of unit cells is N/2)\n",
    "N = 3\n",
    "\n",
    "# Hopping factor\n",
    "t = 1\n",
    "\n",
    "# Length of a side of the crystal assuming square crystal\n",
    "L = a * N**0.5\n",
    "\n",
    "# Brillouin zone\n",
    "wrong -> BZ = [[h,l] for h in range(-int(N**0.5), int(N**0.5) + 1) for l in range(-int(N**0.5), int(N**0.5) + 1) if ((h < 0 or (h == 0 and l < 0)) and abs(h) + abs(l) == N**0.5) or abs(h) + abs(l) < N**0.5]"
   ]
  },
  {
   "cell_type": "code",
   "execution_count": 38,
   "metadata": {},
   "outputs": [],
   "source": [
    "def m1_to_nvec(m1):\n",
    "    nvec = np.zeros(4)\n",
    "    nvec[0] = (1 + m1) / 2\n",
    "    nvec[1] = (1 - m1) / 2\n",
    "    nvec[2] = (1 - m1) / 2\n",
    "    nvec[3] = (1 + m1) / 2\n",
    "    return nvec"
   ]
  },
  {
   "cell_type": "code",
   "execution_count": 53,
   "metadata": {},
   "outputs": [],
   "source": [
    "# The matrix to diagonalize for a given k and spin\n",
    "def cmat(nvec, k, sigma, U):\n",
    "    \n",
    "    h = k[0]\n",
    "    l = k[1]\n",
    "    \n",
    "    gamma_k = - (1 + np.exp(-1.j * 2 * np.pi * h / N**0.5) + np.exp(-1.j * np.pi * (h - l) / N**0.5) + np.exp(-1.j * np.pi * (h + l) / N**0.5))\n",
    "    \n",
    "    M = np.zeros((2,2), dtype = complex)\n",
    "    \n",
    "    M[0,0] = U * nvec[1 - sigma]\n",
    "    M[1,1] = U * nvec[3 - sigma]\n",
    "    \n",
    "    M[0,1] = t * gamma_k\n",
    "    M[1,0] = t * np.conj(gamma_k)\n",
    "    \n",
    "    return M"
   ]
  },
  {
   "cell_type": "code",
   "execution_count": 51,
   "metadata": {},
   "outputs": [
    {
     "ename": "SyntaxError",
     "evalue": "invalid syntax (<ipython-input-51-da0824edeea3>, line 6)",
     "output_type": "error",
     "traceback": [
      "\u001b[1;36m  File \u001b[1;32m\"<ipython-input-51-da0824edeea3>\"\u001b[1;36m, line \u001b[1;32m6\u001b[0m\n\u001b[1;33m    for k in kset\u001b[0m\n\u001b[1;37m                 ^\u001b[0m\n\u001b[1;31mSyntaxError\u001b[0m\u001b[1;31m:\u001b[0m invalid syntax\n"
     ]
    }
   ],
   "source": [
    "# Returns nvec as a function of nvec\n",
    "def occfunc(nvec, U, T):\n",
    "    \n",
    "    new_nvec = np.zeros(4)\n",
    "    \n",
    "    # We start by computing all the eigenvectors and eigencoefficients for all k vectors and all spins\n",
    "    for sigma in [0, 1]:\n",
    "        for k in BZ:\n",
    "            \n",
    "            M = cmat(nvec, k, sigma, U)\n",
    "            eigvals, eigvecs = np.linalg.eig(M)\n",
    "            \n",
    "    new_nvec = 2 * new_nvec / N # N/2 unit cells\n",
    "            "
   ]
  },
  {
   "cell_type": "code",
   "execution_count": 52,
   "metadata": {},
   "outputs": [
    {
     "data": {
      "text/plain": [
       "array([[0.25      +0.j        , 0.36544249-1.47414136j],\n",
       "       [0.36544249+1.47414136j, 0.75      +0.j        ]])"
      ]
     },
     "execution_count": 52,
     "metadata": {},
     "output_type": "execute_result"
    }
   ],
   "source": [
    "# Test\n",
    "\n",
    "nvec = m1_to_nvec(0.5)\n",
    "k = BZ[0]\n",
    "cmats(nvec, k, 0, 1)"
   ]
  }
 ],
 "metadata": {
  "kernelspec": {
   "display_name": "Python 3",
   "language": "python",
   "name": "python3"
  },
  "language_info": {
   "codemirror_mode": {
    "name": "ipython",
    "version": 3
   },
   "file_extension": ".py",
   "mimetype": "text/x-python",
   "name": "python",
   "nbconvert_exporter": "python",
   "pygments_lexer": "ipython3",
   "version": "3.8.3"
  }
 },
 "nbformat": 4,
 "nbformat_minor": 4
}
