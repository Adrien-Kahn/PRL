{
 "cells": [
  {
   "cell_type": "markdown",
   "metadata": {},
   "source": [
    "# Full Tridiagonalization"
   ]
  },
  {
   "cell_type": "code",
   "execution_count": 1,
   "metadata": {},
   "outputs": [],
   "source": [
    "import numpy as np\n",
    "import matplotlib.pyplot as plt\n",
    "from qutip import *\n",
    "\n",
    "from scipy.optimize import minimize\n",
    "from scipy.signal import argrelmin"
   ]
  },
  {
   "cell_type": "code",
   "execution_count": 2,
   "metadata": {},
   "outputs": [],
   "source": [
    "T = 0.05\n",
    "beta = 1/T\n",
    "\n",
    "# The discretized values of omega\n",
    "omega = np.linspace(-10, 10, 100000, dtype = complex)\n",
    "\n",
    "# The Matsubara frequencies\n",
    "max_freq = 100\n",
    "n_freq = int(((max_freq * beta / np.pi) - 1) / 2) + 1\n",
    "matsu_freq = (2 * np.array(range(-n_freq, n_freq), dtype = complex) + 1) * np.pi / beta\n",
    "\n",
    "# The small delta\n",
    "delta = 1e-3"
   ]
  },
  {
   "cell_type": "code",
   "execution_count": 3,
   "metadata": {},
   "outputs": [],
   "source": [
    "# Plots complex array by showing real and imaginary parts\n",
    "# Supports both single array and lists of arrays\n",
    "def plot_complex(a, title, is_matsu = True, labels = None, show_inv = False, xlim = None):\n",
    "    \n",
    "    fig, ax = plt.subplots(1,2, figsize = (12,5))\n",
    "    fig.suptitle(title)\n",
    "    \n",
    "    if is_matsu:\n",
    "        y = matsu_freq\n",
    "    else:\n",
    "        y = omega\n",
    "    \n",
    "    if not type(a[0]) == np.complex128:\n",
    "        arr = a\n",
    "        if labels == None:\n",
    "            labelss = [None] * len(arr)\n",
    "        else:\n",
    "            labelss = labels\n",
    "    else:\n",
    "        arr = [a]\n",
    "        labelss = [labels]\n",
    "        \n",
    "    for k,f in enumerate(arr):\n",
    "        ax[0].plot(np.real(y), np.real(f), label = labelss[k])\n",
    "        ax[1].plot(np.real(y), np.imag(f), label = labelss[k])\n",
    "        if show_inv:\n",
    "            ax[1].plot(np.real(matsu_freq), - 1 / np.real(matsu_freq))\n",
    "            ax[1].set_ylim(np.min(np.imag(np.array(arr))), np.max(np.imag(np.array(arr))))\n",
    "        \n",
    "        if xlim != None:\n",
    "            ax[1].set_xlim(xlim)\n",
    "\n",
    "    ax[0].set_title(\"Real Part\")\n",
    "    ax[1].set_title(\"Imaginary Part\")\n",
    "    if labels != None:\n",
    "        plt.legend()"
   ]
  },
  {
   "cell_type": "markdown",
   "metadata": {},
   "source": [
    "We retrieve the parameters $\\{V_k, \\epsilon_k\\}_k$ of the Anderson impurity model from the hybridization function:\n",
    "\n",
    "$$\\Delta(\\omega) = \\sum_k \\frac{V_k^2}{\\omega - \\epsilon_k + i\\delta}$$\n",
    "\n",
    "We place ourselves at half-filling so that $\\mu = \\frac U2$, and the AIM hamiltonian reads:\n",
    "\n",
    "$$H = U n_\\uparrow n_\\downarrow - \\frac U 2 (n_\\uparrow + n_\\downarrow) + \\sum_{k,\\sigma} \\epsilon_k a_{k,\\sigma}^\\dagger a_{k,\\sigma} + \\sum_{k,\\sigma} V_k (a_{k,\\sigma}^\\dagger c_\\sigma + c_\\sigma^\\dagger a_{k,\\sigma})$$\n",
    "\n",
    "where $a_{k,\\sigma}^\\dagger$ denotes the creation operator of an electron in the bath, $c_\\sigma^\\dagger$ denotes the creation operator of the impurity electron and $n_\\sigma = c_\\sigma^\\dagger c_\\sigma$.\n",
    "\n",
    "### Retrieval of the hamiltonian parameters\n",
    "\n",
    "$\\Delta(\\omega)$ is represented as an array of complex numbers corresponding to different values of $\\omega$. We recover the hamiltonian parameters $\\{V_k, \\epsilon_k\\}_k$ by optimizing a function:\n",
    "\n",
    "$$f : \\{V_k, \\epsilon_k\\}_k \\to \\Delta(\\omega) $$\n",
    "\n",
    "against the real $\\Delta(\\omega)$.\n",
    "\n",
    "To obtain an initial guess, we use the fact that the local minima of $\\Im (\\Delta(\\omega))$ are the $\\epsilon_k$ and that close to $\\epsilon_k$, its contribution will dominate so that:\n",
    "\n",
    "$$V_k^2 \\approx - \\delta \\Im (\\Delta(\\epsilon_k))$$"
   ]
  },
  {
   "cell_type": "code",
   "execution_count": 4,
   "metadata": {},
   "outputs": [],
   "source": [
    "# Retrieval of hamiltonian parameters from the hybridization function with Matsubara frequencies\n",
    "\n",
    "def matsuHybridizationFunction(V, e):\n",
    "    n = len(V)\n",
    "    s = matsu_freq * 0\n",
    "    for k in range(n):\n",
    "        s += V[k]**2 / (1.j * matsu_freq - e[k])\n",
    "    return s\n",
    "\n",
    "def matsuHamParameters(matsu_hyb_func, n_k):\n",
    "    \n",
    "    # The format of the argument of matsu_optimize_me is V_i, e_i\n",
    "    def matsu_optimize_me(args):\n",
    "        n = len(args)\n",
    "        V = args[:n//2]\n",
    "        e = args[n//2:]\n",
    "        return np.linalg.norm(matsu_hyb_func - matsuHybridizationFunction(V, e)) ** 2\n",
    "    \n",
    "    args_ini = np.zeros(2 * n_k)\n",
    "    \n",
    "    # minimize matsu_optimize_me\n",
    "    res = minimize(matsu_optimize_me, args_ini, method = 'Powell', tol = 1e-10)\n",
    "    V = res.x[:n_k]\n",
    "    e = res.x[n_k:]\n",
    "    return V, e, res.fun"
   ]
  },
  {
   "cell_type": "code",
   "execution_count": 5,
   "metadata": {},
   "outputs": [
    {
     "data": {
      "text/plain": [
       "(array([ 0.78073473, -6.93467011,  5.43487974]),\n",
       " array([-0.98448317, -2.73205884, -3.23632146]),\n",
       " 252.51723381322847)"
      ]
     },
     "execution_count": 5,
     "metadata": {},
     "output_type": "execute_result"
    }
   ],
   "source": [
    "# Check that it works properly\n",
    "\n",
    "n_k = 3\n",
    "V = [3.6, 2.3, 8.1]\n",
    "e = [-2.1, 1.1, -3.1]\n",
    "\n",
    "matsu_hyb_func = matsuHybridizationFunction(V, e)\n",
    "matsuHamParameters(matsu_hyb_func, n_k)"
   ]
  },
  {
   "cell_type": "markdown",
   "metadata": {},
   "source": [
    "# Constructing the hamiltonian\n",
    "\n",
    "Using the hamiltonian parameters $\\{V_k, \\epsilon_k\\}_k$, we can now construct the hamiltonian. We use the following convention indexing the sites with $i$:\n",
    "- If $i$ is even, the site has spin up\n",
    "- If $i$ is odd, the site has spin down\n",
    "- $i//2 = 0$ indicates the impurity site\n",
    "- $i//2 = k > 0$ indicates site k - 1\n",
    "\n",
    "For example 100100 indicates that the spin up impurity site and the spin down first bath level are filled.\n",
    "\n",
    "Creation operator are ordered with the smallest index on the left:\n",
    "\n",
    "$$ |100100\\rangle = a_\\uparrow^\\dagger c_{1, \\downarrow}^\\dagger |000000\\rangle = c_1^\\dagger c_4^\\dagger |000000\\rangle$$\n",
    "\n",
    "### Change sign with ordering of operator\n",
    "\n",
    "With fermionic system, a state is defined with a conventional ordering of fermionic operators. For example:\n",
    "\n",
    "$$ | 1001 \\rangle = c_1^\\dagger c_4^\\dagger | 0 \\rangle = - c_4^\\dagger c_1^\\dagger | 0 \\rangle $$\n",
    "$$ | 1110 \\rangle = c_1^\\dagger c_2^\\dagger c_3^\\dagger | 0 \\rangle $$\n",
    "\n",
    "The Hamiltonian should reflect this because `create` and `destroy` do not have the good anticommutation relations.\n",
    "\n",
    "Defining $c_k^\\dagger = \\bigotimes_{j < k} \\sigma_j^z \\otimes \\sigma_k^+$ ensures the correct anticommutation relations."
   ]
  },
  {
   "cell_type": "code",
   "execution_count": 6,
   "metadata": {},
   "outputs": [],
   "source": [
    "def AIM(V, e, U):\n",
    "    \n",
    "    # Number of sites in the bath\n",
    "    nk = len(V)\n",
    "    \n",
    "    # Total number of sites\n",
    "    n = 2 * (nk + 1)\n",
    "    \n",
    "    # Defines the fermionic creation operators\n",
    "    cdags = []\n",
    "    for k in range(n):\n",
    "        prod = [sigmaz() for x in range(k)] + [create(2)] + [qeye(2) for x in range(n - k - 1)]\n",
    "        cdags.append(tensor(prod))\n",
    "    \n",
    "    # Impurity on-site interaction\n",
    "    prod = [qeye(2) for x in range(n)]\n",
    "    prod[0] = num(2)\n",
    "    prod[1] = num(2)\n",
    "    H1 = U * tensor(prod)\n",
    "    \n",
    "    # Impurity chemical potential\n",
    "    prod = [qeye(2) for x in range(n)]\n",
    "    prod[0] = num(2)\n",
    "    H2 = - (U/2) * tensor(prod)\n",
    "    prod = [qeye(2) for x in range(n)]\n",
    "    prod[1] = num(2)\n",
    "    H2 += - (U/2) * tensor(prod)\n",
    "    \n",
    "    # Bath energy levels\n",
    "    H3 = H1 * 0\n",
    "    for k in range(nk):\n",
    "        for spin in range(2):\n",
    "            prod = [qeye(2) for x in range(n)]\n",
    "            prod[2*(k + 1) + spin] = num(2)\n",
    "            H3 += e[k] * tensor(prod)\n",
    "    \n",
    "    # Bath-impurity interaction\n",
    "    H4 = H1 * 0\n",
    "    for k in range(nk):\n",
    "        for spin in range(2):\n",
    "            \n",
    "            H4 += V[k] * cdags[2*(k + 1) + spin] * cdags[spin].dag()\n",
    "            \n",
    "            H4 += V[k] * cdags[spin] * cdags[2*(k + 1) + spin].dag()\n",
    "            \n",
    "    return H1 + H2 + H3 + H4"
   ]
  },
  {
   "cell_type": "markdown",
   "metadata": {},
   "source": [
    "##### An example to check that the hamiltonian is correct"
   ]
  },
  {
   "cell_type": "code",
   "execution_count": 7,
   "metadata": {
    "scrolled": true
   },
   "outputs": [
    {
     "data": {
      "text/latex": [
       "Quantum object: dims = [[2, 2, 2, 2, 2, 2], [2, 2, 2, 2, 2, 2]], shape = (64, 64), type = oper, isherm = True\\begin{equation*}\\left(\\begin{array}{*{11}c}0.0 & 0.0 & 0.0 & 0.0 & 0.0 & \\cdots & 0.0 & 0.0 & 0.0 & 0.0 & 0.0\\\\0.0 & -3.0 & 0.0 & 0.0 & 0.0 & \\cdots & 0.0 & 0.0 & 0.0 & 0.0 & 0.0\\\\0.0 & 0.0 & -3.0 & 0.0 & 0.0 & \\cdots & 0.0 & 0.0 & 0.0 & 0.0 & 0.0\\\\0.0 & 0.0 & 0.0 & -6.0 & 0.0 & \\cdots & 0.0 & 0.0 & 0.0 & 0.0 & 0.0\\\\0.0 & 0.0 & 0.0 & 0.0 & 3.0 & \\cdots & 0.0 & 0.0 & 0.0 & 0.0 & 0.0\\\\\\vdots & \\vdots & \\vdots & \\vdots & \\vdots & \\ddots & \\vdots & \\vdots & \\vdots & \\vdots & \\vdots\\\\0.0 & 0.0 & 0.0 & 0.0 & 0.0 & \\cdots & -3.0 & 0.0 & 0.0 & 0.0 & 0.0\\\\0.0 & 0.0 & 0.0 & 0.0 & 0.0 & \\cdots & 0.0 & 6.0 & 0.0 & 0.0 & 0.0\\\\0.0 & 0.0 & 0.0 & 0.0 & 0.0 & \\cdots & 0.0 & 0.0 & 3.0 & 0.0 & 0.0\\\\0.0 & 0.0 & 0.0 & 0.0 & 0.0 & \\cdots & 0.0 & 0.0 & 0.0 & 3.0 & 0.0\\\\0.0 & 0.0 & 0.0 & 0.0 & 0.0 & \\cdots & 0.0 & 0.0 & 0.0 & 0.0 & 0.0\\\\\\end{array}\\right)\\end{equation*}"
      ],
      "text/plain": [
       "Quantum object: dims = [[2, 2, 2, 2, 2, 2], [2, 2, 2, 2, 2, 2]], shape = (64, 64), type = oper, isherm = True\n",
       "Qobj data =\n",
       "[[ 0.  0.  0. ...  0.  0.  0.]\n",
       " [ 0. -3.  0. ...  0.  0.  0.]\n",
       " [ 0.  0. -3. ...  0.  0.  0.]\n",
       " ...\n",
       " [ 0.  0.  0. ...  3.  0.  0.]\n",
       " [ 0.  0.  0. ...  0.  3.  0.]\n",
       " [ 0.  0.  0. ...  0.  0.  0.]]"
      ]
     },
     "execution_count": 7,
     "metadata": {},
     "output_type": "execute_result"
    }
   ],
   "source": [
    "H = AIM([2, 2], [3, -3], 1)\n",
    "H"
   ]
  },
  {
   "cell_type": "code",
   "execution_count": 8,
   "metadata": {
    "scrolled": false
   },
   "outputs": [
    {
     "data": {
      "text/plain": [
       "(-0.5+0j)"
      ]
     },
     "execution_count": 8,
     "metadata": {},
     "output_type": "execute_result"
    }
   ],
   "source": [
    "H[int('100000', 2), int('100000', 2)]"
   ]
  },
  {
   "cell_type": "markdown",
   "metadata": {},
   "source": [
    "### Impurity Green's function\n",
    "\n",
    "We compute the diagonal element of the Green's function corresponding to the impurity spin up site in frequency space.\n",
    "\n",
    "$$ G(\\omega) = \\frac{1}{Z} \\sum_{n,n'} \\frac{|\\langle n' | c_\\uparrow^\\dagger | n \\rangle|^2}{\\omega + E_n - E_{n'} + i\\delta} \\left( e^{-\\beta E_n} + e^{-\\beta E_{n'}} \\right) $$\n",
    "\n",
    "$$ G(i \\omega_k) = \\frac{1}{Z} \\sum_{n,n'} \\frac{|\\langle n' | c_\\uparrow^\\dagger | n \\rangle|^2}{i \\omega_k + E_n - E_{n'}} \\left( e^{-\\beta E_n} + e^{-\\beta E_{n'}} \\right) $$"
   ]
  },
  {
   "cell_type": "code",
   "execution_count": 9,
   "metadata": {},
   "outputs": [],
   "source": [
    "# Returns the spin up impurity green's function given the hamiltonian\n",
    "\n",
    "def impurity_green(H, T):\n",
    "    \n",
    "    beta = 1/T\n",
    "    \n",
    "    # Get the eigendecomposition\n",
    "    eigvals, eigvecs = np.linalg.eigh(H._data.todense())\n",
    "    n = len(eigvals)\n",
    "    \n",
    "    # We set the ground energy to 0 to avoid problems in the exponential\n",
    "    eigvals = eigvals - eigvals[0]\n",
    "    \n",
    "    # The partition function\n",
    "    Z = np.sum(np.exp(-beta * eigvals))\n",
    "    \n",
    "    # Green's function\n",
    "    G = 0\n",
    "    for i in range(n):\n",
    "        for j in range(n):\n",
    "            \n",
    "            ei = eigvecs[:,i].copy()\n",
    "            ej = eigvecs[:,j].copy()\n",
    "            \n",
    "            # Computing c^dagger|j>\n",
    "            ej[n//2:] = ej[:n//2]\n",
    "            ej[:n//2] = 0\n",
    "            \n",
    "            prob = abs((ei.H @ ej)[0,0])**2\n",
    "            \n",
    "            G += prob * (np.exp(-beta * eigvals[i]) + np.exp(-beta * eigvals[j])) / (omega + eigvals[j] - eigvals[i] + 1.j * delta)\n",
    "    \n",
    "    return G / Z"
   ]
  },
  {
   "cell_type": "code",
   "execution_count": 10,
   "metadata": {},
   "outputs": [],
   "source": [
    "# Returns the spin up impurity green's function with Matsubara frequencies given the hamiltonian\n",
    "\n",
    "def matsu_impurity_green(H, T):\n",
    "    \n",
    "    beta = 1/T\n",
    "    \n",
    "    # Get the eigendecomposition\n",
    "    eigvals, eigvecs = np.linalg.eigh(H._data.todense())\n",
    "    n = len(eigvals)\n",
    "    \n",
    "    # We set the ground energy to 0 to avoid problems in the exponential\n",
    "    eigvals = eigvals - eigvals[0]\n",
    "    \n",
    "    # The partition function\n",
    "    Z = np.sum(np.exp(-beta * eigvals))\n",
    "    \n",
    "    # Green's function\n",
    "    G = 0\n",
    "    for i in range(n):\n",
    "        for j in range(n):\n",
    "            \n",
    "            ei = eigvecs[:,i].copy()\n",
    "            ej = eigvecs[:,j].copy()\n",
    "            \n",
    "            # Computing c^dagger|j>\n",
    "            # No anticommutation problem because we consider the first site\n",
    "            ej[n//2:] = ej[:n//2]\n",
    "            ej[:n//2] = 0                \n",
    "            \n",
    "            prob = abs((ei.H @ ej)[0,0])**2\n",
    "            \n",
    "            G += prob * (np.exp(-beta * eigvals[i]) + np.exp(-beta * eigvals[j])) / (1.j * matsu_freq + eigvals[j] - eigvals[i])\n",
    "    \n",
    "    return G / Z"
   ]
  },
  {
   "cell_type": "markdown",
   "metadata": {},
   "source": [
    "### Computing Green's function with the Lanczos algorithm\n",
    "\n",
    "##### At zero temperature\n",
    "\n",
    "- Compute the ground state\n",
    "- Obtain the Lanczos coefficients starting from the ground state"
   ]
  },
  {
   "cell_type": "code",
   "execution_count": 43,
   "metadata": {},
   "outputs": [],
   "source": [
    "# Performs Gram-Schmidt reorthogonalization\n",
    "\n",
    "def GramSchmidt(lx):\n",
    "    ly = []\n",
    "    for i,x in enumerate(lx):\n",
    "        y = x\n",
    "        for j in range(i):\n",
    "            y += - (x.dag() * ly[j]).tr() * ly[j]\n",
    "        ly.append(y / y.norm())\n",
    "    return ly"
   ]
  },
  {
   "cell_type": "code",
   "execution_count": 44,
   "metadata": {},
   "outputs": [],
   "source": [
    "# Performs m iteration of the Lanczos algorithm on H with initial vector x\n",
    "\n",
    "def Lanczos(H, x, m, reortho = False, warning = False):\n",
    "    \n",
    "    lx = [0 * x, x]\n",
    "    a = []\n",
    "    b = [0]\n",
    "    \n",
    "    for k in range(m - 1):\n",
    "        \n",
    "        y = H * lx[-1]\n",
    "        a.append((lx[-1].dag() * y).tr())\n",
    "        y = y - a[-1] * lx[-1] - b[-1] * lx[-2]\n",
    "        b.append(y.norm())\n",
    "        lx.append(y / b[-1])\n",
    "        \n",
    "        # Removes the first vector 0 once it is no longer needed\n",
    "        if k == 0:\n",
    "            del lx[0]\n",
    "        \n",
    "        # Reorthogonalize\n",
    "        if reortho:\n",
    "            lx = GramSchmidt(lx)\n",
    "        \n",
    "        # Warn in case b becomes small\n",
    "        if b[-1] < 1e-5 and warning:\n",
    "            print(r\"Warning: Small b\")\n",
    "\n",
    "    y = H * lx[-1]\n",
    "    a.append((lx[-1].dag() * y).tr())\n",
    "    \n",
    "    \"\"\"\n",
    "    for i,x in enumerate(lx):\n",
    "        for j in range(i):\n",
    "            sp = (x.dag() * lx[j]).tr()\n",
    "            if sp > 1e-5:\n",
    "                print('not ortho')\n",
    "    \"\"\"\n",
    "    \n",
    "    return lx, a, b"
   ]
  },
  {
   "cell_type": "code",
   "execution_count": 13,
   "metadata": {},
   "outputs": [],
   "source": [
    "# Recompose the matrices T and U from the output of Lanczos such that H = U * T * U^dag\n",
    "\n",
    "def Lanczos_recompose(lx, a, b):\n",
    "    \n",
    "    m = len(a)\n",
    "    n = lx[0].shape[0]\n",
    "    \n",
    "    T = np.zeros((m,m), dtype = complex)\n",
    "    U = np.zeros((n,m), dtype = complex)\n",
    "\n",
    "    for k in range(m - 1):\n",
    "        T[k,k] = a[k]\n",
    "        T[k, k + 1] = b[k + 1]\n",
    "        T[k + 1, k] = b[k + 1]\n",
    "    T[-1, -1] = a[-1]\n",
    "\n",
    "    for k in range(m):\n",
    "        U[:,k] = np.array(lx[k]).flatten()\n",
    "\n",
    "    return Qobj(T), Qobj(U)"
   ]
  },
  {
   "cell_type": "code",
   "execution_count": 14,
   "metadata": {
    "scrolled": true
   },
   "outputs": [
    {
     "name": "stdout",
     "output_type": "stream",
     "text": [
      "[-2.16852058e+00 -1.40753645e+00  2.62766058e-16  1.89150472e+00\n",
      "  2.50000000e+00  2.82041335e+00  3.90753645e+00  6.00000000e+00\n",
      "  6.60849528e+00  7.84810723e+00]\n",
      "[-2.16852058 -1.40753645 -1.40753645  0.          1.89150472  1.89150472\n",
      "  2.5         2.5         2.5         2.82041335  3.90753645  3.90753645\n",
      "  6.          6.60849528  6.60849528  7.84810723]\n"
     ]
    }
   ],
   "source": [
    "# A test with one bath site\n",
    "\n",
    "M = AIM([2], [3], 1)\n",
    "M.dims = [[16],[16]]\n",
    "\n",
    "x0 = Qobj(np.random.rand(16))\n",
    "x0 = x0 / x0.norm()\n",
    "\n",
    "lx, a, b = Lanczos(M, x0, 10, reortho = False)\n",
    "\n",
    "Tm, U = Lanczos_recompose(lx, a, b)\n",
    "\n",
    "Teigs, Tvecs = np.linalg.eigh(Tm._data.todense())\n",
    "Meigs, Mvecs = np.linalg.eigh(M._data.todense())\n",
    "\n",
    "print(Teigs)\n",
    "print(Meigs)"
   ]
  },
  {
   "cell_type": "markdown",
   "metadata": {},
   "source": [
    "### Impurity Green's function as a sum of continuous fractions\n",
    "\n",
    "If we neglect the contribution from non-ground states, the impurity Green's function reads:\n",
    "\n",
    "$$ G(z) = ||c^\\dagger | \\text{GS} \\rangle ||^2 g_{\\phi^+}(z + E_0) - ||c | \\text{GS} \\rangle ||^2 g_{\\phi^-}(-z + E_0)$$\n",
    "\n",
    "with $\\phi^+ = \\frac{c^\\dagger | \\text{GS} \\rangle}{||c^\\dagger | \\text{GS} \\rangle ||}$ and $\\phi^- = \\frac{c | \\text{GS} \\rangle}{||c | \\text{GS} \\rangle ||}$ and following the definition:\n",
    "\n",
    "$$ g_\\phi(z) = \\langle \\phi | (z - H)^{-1} | \\phi \\rangle $$\n",
    "\n",
    "Upon obtaining the Lanczos decomposition, we can express $g_\\phi(z)$ as a continuous fraction:\n",
    "\n",
    "$$ g_\\phi(z) = \\frac{1}{z - a_0 - \\frac{b_1^2}{z - a_1 - \\frac{b_2^2}{...}}} $$"
   ]
  },
  {
   "cell_type": "code",
   "execution_count": 15,
   "metadata": {},
   "outputs": [],
   "source": [
    "# Constructs the continuous fraction from the Lanczos decomposition\n",
    "\n",
    "def cont_frac(z, a, b):\n",
    "    n = len(a)\n",
    "    g = 1 / z - a[n - 1]\n",
    "    for k in range(n - 2, -1, -1):\n",
    "        g = 1 / (z - a[k] - (b[k] / g))\n",
    "    return g"
   ]
  },
  {
   "cell_type": "code",
   "execution_count": 16,
   "metadata": {},
   "outputs": [],
   "source": [
    "# Returns the spin up impurity green's function given the hamiltonian using the Lanczos algorithm\n",
    "\n",
    "# m1 is the number of Lanczos iteration for the first step and m2 for the second\n",
    "\n",
    "# TO BEGIN WE ASSUME THAT THE TEMPERATURE IS LOW ENOUGH THAT WE CAN NEGLECT ALL TERMS DIFFERENT FROM THE GROUND STATE\n",
    "\n",
    "def Lanczos_green(H, T, m1, m2, reortho):\n",
    "    \n",
    "    # Compute the ground state\n",
    "    n = H.shape[0]\n",
    "    H.dims = [[n],[n]]\n",
    "    x0 = Qobj(np.random.rand(n))\n",
    "    x0 = x0 / x0.norm()\n",
    "    \n",
    "    lx, a, b = Lanczos(H, x0, m1, reortho = reortho)\n",
    "    T, U = Lanczos_recompose(lx, a, b)\n",
    "    \n",
    "    Teigs, Tvecs = np.linalg.eigh(T._data.todense())\n",
    "    \n",
    "    GS = U * Qobj(Tvecs[:,0])\n",
    "    GS = GS / GS.norm()\n",
    "    E0 = (GS.dag() * H * GS / GS.norm()**2).tr()\n",
    "    \n",
    "    # Lanczos with c^dag GS\n",
    "    cdag = tensor([create(2)] + [qeye(2) for _ in range(int(np.log2(n) - 1))])\n",
    "    cdag.dims = [[n],[n]]\n",
    "    phi_p = cdag * GS\n",
    "    phi_p_norm = phi_p.norm()\n",
    "    phi_p = phi_p / phi_p_norm\n",
    "    lx_p, a_p, b_p = Lanczos(H, phi_p, m2, reortho = reortho)\n",
    "    \n",
    "    # Construct the continuous fraction +\n",
    "    g_p = cont_frac(1.j * matsu_freq + E0, a_p, b_p)\n",
    "    \n",
    "    # Lanczos with c GS\n",
    "    phi_m = cdag.dag() * GS\n",
    "    phi_m_norm = phi_m.norm()\n",
    "    phi_m = phi_m / phi_m_norm\n",
    "    lx_m, a_m, b_m = Lanczos(H, phi_m, m2, reortho = reortho)\n",
    "    \n",
    "    # Construct the continuous fraction -\n",
    "    g_m = cont_frac(- 1.j * matsu_freq + E0, a_m, b_m)\n",
    "    \n",
    "    return phi_p_norm**2 * g_p - phi_m_norm**2 * g_m"
   ]
  },
  {
   "cell_type": "code",
   "execution_count": 27,
   "metadata": {},
   "outputs": [],
   "source": [
    "# Returns the spin up impurity green's function given the hamiltonian using the Lanczos algorithm\n",
    "\n",
    "# m1 is the number of Lanczos iteration for the first step and m2 for the second\n",
    "\n",
    "def Lanczos_green_full(H, T, state_num, m1, m2, reortho, seed):\n",
    "        \n",
    "    # Compute the state_num first state\n",
    "    n = H.shape[0]\n",
    "    H.dims = [[n],[n]]\n",
    "    \n",
    "    if seed != -1:\n",
    "        np.random.seed(seed)\n",
    "    \n",
    "    x0 = Qobj(np.random.rand(n))\n",
    "    x0 = x0 / x0.norm()\n",
    "    \n",
    "    lx, a, b = Lanczos(H, x0, m1, reortho = reortho)\n",
    "    Tm, U = Lanczos_recompose(lx, a, b)\n",
    "    \n",
    "    Teigs, Tvecs = np.linalg.eigh(Tm._data.todense())\n",
    "    \n",
    "    state_list = []\n",
    "    energy_list = []\n",
    "    for k in range(state_num):\n",
    "        state = U * Qobj(Tvecs[:,k])\n",
    "        state = state / state.norm()\n",
    "        E = (state.dag() * H * state / state.norm()**2).tr()\n",
    "        state_list.append(state)\n",
    "        energy_list.append(E)\n",
    "    \n",
    "    energy_list = np.array(energy_list)\n",
    "\n",
    "    # We set the ground energy to 0 to avoid problems in the exponential\n",
    "    E0 = energy_list[0]\n",
    "    energy_list = energy_list - E0\n",
    "    \n",
    "    Z = np.sum(np.exp(- energy_list / T))\n",
    "\n",
    "    G = 0\n",
    "\n",
    "    for k, psi in enumerate(state_list):\n",
    "\n",
    "        Ek = energy_list[k]\n",
    "\n",
    "        # Lanczos with c^dag psi\n",
    "        cdag = tensor([create(2)] + [qeye(2) for _ in range(int(np.log2(n) - 1))])\n",
    "        cdag.dims = [[n],[n]]\n",
    "        phi_p = cdag * psi\n",
    "        phi_p_norm = phi_p.norm()\n",
    "        phi_p = phi_p / phi_p_norm\n",
    "        lx_p, a_p, b_p = Lanczos(H, phi_p, m2, reortho = reortho)\n",
    "\n",
    "        # Construct the continuous fraction +\n",
    "        g_p = cont_frac(1.j * matsu_freq + Ek + E0, a_p, b_p)\n",
    "\n",
    "        # Lanczos with c psi\n",
    "        phi_m = cdag.dag() * psi\n",
    "        phi_m_norm = phi_m.norm()\n",
    "        phi_m = phi_m / phi_m_norm\n",
    "        lx_m, a_m, b_m = Lanczos(H, phi_m, m2, reortho = reortho)\n",
    "\n",
    "        # Construct the continuous fraction -\n",
    "        g_m = cont_frac(- 1.j * matsu_freq + Ek + E0, a_m, b_m)\n",
    "\n",
    "        G += np.exp(- Ek / T) * (phi_p_norm**2 * g_p - phi_m_norm**2 * g_m)\n",
    "\n",
    "    return G / Z"
   ]
  },
  {
   "cell_type": "markdown",
   "metadata": {},
   "source": [
    "# DMFT loop\n",
    "\n",
    "We work on the Bethe lattice for a simplified loop: $\\Delta(\\omega) = t^2 G_\\text{imp}$"
   ]
  },
  {
   "cell_type": "code",
   "execution_count": 39,
   "metadata": {},
   "outputs": [],
   "source": [
    "# Returns the spin up impurity green's function given the hybridization function\n",
    "\n",
    "def matsu_loopstep(matsu_hyb_func, n_k, U, T, lanczos = False, num_states = 1, m = 10, return_real = True, verbose = False, seed = -1):\n",
    "    \n",
    "    if verbose:\n",
    "        print(\"Retrieving hamiltonian parameters\")\n",
    "    \n",
    "    V, e, val = matsuHamParameters(matsu_hyb_func, n_k)\n",
    "    \n",
    "    if verbose:    \n",
    "        print(\"Optimization MSE: {:.4}\".format(val))\n",
    "        print(V)\n",
    "        print(e)\n",
    "    \n",
    "    H = AIM(V, e, U)\n",
    "    \n",
    "    if verbose:\n",
    "        print(\"Computing green's function\\n\")\n",
    "    \n",
    "    if lanczos:\n",
    "        G = Lanczos_green_full(H, T, num_states, m, m, True, seed)\n",
    "    else:\n",
    "        G = matsu_impurity_green(H, T)\n",
    "    \n",
    "    if return_real:\n",
    "        realG = impurity_green(H, T)\n",
    "        return G, realG\n",
    "    else:\n",
    "        return G"
   ]
  },
  {
   "cell_type": "markdown",
   "metadata": {},
   "source": [
    "### Initial Green's function\n",
    "\n",
    "We start with a circular spectral function:\n",
    "\n",
    "$$G_\\text{ini}(\\omega) = \\frac{\\omega - \\text{sgn}(\\omega)\\sqrt{\\omega^2 - 4t^2}}{2t^2}$$\n",
    "or $$G_\\text{ini}(i\\omega_n) = \\frac{i\\omega_n - \\text{sgn}(\\omega_n)i\\sqrt{\\omega_n^2 + 4t^2}}{2t^2}$$"
   ]
  },
  {
   "cell_type": "code",
   "execution_count": 19,
   "metadata": {
    "scrolled": true
   },
   "outputs": [
    {
     "data": {
      "image/png": "[encoded data removed]",
      "text/plain": [
       "<Figure size 864x360 with 2 Axes>"
      ]
     },
     "metadata": {
      "needs_background": "light"
     },
     "output_type": "display_data"
    },
    {
     "data": {
      "image/png": "[encoded data removed]",
      "text/plain": [
       "<Figure size 864x360 with 2 Axes>"
      ]
     },
     "metadata": {
      "needs_background": "light"
     },
     "output_type": "display_data"
    }
   ],
   "source": [
    "t = 0.5\n",
    "\n",
    "hyb_func = (omega - np.sign(np.real(omega)) * (omega ** 2 - 4 * t ** 2) ** 0.5) / (2 * t ** 2)\n",
    "plot_complex(hyb_func, \"Real frequency Green's function\", is_matsu = False)\n",
    "\n",
    "matsu_hyb_func = (1.j * matsu_freq - np.sign(np.real(matsu_freq)) * 1.j * (matsu_freq ** 2 + 4 * t ** 2) ** 0.5) / (2 * t ** 2)\n",
    "plot_complex(matsu_hyb_func, \"Matsubara frequency Green's function\", is_matsu = True)"
   ]
  },
  {
   "cell_type": "code",
   "execution_count": 45,
   "metadata": {
    "scrolled": false
   },
   "outputs": [
    {
     "name": "stdout",
     "output_type": "stream",
     "text": [
      "Step 1\n",
      "Done\n"
     ]
    },
    {
     "data": {
      "image/png": "[encoded data removed]",
      "text/plain": [
       "<Figure size 864x360 with 2 Axes>"
      ]
     },
     "metadata": {
      "needs_background": "light"
     },
     "output_type": "display_data"
    }
   ],
   "source": [
    "# In Matsubara frequency\n",
    "\n",
    "# T was defined above\n",
    "n_k = 2\n",
    "U = 0.1\n",
    "\n",
    "seed = 2\n",
    "\n",
    "xlim = (-20,20)\n",
    "\n",
    "t = 0.5\n",
    "matsu_hyb_func = (1.j * matsu_freq - np.sign(np.real(matsu_freq)) * 1.j * (matsu_freq ** 2 + 4 * t ** 2) ** 0.5) / (2 * t ** 2)\n",
    "\n",
    "matsu_hyb_func_list = [matsu_hyb_func.copy() for _ in range(3)]\n",
    "labels = [\"ED\", \"$m = 20, k = 1$\", \"$m = 20, k = 2$\", \"$m = 20, k = 3$\", \"$m = 20, k = 20$\"]\n",
    "\n",
    "for k in range(1):\n",
    "    \n",
    "    print(\"Step {}\".format(k + 1))\n",
    "    \n",
    "    matsu_hyb_func_list[0] = matsu_loopstep(matsu_hyb_func_list[0], n_k, U, T, return_real = False)\n",
    "    matsu_hyb_func_list[1] = matsu_loopstep(matsu_hyb_func_list[1], n_k, U, T, lanczos = True, num_states = 1, m = 20, return_real = False, seed = seed)\n",
    "    matsu_hyb_func_list[2] = matsu_loopstep(matsu_hyb_func_list[2], n_k, U, T, lanczos = True, num_states = 2, m = 20, return_real = False, seed = seed)\n",
    "    #matsu_hyb_func_list[3] = matsu_loopstep(matsu_hyb_func_list[3], n_k, U, T, lanczos = True, num_states = 3, m = 20, return_real = False, seed = seed)\n",
    "    #matsu_hyb_func_list[4] = matsu_loopstep(matsu_hyb_func_list[4], n_k, U, T, lanczos = True, num_states = 20, m = 20, return_real = False, seed = seed)\n",
    "    \n",
    "    #plot_complex(realG, \"Real frequency Green's function at step \" + str(k + 1), is_matsu = False)\n",
    "    \n",
    "    plot_complex(matsu_hyb_func_list, \"Matsubara frequency Green's function at step \" + str(k + 1), is_matsu = True, show_inv = False, labels = labels, xlim = xlim)\n",
    "\n",
    "print(\"Done\")"
   ]
  },
  {
   "cell_type": "markdown",
   "metadata": {},
   "source": [
    "# Questions\n",
    "\n",
    "- Formula $(8)$\n",
    "- Energy shift in $g_\\phi$"
   ]
  },
  {
   "cell_type": "markdown",
   "metadata": {},
   "source": [
    "### Random notes\n",
    "\n",
    "$$ G(i\\omega_n) = G^*(-i\\omega_n) $$\n",
    "\n",
    "Matsubara Green's function should have symmetric real part and antisymmetric imaginary part. Retarded Green's function should be the opposite: antisymmetric real part and symmetric imaginary part.\n",
    "\n",
    "The extrapolation at 0 of the imaginary part of $G(i\\omega_n)$ should be $A(0)$ (The value at 0 of the corresponding spectral function).\n",
    "\n",
    "The imaginary part of $G(i\\omega_n)$ should decay as $1/\\omega_n$."
   ]
  },
  {
   "cell_type": "markdown",
   "metadata": {},
   "source": [
    "Every energies should be degenerated twice\n",
    "\n",
    "Real frequency GF should have symmetric peak"
   ]
  },
  {
   "cell_type": "markdown",
   "metadata": {},
   "source": [
    "# Old stuff\n",
    "\n",
    "Real frequency loop and other old stuff that doesn't work."
   ]
  },
  {
   "cell_type": "code",
   "execution_count": 4,
   "metadata": {},
   "outputs": [],
   "source": [
    "def hybridizationFunction(V, e):\n",
    "    n = len(V)\n",
    "    s = omega * 0\n",
    "    for k in range(n):\n",
    "        s += V[k]**2 / (omega - e[k] + 1.j * delta)\n",
    "    return s\n",
    "\n",
    "def hamParameters(hyb_func, n_k, verbose = False):\n",
    "    \n",
    "    # The format of the argument of optimize_me is V_i, e_i\n",
    "    def optimize_me(args):\n",
    "        n = len(args)\n",
    "        V = args[:n//2]\n",
    "        e = args[n//2:]\n",
    "        return np.linalg.norm(hyb_func - hybridizationFunction(V, e))\n",
    "    \n",
    "    # Obtain initial guess\n",
    "    \n",
    "    # The energies are the minimums of the imaginary part\n",
    "    e_ini = np.real(omega[argrelmin(np.imag(hyb_func))])\n",
    "    \n",
    "    # The V_k are approximately sqrt(delta ** 2 * hyb_func(e_k)\n",
    "    V_ini = np.sqrt(-delta * np.imag(hyb_func)[argrelmin(np.imag(hyb_func))[0]])\n",
    "    \n",
    "    args_ini = np.zeros(2 * n_k)\n",
    "    args_ini[:n_k] = V_ini\n",
    "    args_ini[n_k:] = e_ini\n",
    "    \n",
    "    if verbose:\n",
    "        print(optimize_me(args_ini))\n",
    "        print(\"\\nV_ini: \")\n",
    "        print(V_ini)\n",
    "        print(\"\\ne_ini: \")\n",
    "        print(e_ini)\n",
    "    \n",
    "    # minimize optimize_me based on the initial guess\n",
    "    res = minimize(optimize_me, args_ini, method = 'BFGS')\n",
    "    V = res.x[:n_k]\n",
    "    e = res.x[n_k:]\n",
    "    return V, e, res.fun"
   ]
  },
  {
   "cell_type": "code",
   "execution_count": 145,
   "metadata": {},
   "outputs": [
    {
     "data": {
      "text/plain": [
       "(array([12.09999559,  9.30000403,  5.4999936 ,  2.09997706]),\n",
       " array([-7.00000001, -3.        ,  4.        ,  9.00000002]),\n",
       " 2.581014680362732)"
      ]
     },
     "execution_count": 145,
     "metadata": {},
     "output_type": "execute_result"
    }
   ],
   "source": [
    "# Check that it works properly\n",
    "\n",
    "n_k = 4\n",
    "V = [9.3, 12.1, 2.1, 5.5]\n",
    "e = [-3,-7,9,4]\n",
    "\n",
    "hyb_func = hybridizationFunction(V, e)\n",
    "hamParameters(hyb_func, n_k)"
   ]
  },
  {
   "cell_type": "code",
   "execution_count": 13,
   "metadata": {},
   "outputs": [],
   "source": [
    "# Returns the spin up impurity green's function given the hybridization function\n",
    "\n",
    "def loopstep(hyb_func, n_k, U, T):\n",
    "    V, e, val = hamParameters(hyb_func, n_k)\n",
    "    H = AIM(V, e, U)\n",
    "    G = impurity_green(H, T)\n",
    "    return G"
   ]
  },
  {
   "cell_type": "markdown",
   "metadata": {},
   "source": [
    "##### Wrong hamiltonian (for bosons)"
   ]
  },
  {
   "cell_type": "code",
   "execution_count": 8,
   "metadata": {},
   "outputs": [],
   "source": [
    "def AIM_old(V, e, U):\n",
    "    \n",
    "    # Number of sites in the bath\n",
    "    nk = len(V)\n",
    "    \n",
    "    # Total number of sites\n",
    "    n = 2 * (nk + 1)\n",
    "    \n",
    "    # Impurity on-site interaction\n",
    "    prod = [qeye(2) for x in range(n)]\n",
    "    prod[0] = num(2)\n",
    "    prod[1] = num(2)\n",
    "    H1 = U * tensor(prod)\n",
    "    \n",
    "    # Impurity chemical potential\n",
    "    prod = [qeye(2) for x in range(n)]\n",
    "    prod[0] = num(2)\n",
    "    H2 = - (U/2) * tensor(prod)\n",
    "    prod = [qeye(2) for x in range(n)]\n",
    "    prod[1] = num(2)\n",
    "    H2 += - (U/2) * tensor(prod)\n",
    "    \n",
    "    # Bath energy levels\n",
    "    H3 = H1 * 0\n",
    "    for k in range(nk):\n",
    "        for spin in range(2):\n",
    "            prod = [qeye(2) for x in range(n)]\n",
    "            prod[2*(k + 1) + spin] = num(2)\n",
    "            H3 += e[k] * tensor(prod)\n",
    "    \n",
    "    # Bath-impurity interaction\n",
    "    H4 = H1 * 0\n",
    "    for k in range(nk):\n",
    "        for spin in range(2):\n",
    "            \n",
    "            prod = [qeye(2) for x in range(n)]\n",
    "            prod[spin] = destroy(2)\n",
    "            prod[2*(k + 1) + spin] = create(2)\n",
    "            H4 += V[k] * tensor(prod)\n",
    "            \n",
    "            prod = [qeye(2) for x in range(n)]\n",
    "            prod[spin] = create(2)\n",
    "            prod[2*(k + 1) + spin] = destroy(2)\n",
    "            H4 += V[k] * tensor(prod)\n",
    "            \n",
    "    return H1 + H2 + H3 + H4"
   ]
  },
  {
   "cell_type": "code",
   "execution_count": null,
   "metadata": {},
   "outputs": [],
   "source": []
  },
  {
   "cell_type": "code",
   "execution_count": null,
   "metadata": {},
   "outputs": [],
   "source": []
  },
  {
   "cell_type": "code",
   "execution_count": null,
   "metadata": {},
   "outputs": [],
   "source": []
  },
  {
   "cell_type": "code",
   "execution_count": null,
   "metadata": {},
   "outputs": [],
   "source": []
  },
  {
   "cell_type": "code",
   "execution_count": 23,
   "metadata": {
    "scrolled": false
   },
   "outputs": [
    {
     "ename": "TypeError",
     "evalue": "unsupported operand type(s) for -: 'str' and 'int'",
     "output_type": "error",
     "traceback": [
      "\u001b[1;31m---------------------------------------------------------------------------\u001b[0m",
      "\u001b[1;31mTypeError\u001b[0m                                 Traceback (most recent call last)",
      "\u001b[1;32m~\\AppData\\Local\\Temp/ipykernel_10780/3174567270.py\u001b[0m in \u001b[0;36m<module>\u001b[1;34m\u001b[0m\n\u001b[0;32m      5\u001b[0m \u001b[0mH\u001b[0m\u001b[1;33m.\u001b[0m\u001b[0mdims\u001b[0m \u001b[1;33m=\u001b[0m \u001b[1;33m[\u001b[0m\u001b[1;33m[\u001b[0m\u001b[0mn1\u001b[0m\u001b[1;33m]\u001b[0m\u001b[1;33m,\u001b[0m\u001b[1;33m[\u001b[0m\u001b[0mn2\u001b[0m\u001b[1;33m]\u001b[0m\u001b[1;33m]\u001b[0m\u001b[1;33m\u001b[0m\u001b[1;33m\u001b[0m\u001b[0m\n\u001b[0;32m      6\u001b[0m \u001b[1;33m\u001b[0m\u001b[0m\n\u001b[1;32m----> 7\u001b[1;33m \u001b[0mTE0\u001b[0m\u001b[1;33m,\u001b[0m \u001b[0mTGS\u001b[0m \u001b[1;33m=\u001b[0m \u001b[0mLanczos_green\u001b[0m\u001b[1;33m(\u001b[0m\u001b[0mH\u001b[0m\u001b[1;33m,\u001b[0m \u001b[1;36m0.1\u001b[0m\u001b[1;33m,\u001b[0m \u001b[1;36m2\u001b[0m\u001b[1;33m,\u001b[0m \u001b[1;34m'hello'\u001b[0m\u001b[1;33m,\u001b[0m \u001b[0mreortho\u001b[0m \u001b[1;33m=\u001b[0m \u001b[1;32mFalse\u001b[0m\u001b[1;33m)\u001b[0m\u001b[1;33m\u001b[0m\u001b[1;33m\u001b[0m\u001b[0m\n\u001b[0m\u001b[0;32m      8\u001b[0m \u001b[0mTGS\u001b[0m \u001b[1;33m=\u001b[0m \u001b[0mTGS\u001b[0m \u001b[1;33m/\u001b[0m \u001b[0mTGS\u001b[0m\u001b[1;33m.\u001b[0m\u001b[0mnorm\u001b[0m\u001b[1;33m(\u001b[0m\u001b[1;33m)\u001b[0m\u001b[1;33m\u001b[0m\u001b[1;33m\u001b[0m\u001b[0m\n\u001b[0;32m      9\u001b[0m \u001b[1;33m\u001b[0m\u001b[0m\n",
      "\u001b[1;32m~\\AppData\\Local\\Temp/ipykernel_10780/4149225868.py\u001b[0m in \u001b[0;36mLanczos_green\u001b[1;34m(H, T, m1, m2, reortho)\u001b[0m\n\u001b[0;32m     28\u001b[0m     \u001b[0mphi_p_norm\u001b[0m \u001b[1;33m=\u001b[0m \u001b[0mphi_p\u001b[0m\u001b[1;33m.\u001b[0m\u001b[0mnorm\u001b[0m\u001b[1;33m(\u001b[0m\u001b[1;33m)\u001b[0m\u001b[1;33m\u001b[0m\u001b[1;33m\u001b[0m\u001b[0m\n\u001b[0;32m     29\u001b[0m     \u001b[0mphi_p\u001b[0m \u001b[1;33m=\u001b[0m \u001b[0mphi_p\u001b[0m \u001b[1;33m/\u001b[0m \u001b[0mphi_p_norm\u001b[0m\u001b[1;33m\u001b[0m\u001b[1;33m\u001b[0m\u001b[0m\n\u001b[1;32m---> 30\u001b[1;33m     \u001b[0mlx_p\u001b[0m\u001b[1;33m,\u001b[0m \u001b[0ma_p\u001b[0m\u001b[1;33m,\u001b[0m \u001b[0mb_p\u001b[0m \u001b[1;33m=\u001b[0m \u001b[0mLanczos\u001b[0m\u001b[1;33m(\u001b[0m\u001b[0mH\u001b[0m\u001b[1;33m,\u001b[0m \u001b[0mphi_p\u001b[0m\u001b[1;33m,\u001b[0m \u001b[0mm2\u001b[0m\u001b[1;33m,\u001b[0m \u001b[0mreortho\u001b[0m \u001b[1;33m=\u001b[0m \u001b[0mreortho\u001b[0m\u001b[1;33m)\u001b[0m\u001b[1;33m\u001b[0m\u001b[1;33m\u001b[0m\u001b[0m\n\u001b[0m\u001b[0;32m     31\u001b[0m \u001b[1;33m\u001b[0m\u001b[0m\n\u001b[0;32m     32\u001b[0m     \u001b[1;31m# Construct the continuous fraction +\u001b[0m\u001b[1;33m\u001b[0m\u001b[1;33m\u001b[0m\u001b[1;33m\u001b[0m\u001b[0m\n",
      "\u001b[1;32m~\\AppData\\Local\\Temp/ipykernel_10780/1799017127.py\u001b[0m in \u001b[0;36mLanczos\u001b[1;34m(H, x, m, reortho, warning)\u001b[0m\n\u001b[0;32m      7\u001b[0m     \u001b[0mb\u001b[0m \u001b[1;33m=\u001b[0m \u001b[1;33m[\u001b[0m\u001b[1;36m0\u001b[0m\u001b[1;33m]\u001b[0m\u001b[1;33m\u001b[0m\u001b[1;33m\u001b[0m\u001b[0m\n\u001b[0;32m      8\u001b[0m \u001b[1;33m\u001b[0m\u001b[0m\n\u001b[1;32m----> 9\u001b[1;33m     \u001b[1;32mfor\u001b[0m \u001b[0mk\u001b[0m \u001b[1;32min\u001b[0m \u001b[0mrange\u001b[0m\u001b[1;33m(\u001b[0m\u001b[0mm\u001b[0m \u001b[1;33m-\u001b[0m \u001b[1;36m1\u001b[0m\u001b[1;33m)\u001b[0m\u001b[1;33m:\u001b[0m\u001b[1;33m\u001b[0m\u001b[1;33m\u001b[0m\u001b[0m\n\u001b[0m\u001b[0;32m     10\u001b[0m \u001b[1;33m\u001b[0m\u001b[0m\n\u001b[0;32m     11\u001b[0m         \u001b[0my\u001b[0m \u001b[1;33m=\u001b[0m \u001b[0mH\u001b[0m \u001b[1;33m*\u001b[0m \u001b[0mlx\u001b[0m\u001b[1;33m[\u001b[0m\u001b[1;33m-\u001b[0m\u001b[1;36m1\u001b[0m\u001b[1;33m]\u001b[0m\u001b[1;33m\u001b[0m\u001b[1;33m\u001b[0m\u001b[0m\n",
      "\u001b[1;31mTypeError\u001b[0m: unsupported operand type(s) for -: 'str' and 'int'"
     ]
    }
   ],
   "source": [
    "# Test\n",
    "\n",
    "H = AIM([2,2,4,4], [3,-3,1,-1], 1)\n",
    "n1,n2 = H.shape\n",
    "H.dims = [[n1],[n2]]\n",
    "\n",
    "TE0, TGS = Lanczos_green(H, 0.1, 2, 'hello', reortho = False)\n",
    "TGS = TGS / TGS.norm()\n",
    "\n",
    "Heigs, Hvecs = np.linalg.eigh(H._data.todense())\n",
    "E0, GS = Heigs[0], Qobj(Hvecs[:,0])\n",
    "GS = GS / GS.norm()\n",
    "\n",
    "print(\"\\nTrue ground energy:    {:.4}\".format(E0))\n",
    "print(\"Lanczos ground energy: {:.10}\".format(TE0))\n",
    "print(\"H * TGS: {:.10}\".format((TGS.dag() * H * TGS / TGS.norm()**2).tr()))\n",
    "print(\"\\n|TGS - GS|: {:.4}\".format(min((TGS - GS).norm(), (TGS + GS).norm())))\n",
    "#print(\"\\n\\nTGS: \" + str(TGS))\n",
    "#print(\"\\nGS: \" + str(GS))"
   ]
  }
 ],
 "metadata": {
  "kernelspec": {
   "display_name": "Python 3 (ipykernel)",
   "language": "python",
   "name": "python3"
  },
  "language_info": {
   "codemirror_mode": {
    "name": "ipython",
    "version": 3
   },
   "file_extension": ".py",
   "mimetype": "text/x-python",
   "name": "python",
   "nbconvert_exporter": "python",
   "pygments_lexer": "ipython3",
   "version": "3.8.3"
  }
 },
 "nbformat": 4,
 "nbformat_minor": 4
}
