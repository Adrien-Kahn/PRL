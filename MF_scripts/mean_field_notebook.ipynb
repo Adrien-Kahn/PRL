{
 "cells": [
  {
   "cell_type": "markdown",
   "metadata": {},
   "source": [
    "# Mean-field for triangular lattice"
   ]
  },
  {
   "cell_type": "code",
   "execution_count": 22,
   "metadata": {},
   "outputs": [],
   "source": [
    "%matplotlib inline\n",
    "\n",
    "import time\n",
    "import pickle\n",
    "\n",
    "import numpy as np\n",
    "import numpy.linalg as la\n",
    "from scipy.optimize import brentq, minimize_scalar\n",
    "import matplotlib.pyplot as plt"
   ]
  },
  {
   "cell_type": "markdown",
   "metadata": {},
   "source": [
    "## Define the lattice"
   ]
  },
  {
   "cell_type": "code",
   "execution_count": 23,
   "metadata": {},
   "outputs": [],
   "source": [
    "t = 1.0\n",
    "tp1 = 0.\n",
    "tp2 = 0.\n",
    "tperp = 0.\n",
    "Lx, Ly, Lz = 16, 16, 1\n",
    "\n",
    "# dispersion and k-mesh\n",
    "epsk = lambda kx, ky, kz: - 2 * t * (np.cos(kx) + np.cos(ky)) \\\n",
    "                          - 2 * tp1 * np.cos(kx + ky)         \\\n",
    "                          - 2 * tp2 * np.cos(kx - ky)         \\\n",
    "                          - 2 * tperp * np.cos(kz)\n",
    "\n",
    "kxr = np.linspace(-np.pi, np.pi, Lx, endpoint=False)\n",
    "kyr = np.linspace(-np.pi, np.pi, Ly, endpoint=False)\n",
    "kzr = np.linspace(-np.pi, np.pi, Lz, endpoint=False)\n",
    "kx, ky, kz = np.meshgrid(kxr,kyr,kzr)\n",
    "\n",
    "Qx, Qy, Qz = 0.,0.,0."
   ]
  },
  {
   "cell_type": "markdown",
   "metadata": {},
   "source": [
    "## Mean-field equations"
   ]
  },
  {
   "cell_type": "code",
   "execution_count": 24,
   "metadata": {},
   "outputs": [],
   "source": [
    "# fermi function\n",
    "def fermi(eps, beta):\n",
    "    return 1 / (1 + np.exp(beta * eps))\n",
    "\n",
    "# derivative of fermi function\n",
    "def dfermi(eps, beta):\n",
    "    return -beta / (2 * np.cosh(beta*eps) + 2)\n",
    "\n",
    "def n_and_slope(mup, nn, mm):\n",
    "    \"\"\"Returns the density and the slope of the magnetization\"\"\"\n",
    "    Ep = epsk(kx+Qx/2, ky+Qy/2, kz+Qz/2)\n",
    "    Em = epsk(kx-Qx/2, ky-Qy/2, kz-Qz/2)\n",
    "    Ek = 0.5 * (Ep + Em)\n",
    "    etak = 0.5 * (Ep - Em)\n",
    "    delta = U * mm / 2 \n",
    "\n",
    "    E_plus  = Ek + U * nn / 2 - mup + np.sqrt(etak**2 + delta**2)\n",
    "    E_minus = Ek + U * nn / 2 - mup - np.sqrt(etak**2 + delta**2)\n",
    "\n",
    "    # treatment to avoid divisions by zero\n",
    "    M = np.zeros_like(kx)\n",
    "    delta_E = E_plus - E_minus\n",
    "    mask = np.abs(E_plus - E_minus) > 1e-10\n",
    "    delta_E[~mask] = np.nan\n",
    "    M[mask] = ((fermi(E_minus, beta) - fermi(E_plus, beta)) / delta_E)[mask]\n",
    "    M[~mask] = (-dfermi(E_plus, beta))[~mask]\n",
    "    \n",
    "    n = np.sum(fermi(E_plus, beta) + fermi(E_minus, beta))\n",
    "    slope = U * np.sum(M)\n",
    "    n /= Lx*Ly*Lz\n",
    "    slope /= Lx*Ly*Lz\n",
    "    return [n, slope]\n",
    "\n",
    "def solve_for_n(mu, m):\n",
    "    \"\"\"Returns n and the slope\"\"\"\n",
    "    n = brentq(lambda n1: n_and_slope(mu, n1, m)[0] - n1, 0, 2)\n",
    "    return n_and_slope(mu, n, m)\n",
    "\n",
    "def solve_for_mu(density, m):\n",
    "    \"\"\"Returns mu, n and the slope\"\"\"\n",
    "    mu = brentq(lambda mu1: solve_for_n(mu1, m)[0] - density, -5*U, 5*U)\n",
    "    return [mu] + solve_for_n(mu, m)\n",
    "\n",
    "def solve_mean_field(density):\n",
    "    \"\"\"Returns the density, the magnetization and the chemical potential\"\"\"\n",
    "    mu, n, slope = solve_for_mu(density, 0.0)\n",
    "    if slope < 1: return n, 0.0, mu\n",
    "        \n",
    "    m = brentq(lambda m1: solve_for_mu(density, m1)[2] - 1, 0., 1.)\n",
    "    mu, n, slope = solve_for_mu(density, m)\n",
    "    return n, slope*m, mu\n",
    "\n",
    "def compute_free_energy(g_or_h, n, m, mu):\n",
    "    Ep = epsk(kx+Qx/2, ky+Qy/2, kz+Qz/2)\n",
    "    Em = epsk(kx-Qx/2, ky-Qy/2, kz-Qz/2)\n",
    "    Ek = 0.5 * (Ep + Em)\n",
    "    etak = 0.5 * (Ep - Em)\n",
    "    delta = U * m / 2 \n",
    "\n",
    "    E_plus  = Ek + U * n / 2 - mu + np.sqrt(etak**2 + delta**2)\n",
    "    E_minus = Ek + U * n / 2 - mu - np.sqrt(etak**2 + delta**2)\n",
    "    \n",
    "    # log Z term\n",
    "    logZ =  - np.sum(np.log(np.ones(kx.shape) + np.exp(-beta*E_plus)))/beta   \\\n",
    "        - np.sum(np.log(np.ones(kx.shape) + np.exp(-beta*E_minus)))/beta\n",
    "    \n",
    "    # free energy\n",
    "    if g_or_h == \"Helmholtz\":\n",
    "        F = logZ / (Lx*Ly*Lz) + mu * n - 0.25 * U * (n-m) * (n+m)\n",
    "    elif g_or_h == \"Gibbs\":\n",
    "        F = logZ / (Lx*Ly*Lz) - 0.25 * U * (n-m) * (n+m)\n",
    "    else:\n",
    "        return np.nan\n",
    "    \n",
    "    return F"
   ]
  },
  {
   "cell_type": "code",
   "execution_count": 25,
   "metadata": {},
   "outputs": [
    {
     "name": "stdout",
     "output_type": "stream",
     "text": [
      "0.0\n"
     ]
    }
   ],
   "source": [
    "U = 8\n",
    "beta = 1/.2\n",
    "π = np.pi\n",
    "import time\n",
    "start = (time.time())\n",
    "for q in np.linspace(0,π,10):\n",
    "    Qx, Qy, Qz = q,q,q\n",
    "    for beta in [2,5,10,20]:\n",
    "        compute_free_energy(\"Helmholtz\",0.8,0.8,U/2)\n",
    "print((time.time() - start)/40)"
   ]
  },
  {
   "cell_type": "code",
   "execution_count": 27,
   "metadata": {},
   "outputs": [
    {
     "name": "stdout",
     "output_type": "stream",
     "text": [
      "0\n",
      "1\n",
      "2\n",
      "3\n",
      "4\n",
      "5\n"
     ]
    },
    {
     "name": "stderr",
     "output_type": "stream",
     "text": [
      "<ipython-input-24-846ab3a00e85>:3: RuntimeWarning: overflow encountered in exp\n",
      "  return 1 / (1 + np.exp(beta * eps))\n",
      "<ipython-input-24-846ab3a00e85>:7: RuntimeWarning: overflow encountered in cosh\n",
      "  return -beta / (2 * np.cosh(beta*eps) + 2)\n"
     ]
    },
    {
     "name": "stdout",
     "output_type": "stream",
     "text": [
      "6\n"
     ]
    },
    {
     "name": "stderr",
     "output_type": "stream",
     "text": [
      "<ipython-input-24-846ab3a00e85>:7: RuntimeWarning: overflow encountered in multiply\n",
      "  return -beta / (2 * np.cosh(beta*eps) + 2)\n"
     ]
    },
    {
     "name": "stdout",
     "output_type": "stream",
     "text": [
      "7\n",
      "8\n",
      "9\n",
      "\n"
     ]
    },
    {
     "data": {
      "image/png": "[encoded data removed]",
      "text/plain": [
       "<Figure size 432x288 with 2 Axes>"
      ]
     },
     "metadata": {
      "needs_background": "light"
     },
     "output_type": "display_data"
    }
   ],
   "source": [
    "# The magnetization as a function of (U,T)\n",
    "\n",
    "eps = 1e-5\n",
    "\n",
    "npoint = 10\n",
    "U_l = np.linspace(0.1, 10, npoint)\n",
    "T_l = np.linspace(0.05, 1, npoint)\n",
    "\n",
    "Qx, Qy, Qz = np.pi, np.pi, 0\n",
    "\n",
    "MMat = np.zeros((len(U_l), len(T_l)))\n",
    "\n",
    "for j, U in enumerate(U_l):\n",
    "    print(j)\n",
    "    for i, T in enumerate(T_l):\n",
    "        beta = 1/T\n",
    "        n, m, mu = solve_mean_field(1)\n",
    "        MMat[i,j] = m\n",
    "\n",
    "extent = [U_l[0], U_l[-1], T_l[0], T_l[-1]]\n",
    "aspect = (U_l[-1] - U_l[0]) / (T_l[-1] - T_l[0])\n",
    "plt.imshow(MMat, extent = extent, aspect = aspect, origin = 'lower')\n",
    "plt.colorbar()\n",
    "\n",
    "plt.xlabel('$U$')\n",
    "plt.ylabel('$T$')\n",
    "print()"
   ]
  },
  {
   "cell_type": "markdown",
   "metadata": {},
   "source": [
    "## Free energy versus interaction\n",
    "\n",
    "This is an attempt to reproduce the results from the paper\n",
    "*Mean-field solution of the Hubbard model: the magnetic phase diagram*, by\n",
    "Y. Claveau, B. Arnaud and S. Di Matteo, `arXiv:1403.2259`, March 2014.\n",
    "\n",
    "We compute the Free energy as a function of the interaction at fixed density. The relevant\n",
    "thermodynamics potential is then the Helmholtz free energy $F = U - TS$."
   ]
  },
  {
   "cell_type": "code",
   "execution_count": 5,
   "metadata": {
    "scrolled": true
   },
   "outputs": [
    {
     "name": "stderr",
     "output_type": "stream",
     "text": [
      "<ipython-input-3-846ab3a00e85>:3: RuntimeWarning: overflow encountered in exp\n",
      "  return 1 / (1 + np.exp(beta * eps))\n",
      "<ipython-input-3-846ab3a00e85>:7: RuntimeWarning: overflow encountered in cosh\n",
      "  return -beta / (2 * np.cosh(beta*eps) + 2)\n",
      "<ipython-input-3-846ab3a00e85>:7: RuntimeWarning: overflow encountered in multiply\n",
      "  return -beta / (2 * np.cosh(beta*eps) + 2)\n"
     ]
    }
   ],
   "source": [
    "#%%timeit\n",
    "\n",
    "# Find AF and FM free energy\n",
    "beta = 20\n",
    "n_target = 0.8\n",
    "\n",
    "precision = 20\n",
    "t_on_U = np.linspace(0.10, 0.25, precision)\n",
    "\n",
    "# Para\n",
    "n_pa = np.zeros(precision)\n",
    "mu_pa = np.zeros(precision)\n",
    "free_pa = np.zeros(precision)\n",
    "\n",
    "Qx, Qy, Qz = 0., 0., 0.\n",
    "\n",
    "for i in range(precision):\n",
    "    U = t/t_on_U[i]\n",
    "    mu, n, slope = solve_for_mu(n_target, 0.0) # impose m=0\n",
    "    n_pa[i] = n\n",
    "    mu_pa[i] = mu\n",
    "    free_pa[i] = compute_free_energy('Helmholtz', n, 0.0, mu)\n",
    "\n",
    "# FM\n",
    "n_fm = np.zeros(precision)\n",
    "mag_fm = np.zeros(precision)\n",
    "mu_fm = np.zeros(precision)\n",
    "free_fm = np.zeros(precision)\n",
    "\n",
    "Qx, Qy, Qz = 0., 0., 0.\n",
    "for i in range(precision):\n",
    "    U = t/t_on_U[i]\n",
    "    n, m, mu = solve_mean_field(n_target)\n",
    "    n_fm[i] = n\n",
    "    mag_fm[i] = m\n",
    "    mu_fm[i] = mu\n",
    "    free_fm[i] = compute_free_energy('Helmholtz', n, m, mu)\n",
    "\n",
    "# AF\n",
    "n_af = np.zeros(precision)\n",
    "mag_af = np.zeros(precision)\n",
    "mu_af = np.zeros(precision)\n",
    "free_af = np.zeros(precision)\n",
    "\n",
    "Qx, Qy, Qz = np.pi, np.pi, 0.\n",
    "for i in range(precision):\n",
    "    U = t/t_on_U[i]\n",
    "    n, m, mu = solve_mean_field(n_target)\n",
    "    n_af[i] = n\n",
    "    mag_af[i] = m\n",
    "    mu_af[i] = mu\n",
    "    free_af[i] = compute_free_energy('Helmholtz', n, m, mu)"
   ]
  },
  {
   "cell_type": "code",
   "execution_count": 15,
   "metadata": {},
   "outputs": [
    {
     "data": {
      "text/plain": [
       "<matplotlib.legend.Legend at 0x11b0d9190>"
      ]
     },
     "execution_count": 15,
     "metadata": {},
     "output_type": "execute_result"
    },
    {
     "data": {
      "image/png": "[encoded data removed]",
      "text/plain": [
       "<Figure size 1080x720 with 4 Axes>"
      ]
     },
     "metadata": {
      "needs_background": "light"
     },
     "output_type": "display_data"
    }
   ],
   "source": [
    "plt.figure(figsize=[15,10])\n",
    "# Free energies\n",
    "plt.subplot(221)\n",
    "plt.plot(t_on_U, 2*free_pa, 'g--', label=\"Para\")\n",
    "plt.plot(t_on_U, 2*free_fm, 'ro-', label=\"Ferro\")\n",
    "plt.plot(t_on_U, 2*free_af, 'bo-', label=\"Antiferro\")\n",
    "#plt.title(\"Free energies\")\n",
    "\n",
    "plt.xlabel(\"t / U\");\n",
    "plt.ylabel(\"Free energy\")\n",
    "plt.legend()\n",
    "\n",
    "# Magnetization\n",
    "plt.subplot(222)\n",
    "plt.plot(t_on_U, mag_fm, 'ro-', label=\"Ferro\")\n",
    "plt.plot(t_on_U, mag_af, 'bo-', label=\"Antiferro\")\n",
    "plt.title(\"Magnetization\")\n",
    "plt.legend()\n",
    "\n",
    "# Chemical potential\n",
    "plt.subplot(223)\n",
    "plt.plot(t_on_U, mu_pa, 'g--', label=\"Para\")\n",
    "plt.plot(t_on_U, mu_fm, 'ro-', label=\"Ferro\")\n",
    "plt.plot(t_on_U, mu_af, 'bo-', label=\"Antiferro\")\n",
    "plt.title(\"Chemical potential\")\n",
    "plt.legend()\n",
    "\n",
    "# Density (check)\n",
    "plt.subplot(224)\n",
    "plt.plot(t_on_U, n_pa, 'g--', label=\"Para\")\n",
    "plt.plot(t_on_U, n_fm, 'ro-', label=\"Ferro\")\n",
    "plt.plot(t_on_U, n_af, 'bo-', label=\"Antiferro\")\n",
    "plt.title(\"Density (check)\")\n",
    "plt.legend()\n"
   ]
  },
  {
   "cell_type": "markdown",
   "metadata": {},
   "source": [
    "## Phase separation in Hubbard model\n",
    "\n",
    "This is an attempt to reproduce some of the results of the paper\n",
    "_Mean Field Magnetic Phase Diagrams for the Two\n",
    "Dimensional t − t\u0001 − U Hubbard Model_ by\n",
    "Edwin Langmann and Mats Wallin,\n",
    "Journal of Statistical Physics, Vol. 127, No. 4, May 2007.\n",
    "\n",
    "We only compare three solutions: paramagnetic, ferromagnetic and antiferromagnetic"
   ]
  },
  {
   "cell_type": "markdown",
   "metadata": {},
   "source": [
    "### As a function of density"
   ]
  },
  {
   "cell_type": "code",
   "execution_count": 6,
   "metadata": {},
   "outputs": [
    {
     "name": "stderr",
     "output_type": "stream",
     "text": [
      "<ipython-input-3-846ab3a00e85>:3: RuntimeWarning: overflow encountered in exp\n",
      "  return 1 / (1 + np.exp(beta * eps))\n",
      "<ipython-input-3-846ab3a00e85>:7: RuntimeWarning: overflow encountered in cosh\n",
      "  return -beta / (2 * np.cosh(beta*eps) + 2)\n",
      "<ipython-input-3-846ab3a00e85>:7: RuntimeWarning: overflow encountered in multiply\n",
      "  return -beta / (2 * np.cosh(beta*eps) + 2)\n"
     ]
    }
   ],
   "source": [
    "# Find AF and FM free energy\n",
    "beta = 100\n",
    "U = 4.0\n",
    "nr = np.linspace(.5, 1, 20)\n",
    "\n",
    "# Para\n",
    "n_pm = np.zeros_like(nr)\n",
    "mu_pm = np.zeros_like(nr)\n",
    "free_pm = np.zeros_like(nr)\n",
    "\n",
    "Qx, Qy, Qz = 0., 0., 0.\n",
    "for i, n_target in enumerate(nr):\n",
    "    mu, n, slope = solve_for_mu(n_target, 0.0) # impose m=0\n",
    "    n_pm[i] = n\n",
    "    mu_pm[i] = mu\n",
    "    free_pm[i] = compute_free_energy('Helmholtz', n, 0.0, mu)\n",
    "\n",
    "\n",
    "# FM\n",
    "n_fm = np.zeros_like(nr)\n",
    "mag_fm = np.zeros_like(nr)\n",
    "mu_fm = np.zeros_like(nr)\n",
    "free_fm = np.zeros_like(nr)\n",
    "\n",
    "Qx, Qy, Qz = 0., 0., 0.\n",
    "for i, n_target in enumerate(nr):\n",
    "    n, m, mu = solve_mean_field(n_target)\n",
    "    n_fm[i] = n\n",
    "    mag_fm[i] = m\n",
    "    mu_fm[i] = mu\n",
    "    free_fm[i] = compute_free_energy('Helmholtz', n, m, mu)\n",
    "\n",
    "# AF\n",
    "n_af = np.zeros_like(nr)\n",
    "mag_af = np.zeros_like(nr)\n",
    "mu_af = np.zeros_like(nr)\n",
    "free_af = np.zeros_like(nr)\n",
    "\n",
    "Qx, Qy, Qz = np.pi, np.pi, 0.\n",
    "for i, n_target in enumerate(nr):\n",
    "    n, m, mu = solve_mean_field(n_target)\n",
    "    n_af[i] = n\n",
    "    mag_af[i] = m\n",
    "    mu_af[i] = mu\n",
    "    free_af[i] = compute_free_energy('Helmholtz', n, m, mu)"
   ]
  },
  {
   "cell_type": "code",
   "execution_count": 7,
   "metadata": {},
   "outputs": [],
   "source": [
    "free_pm1 = free_pm\n",
    "free_af1 = free_af\n",
    "mag_af1 = mag_af"
   ]
  },
  {
   "cell_type": "code",
   "execution_count": 8,
   "metadata": {},
   "outputs": [
    {
     "data": {
      "text/plain": [
       "<matplotlib.legend.Legend at 0x119ab71f0>"
      ]
     },
     "execution_count": 8,
     "metadata": {},
     "output_type": "execute_result"
    },
    {
     "data": {
      "image/png": "[encoded data removed]",
      "text/plain": [
       "<Figure size 1080x720 with 4 Axes>"
      ]
     },
     "metadata": {
      "needs_background": "light"
     },
     "output_type": "display_data"
    }
   ],
   "source": [
    "plt.figure(figsize=[15,10])\n",
    "# Free energies\n",
    "plt.subplot(221)\n",
    "plt.plot(nr, free_pm, 'ro-', label=\"Para\")\n",
    "plt.plot(nr, free_af, 'bo-', label=\"Antiferro\")\n",
    "plt.plot(nr, free_pm1, 'go-', label=\"Para1\")\n",
    "plt.plot(nr, free_af1, 'co-', label=\"Antiferro1\")\n",
    "plt.title(\"Free energies difference\")\n",
    "plt.legend()\n",
    "plt.ylim(-1.2,-0.7)\n",
    "\n",
    "# Magnetization\n",
    "plt.subplot(222)\n",
    "#plt.plot(nr, mag_fm, 'ro-', label=\"Ferro\")\n",
    "plt.plot(nr, mag_af, 'bo-', label=\"Antiferro\")\n",
    "plt.plot(nr, mag_af1, 'ro-', label=\"Antiferro1\")\n",
    "plt.title(\"Magnetization\")\n",
    "plt.legend()\n",
    "\n",
    "# Chemical potential\n",
    "plt.subplot(223)\n",
    "plt.plot(nr, mu_pm, 'g--', label=\"Para\")\n",
    "plt.plot(nr, mu_fm, 'ro-', label=\"Ferro\")\n",
    "plt.plot(nr, mu_af, 'bo-', label=\"Antiferro\")\n",
    "plt.title(\"Chemical potential\")\n",
    "plt.legend()\n",
    "\n",
    "# Density (check)\n",
    "plt.subplot(224)\n",
    "plt.plot(nr, n_pm, 'g--', label=\"Para\")\n",
    "plt.plot(nr, n_fm, 'ro-', label=\"Ferro\")\n",
    "plt.plot(nr, n_af, 'bo-', label=\"Antiferro\")\n",
    "plt.title(\"Density (check)\")\n",
    "plt.legend()"
   ]
  },
  {
   "cell_type": "markdown",
   "metadata": {},
   "source": [
    "### Inspect free energy versus m\n",
    "\n",
    "This is to decide whether there is phase separation"
   ]
  },
  {
   "cell_type": "code",
   "execution_count": 9,
   "metadata": {},
   "outputs": [
    {
     "name": "stderr",
     "output_type": "stream",
     "text": [
      "<ipython-input-3-846ab3a00e85>:3: RuntimeWarning: overflow encountered in exp\n",
      "  return 1 / (1 + np.exp(beta * eps))\n",
      "<ipython-input-3-846ab3a00e85>:7: RuntimeWarning: overflow encountered in cosh\n",
      "  return -beta / (2 * np.cosh(beta*eps) + 2)\n",
      "<ipython-input-3-846ab3a00e85>:7: RuntimeWarning: overflow encountered in multiply\n",
      "  return -beta / (2 * np.cosh(beta*eps) + 2)\n"
     ]
    },
    {
     "name": "stdout",
     "output_type": "stream",
     "text": [
      "fe:  0.750000000000011 0.00938813896933749 -1.0685729697622544\n",
      "-0.9960438194208572\n",
      "af:  0.7499999999999998 0.0 -1.0629294758701269\n",
      "-0.9960380920529508\n"
     ]
    }
   ],
   "source": [
    "# Find AF and FM free energy\n",
    "n_target = 0.75\n",
    "\n",
    "mr = np.linspace(0,1,10)\n",
    "\n",
    "f_fe = np.zeros_like(mr)\n",
    "Qx, Qy, Qz = 0., 0., 0.\n",
    "for i,m in enumerate(mr):\n",
    "    mu, n, slope = solve_for_mu(n_target, m)\n",
    "    f_fe[i] = compute_free_energy('Helmholtz', n, m, mu)\n",
    "n, m, mu = solve_mean_field(n_target)\n",
    "print('fe: ', n, m, mu-0.5*U)\n",
    "print(compute_free_energy('Helmholtz', n, m, mu))\n",
    "\n",
    "\n",
    "f_af = np.zeros_like(mr)\n",
    "Qx, Qy, Qz = np.pi, np.pi, 0.\n",
    "for i,m in enumerate(mr):\n",
    "    mu, n, slope = solve_for_mu(n_target, m)\n",
    "    f_af[i] = compute_free_energy('Helmholtz', n, m, mu)\n",
    "n, m, mu = solve_mean_field(n_target)\n",
    "print('af: ', n, m, mu-U*0.5)\n",
    "print(compute_free_energy('Helmholtz', n, m, mu))"
   ]
  },
  {
   "cell_type": "code",
   "execution_count": 10,
   "metadata": {},
   "outputs": [
    {
     "data": {
      "text/plain": [
       "[<matplotlib.lines.Line2D at 0x119eb7a30>]"
      ]
     },
     "execution_count": 10,
     "metadata": {},
     "output_type": "execute_result"
    },
    {
     "data": {
      "image/png": "[encoded data removed]",
      "text/plain": [
       "<Figure size 432x288 with 1 Axes>"
      ]
     },
     "metadata": {
      "needs_background": "light"
     },
     "output_type": "display_data"
    }
   ],
   "source": [
    "plt.plot(mr, f_fe, 'ro-')\n",
    "plt.plot(mr, f_af, 'bo-')"
   ]
  },
  {
   "cell_type": "markdown",
   "metadata": {},
   "source": [
    "## (T,n) Phase diagrams\n",
    "\n",
    "Below is an attempt to construct (T,n) phase diagrams for a square lattice, at various U, and investigating different Q vectors along a high-symmetry path."
   ]
  },
  {
   "cell_type": "markdown",
   "metadata": {},
   "source": [
    "### Parameters\n",
    "The range of U, T, n and the Q_vectors to analyze, and the parameters of the lattice."
   ]
  },
  {
   "cell_type": "code",
   "execution_count": 8,
   "metadata": {},
   "outputs": [],
   "source": [
    "#Possible magnetizations\n",
    "Qx_r = np.linspace(0, np.pi, 10)\n",
    "Qy_r = np.linspace(0, np.pi, 10)\n",
    "Qz = 0.\n",
    "\n",
    "#Along Ox, (np.pi,Oy) and the first bissectrix\n",
    "#Q_vectors = [(qx,0.) for qx in Qx_r] + [(np.pi,qy) for qy in Qy_r] + [(qx,qx) for qx in Qx_r]\n",
    "#(q,π) and AF\n",
    "Q_vectors = [(0,0)] + [(qx,np.pi) for qx in Qx_r]\n",
    "\n",
    "#Range of values to investigate\n",
    "\n",
    "n_min, n_max, n_number = 0.01, 1, 100\n",
    "nr = np.linspace(n_min, n_max, n_number)\n",
    "\n",
    "T_min, T_max, T_number = 0.01, 1, 100\n",
    "Tr = np.linspace(T_min, T_max, T_number)\n",
    "\n",
    "U_min, U_max, U_step = 2, 12, 2\n",
    "Ur = np.array([10])\n",
    "\n",
    "#square lattice\n",
    "tp1, tp2 = 0.,0."
   ]
  },
  {
   "cell_type": "markdown",
   "metadata": {},
   "source": [
    "### Computation of the free energy and magnetisation for each Q vector in the parameter space"
   ]
  },
  {
   "cell_type": "code",
   "execution_count": null,
   "metadata": {
    "scrolled": true
   },
   "outputs": [],
   "source": [
    "#The energy of a given set of parameters is dict[U,n,T][ Q_vector ]\n",
    "#Q_vector is \"para\" for a paramagnetic state, and (Qx,Qy) for magnetized states.\n",
    "f_energy_dict = dict()\n",
    "mag_dict = dict()\n",
    "\n",
    "#Progression indicators\n",
    "parameter_space_volume = len(Ur)*len(nr)*len(Tr)\n",
    "current_volume = 0\n",
    "\n",
    "start = int(time.time())\n",
    "progress_indicator = [(start, 0.)]\n",
    "\n",
    "for U in Ur:\n",
    "    for n in nr:\n",
    "        for T in Tr:\n",
    "            beta = 1/T\n",
    "            \n",
    "            f_energy_dict[U,n,T] = dict()\n",
    "            mag_dict[U,n,T] = dict()\n",
    "\n",
    "            #test paramagnetic case first\n",
    "            Qx, Qy, Qz = 0.,0.,0.\n",
    "            mu, n_res, slope = solve_for_mu(n, 0.0) # impose m=0\n",
    "            f_energy_dict[U,n,T][\"para\"] = compute_free_energy('Helmholtz', n_res, 0.0, mu)\n",
    "            \n",
    "            #Then investigate Q vectors\n",
    "            for Qx, Qy in Q_vectors:\n",
    "                n_res, m, mu = solve_mean_field(n)\n",
    "                f_energy_dict[U,n,T][(Qx,Qy)] = compute_free_energy('Helmholtz', n_res, m, mu)\n",
    "                mag_dict[U,n,T][(Qx,Qy)] = m\n",
    "        \n",
    "            #Keep track of progress\n",
    "            current_volume += len(Tr)\n",
    "            progress_indicator.append((int(time.time())-start, 100*current_volume/parameter_space_volume))\n",
    "            print(\"{:.2f}s since computation started.\".format(progress_indicator[-1][0]))\n",
    "            print(\"{:.2f}% of parameter space explored.\".format(progress_indicator[-1][1]))\n",
    "                "
   ]
  },
  {
   "cell_type": "markdown",
   "metadata": {},
   "source": [
    "### Optimization of the Q vector"
   ]
  },
  {
   "cell_type": "code",
   "execution_count": null,
   "metadata": {
    "scrolled": true
   },
   "outputs": [],
   "source": [
    "#To get a result: res_dict(n,T,\"energy\",\"piq\")] --> float\n",
    "#Third key: \"energy\", \"mag\", \"mu\", \"Q\"\n",
    "#Fourth key: \"para\", \"q0\", \"piq\", \"qq\"\n",
    "res_dict = dict()\n",
    "\n",
    "\n",
    "#Functions that will be otptimized to get a  minimal energy Q vector\n",
    "\n",
    "#Q along Ox\n",
    "def opti_q0(q):\n",
    "    global Qx, Qy, Qz\n",
    "    Qx, Qy, Qz = q, 0., 0.\n",
    "    n_res, m, mu = solve_mean_field(n)\n",
    "    return (m != 0.)*compute_free_energy('Helmholtz', n_res, m, mu)\n",
    "\n",
    "#Q along (π,y)\n",
    "def opti_piq(q):\n",
    "    global Qx, Qy, Qz\n",
    "    Qx, Qy, Qz = np.pi, q, 0.\n",
    "\n",
    "    n_res, m, mu = solve_mean_field(n)\n",
    "    \n",
    "    return (m != 0.)*compute_free_energy('Helmholtz', n_res, m, mu)\n",
    "\n",
    "#Q along first bissectrix\n",
    "def opti_qq(q):\n",
    "    global Qx, Qy, Qz\n",
    "    Qx, Qy, Qz = q, q, 0.\n",
    "    n_res, m, mu = solve_mean_field(n)\n",
    "    return (m != 0.)*compute_free_energy('Helmholtz', n_res, m, mu)\n",
    "\n",
    "#Progression indicators\n",
    "parameter_space_volume = len(nr)*len(Tr)\n",
    "current_volume = 0\n",
    "\n",
    "start = int(time.time())\n",
    "progress_indicator = [(0., 0.)]\n",
    "\n",
    "U = Ur[0]\n",
    "for n in nr:\n",
    "    for T in Tr:\n",
    "        beta = 1/T\n",
    "\n",
    "        #Compute paramagnetic case first\n",
    "        Qx, Qy, Qz = 0.,0.,0.\n",
    "        mu, n_res, slope = solve_for_mu(n, 0.0) # impose m=0\n",
    "        \n",
    "        res_dict[n,T,\"energy\",\"para\"] = compute_free_energy('Helmholtz', n_res, 0.0, mu)\n",
    "        res_dict[n,T,\"mag\",\"para\"] = 0\n",
    "        res_dict[n,T,\"mu\",\"para\"] = mu\n",
    "        res_dict[n,T,\"Q\",\"para\"] = 0\n",
    "\n",
    "        #Then investigate Q vectors\n",
    "        #(q,0)\n",
    "        q = minimize_scalar(opti_q0, bounds=(0, np.pi), method='bounded').x\n",
    "        Qx, Qy, Qz = q, 0., 0.\n",
    "        n_res, m, mu = solve_mean_field(n)\n",
    "        \n",
    "        res_dict[n,T,\"energy\",\"q0\"] = compute_free_energy('Helmholtz', n_res, m, mu)\n",
    "        res_dict[n,T,\"mag\",\"q0\"] = m\n",
    "        res_dict[n,T,\"mu\",\"q0\"] = mu\n",
    "        res_dict[n,T,\"Q\",\"q0\"] = q\n",
    "\n",
    "        #(π,q)\n",
    "        q = minimize_scalar(opti_piq, bounds=(0, np.pi), method='bounded').x\n",
    "        Qx, Qy, Qz = np.pi, q, 0.\n",
    "        n_res, m, mu = solve_mean_field(n)\n",
    "        \n",
    "        res_dict[n,T,\"energy\",\"piq\"] = compute_free_energy('Helmholtz', n_res, m, mu)\n",
    "        res_dict[n,T,\"mag\",\"piq\"] = m\n",
    "        res_dict[n,T,\"mu\",\"piq\"] = mu\n",
    "        res_dict[n,T,\"Q\",\"piq\"] = q\n",
    "\n",
    "        #(q,q)\n",
    "        q = minimize_scalar(opti_qq, bounds=(0, np.pi), method='bounded').x\n",
    "        Qx, Qy, Qz = q, q, 0.\n",
    "        n_res, m, mu = solve_mean_field(n)\n",
    "        \n",
    "        res_dict[n,T,\"energy\",\"qq\"] = compute_free_energy('Helmholtz', n_res, m, mu)\n",
    "        res_dict[n,T,\"mag\",\"qq\"] = m\n",
    "        res_dict[n,T,\"mu\",\"qq\"] = mu\n",
    "        res_dict[n,T,\"Q\",\"qq\"] = q\n",
    "\n",
    "    #Keep track of progress\n",
    "    current_volume += T_number\n",
    "    progress_indicator.append((int(time.time())-start, 100*current_volume/parameter_space_volume))\n",
    "    #print(\"{:.2f}s since computation started.\".format(progress_indicator[-1][0]))\n",
    "    print(\"{:.2f}% of parameter space explored.\".format(progress_indicator[-1][1]))\n",
    "\n",
    "    current_speed = (progress_indicator[-1][-1] - progress_indicator[-2][-1]) \\\n",
    "                    / (progress_indicator[-1][0] - progress_indicator[-2][0])\n",
    "    linear_pred = (100 - progress_indicator[-1][1])/current_speed/3600\n",
    "    print(\"{:.0f}h{:.0f}min until completion.\".format(linear_pred, 60*(linear_pred - int(linear_pred))))"
   ]
  },
  {
   "cell_type": "code",
   "execution_count": null,
   "metadata": {},
   "outputs": [],
   "source": [
    "#Plot of time taken\n",
    "\n",
    "times = [progress_indicator[i][0]/3600 for i in range(101)]\n",
    "percent = [i for i in range(101)]\n",
    "\n",
    "speed = [ (percent[i+1] - percent[i])/(times[i+1] - times[i]) for i in range(100)]\n",
    "\n",
    "\n",
    "plt.plot(times[:-1], speed, \"-o\")\n",
    "\n",
    "plt.xlabel(\"t(h)\")\n",
    "plt.ylabel(\"%/h\")\n",
    "\n",
    "plt.show()"
   ]
  },
  {
   "cell_type": "markdown",
   "metadata": {},
   "source": [
    "### Computation of the Q_vector with lowest energy"
   ]
  },
  {
   "cell_type": "code",
   "execution_count": null,
   "metadata": {
    "scrolled": true
   },
   "outputs": [],
   "source": [
    "#The dictionnary below contains the phase with the least energy. It is either \"para\" or a tuple (Qx, Qy)\n",
    "#If the phase with least energy should be magnetized but has magnetization 0, \"para\" is chosen instead\n",
    "phase_dict = dict()\n",
    "for params in f_energy_dict:\n",
    "    less_energetic = min(f_energy_dict[params], key = f_energy_dict[params].get)\n",
    "    phase_dict[params] = less_energetic if less_energetic == \"para\" or abs(mag_dict[params][less_energetic]) > 1e-3 else \"para\""
   ]
  },
  {
   "cell_type": "code",
   "execution_count": 23,
   "metadata": {
    "scrolled": true
   },
   "outputs": [],
   "source": [
    "#The dictionnary below contains the phase with the least energy. It is either \"para\" or a tuple (Qx, Qy)\n",
    "#If the phase with least energy should be magnetized but has magnetization 0, \"para\" is chosen instead\n",
    "phase_dict = dict()\n",
    "mag_dict = dict()\n",
    "phase_type = [\"para\", \"q0\", \"piq\", \"qq\"]\n",
    "\n",
    "for n in nr:\n",
    "    for T in Tr:\n",
    "        \n",
    "        #Determine if the q vector with lowest energy is para, q0, piq or qq\n",
    "        e_dico = {phase: res_dict[n,T, \"energy\", phase] for phase in phase_type}\n",
    "        potential_phase = min(e_dico, key = e_dico.get)\n",
    "        \n",
    "        q = res_dict[n,T, \"Q\", potential_phase]\n",
    "        mag = res_dict[n,T, \"mag\", potential_phase]\n",
    "        \n",
    "        if potential_phase == \"para\":\n",
    "            phase_dict[n,T] = \"PM\"\n",
    "            mag_dict[n,T] = 0\n",
    "            \n",
    "        #No magnetisation means it's paramagnetic\n",
    "        elif mag == 0.:\n",
    "            phase_dict[n,T] = \"PM\"\n",
    "            mag_dict[n,T] = 0\n",
    "            \n",
    "        #Q = (0,0) --> FM\n",
    "        elif potential_phase in [\"q0\", \"qq\"] and abs(q) < 1e-3:\n",
    "            phase_dict[n,T] = \"FM\"\n",
    "            mag_dict[n,T] = res_dict[n,T,\"mag\", potential_phase]\n",
    "        \n",
    "        #Q = (π,π) --> AF\n",
    "        elif potential_phase in [\"piq\", \"qq\"] and abs(q - np.pi) < 1e-5:\n",
    "            phase_dict[n,T] = \"AF\"\n",
    "            mag_dict[n,T] = res_dict[n,T,\"mag\", potential_phase]\n",
    "        \n",
    "        #Register the non particular Q vector\n",
    "        else:\n",
    "            if potential_phase == \"q0\":\n",
    "                q_vect = (q,0.)\n",
    "            elif potential_phase == \"piq\":\n",
    "                q_vect = (np.pi, q)\n",
    "            elif potential_phase == \"qq\":\n",
    "                q_vect = (q,q)\n",
    "            else:\n",
    "                raise RuntimeError(\"I fucked up completely.\")\n",
    "            \n",
    "            phase_dict[n,T] = q_vect\n",
    "            mag_dict[n,T] = res_dict[n,T,\"mag\", potential_phase]\n",
    "\n",
    "#print(len([1 for val in phase_dict.values() if val == \"PM\"]))"
   ]
  },
  {
   "cell_type": "markdown",
   "metadata": {},
   "source": [
    "## Phase diagram plot"
   ]
  },
  {
   "cell_type": "markdown",
   "metadata": {},
   "source": [
    "### Colored phase"
   ]
  },
  {
   "cell_type": "code",
   "execution_count": 25,
   "metadata": {},
   "outputs": [
    {
     "data": {
      "image/png": "[encoded data removed]",
      "text/plain": [
       "<Figure size 432x288 with 1 Axes>"
      ]
     },
     "metadata": {
      "needs_background": "light"
     },
     "output_type": "display_data"
    }
   ],
   "source": [
    "#Some definitions to help the following\n",
    "U_aff = 4\n",
    "n_to_index = {nr[i]:i for i in range(len(nr))}\n",
    "T_to_index = {Tr[i]:i for i in range(len(Tr))}\n",
    "\n",
    "\n",
    "#Options\n",
    "magnetisation_only = False\n",
    "separate_q_type = True\n",
    "magnetisation_transparency = False\n",
    "\n",
    "\n",
    "#Create and plot diagram\n",
    "diagram = np.zeros((len(Tr), len(nr),3 if magnetisation_only else 4))\n",
    "\n",
    "\n",
    "\n",
    "for key in phase_dict:\n",
    "    ni = n_to_index[key[0]]\n",
    "    Ti = T_to_index[key[1]]\n",
    "    \n",
    "    if magnetisation_only:\n",
    "        diagram[Ti,ni, 0] = 1 - mag_dict[key]\n",
    "        diagram[Ti,ni, 1] = 1 - mag_dict[key]\n",
    "        diagram[Ti,ni, 2] = 1 - mag_dict[key]\n",
    "        continue\n",
    "\n",
    "    \n",
    "    if phase_dict[key] == \"PM\":\n",
    "        diagram[Ti,ni, 0] = 1\n",
    "        diagram[Ti,ni, 1] = 1\n",
    "        diagram[Ti,ni, 2] = 1\n",
    "        diagram[Ti,ni, 3] = 1\n",
    "        \n",
    "    elif phase_dict[key] == \"FM\":\n",
    "        diagram[Ti,ni, 0] = 0\n",
    "        diagram[Ti,ni, 1] = 0\n",
    "        diagram[Ti,ni, 2] = 0\n",
    "        diagram[Ti,ni, 3] = 1\n",
    "        \n",
    "    elif phase_dict[key] == \"AF\":\n",
    "        diagram[Ti,ni, 0] = 1\n",
    "        diagram[Ti,ni, 1] = 1\n",
    "        diagram[Ti,ni, 2] = 0\n",
    "        diagram[Ti,ni, 3] = mag_dict[key] if magnetisation_transparency else 1\n",
    "    \n",
    "    else:\n",
    "        if phase_dict[key][1] == 0:\n",
    "            diagram[Ti,ni, 0] = 1\n",
    "            diagram[Ti,ni, 1] = 0\n",
    "            diagram[Ti,ni, 2] = 0\n",
    "            \n",
    "        elif abs(phase_dict[key][0] - np.pi) < 1e-3:\n",
    "            diagram[Ti,ni, 0] = 0\n",
    "            diagram[Ti,ni, 1] = 1\n",
    "            diagram[Ti,ni, 2] = 0\n",
    "        else:\n",
    "            diagram[Ti,ni, 0] = 0\n",
    "            diagram[Ti,ni, 1] = 0\n",
    "            diagram[Ti,ni, 2] = 1\n",
    "            \n",
    "            \n",
    "        diagram[Ti,ni, 3] = mag_dict[key] if magnetisation_transparency else 1\n",
    "        \n",
    "        if not separate_q_type:\n",
    "            diagram[Ti,ni, 0] = phase_dict[key][0]/np.pi\n",
    "            diagram[Ti,ni, 1] = phase_dict[key][1]/np.pi\n",
    "            diagram[Ti,ni, 2] = 0\n",
    "\n",
    "\n",
    "#Display in the correct orientation\n",
    "plt.imshow(diagram, origin = \"lower\", interpolation = \"none\")\n",
    "\n",
    "#Display the correct axes\n",
    "locs, labels = plt.xticks()\n",
    "labels = [np.round(n_min + (n_max-n_min)*item/locs[-1],2) for item in locs]\n",
    "labels[0] = \"\"\n",
    "plt.xticks(locs, labels)\n",
    "\n",
    "locs, labels = plt.yticks()\n",
    "labels = [np.round(T_min + (T_max-T_min)*item/locs[-1],2) for item in locs]\n",
    "labels[0] = \"\"\n",
    "plt.yticks(locs, labels)\n",
    "\n",
    "plt.xlabel(\"n\")\n",
    "plt.ylabel(\"T\")\n",
    "\n",
    "#TODO: beer\n",
    "plt.xlim(0,n_number)\n",
    "plt.ylim(0,T_number)\n",
    "\n",
    "plt.show()\n",
    "\n"
   ]
  },
  {
   "cell_type": "code",
   "execution_count": 21,
   "metadata": {},
   "outputs": [
    {
     "name": "stdout",
     "output_type": "stream",
     "text": [
      "Not PM:  (0.8400000000000001, 0.01)\n",
      "Not PM:  (0.9, 0.01)\n",
      "Not PM:  (0.97, 0.01)\n"
     ]
    }
   ],
   "source": [
    "for key in phase_dict:\n",
    "    if phase_dict[key] != 'PM':\n",
    "        print(\"Not PM: \", key)"
   ]
  },
  {
   "cell_type": "code",
   "execution_count": null,
   "metadata": {},
   "outputs": [],
   "source": [
    "#plt.plot(nr, [res_dict[n, 0.01, \"energy\", \"q0\"] for n in nr], \"or-\", label=\"0q\")\n",
    "#plt.plot(nr, [res_dict[n, 0.01, \"energy\", \"piq\"] for n in nr],\"og-\", label=\"piq\")\n",
    "#plt.plot(nr, [res_dict[n, 0.01, \"energy\", \"qq\"] for n in nr], \"ob-\",label=\"qq\")\n",
    "\n",
    "plt.plot(nr, [res_dict[n, 0.01, \"energy\", \"piq\"]/res_dict[n, 0.01, \"energy\", \"qq\"] for n in nr], \"ob-\",label=\"64\")\n",
    "plt.plot(nr, the_save_128, \"or-\",label=\"128\")\n",
    "\n",
    "plt.xlabel(\"n\")\n",
    "plt.ylabel(\"E_piq/E_qq\")\n",
    "\n",
    "plt.xlim(0.9,1)\n",
    "plt.ylim(0.9997,1.0005)\n",
    "\n",
    "plt.legend()\n",
    "plt.show()\n",
    "\n",
    "#print([n for n in nr if res_dict[n, 0.01, \"energy\", \"piq\"] > res_dict[n, 0.01, \"energy\", \"qq\"]])"
   ]
  },
  {
   "cell_type": "code",
   "execution_count": 27,
   "metadata": {
    "collapsed": true
   },
   "outputs": [
    {
     "data": {
      "image/png": "[encoded data removed]",
      "text/plain": [
       "<Figure size 432x288 with 1 Axes>"
      ]
     },
     "metadata": {
      "needs_background": "light"
     },
     "output_type": "display_data"
    }
   ],
   "source": [
    "#plt.plot(nr, [res_dict[n,0.2,\"energy\",\"piq\"] for n in nr], '+-', label=\"piq\")\n",
    "plt.plot(nr, [res_dict[n,0.2,\"Q\",\"qq\"] for n in nr], '+-', label=\"qq\")\n",
    "plt.plot(nr, [res_dict[n,0.2,\"Q\",\"q0\"] for n in nr], '+-', label=\"q0\")\n",
    "#plt.plot(nr, [res_dict[n,0.2,\"energy\",\"para\"] for n in nr], '+-', label=\"para\")\n",
    "\n",
    "\n",
    "plt.xlabel(\"q\")\n",
    "plt.ylabel(\"free energy\")\n",
    "plt.legend()\n",
    "plt.draw()"
   ]
  },
  {
   "cell_type": "markdown",
   "metadata": {},
   "source": [
    "### Saving and loading results\n",
    "(because the computation takes quite a long time)"
   ]
  },
  {
   "cell_type": "code",
   "execution_count": null,
   "metadata": {},
   "outputs": [],
   "source": [
    "#with open(\"nT_hundred_grid_u.pickle\", \"wb\") as phase_file:\n",
    "#    pickle.dump(res_dict, phase_file)\n",
    "\n",
    "res_dict_save = dict(res_dict)"
   ]
  },
  {
   "cell_type": "code",
   "execution_count": 22,
   "metadata": {
    "scrolled": true
   },
   "outputs": [],
   "source": [
    "with open(\"nT_grid_diag_u4.pickle\", 'rb') as input:\n",
    "    res_dict = pickle.load(input)\n",
    "#print(energy_dict)"
   ]
  },
  {
   "cell_type": "code",
   "execution_count": 2,
   "metadata": {},
   "outputs": [],
   "source": [
    "with open(\"Q_grid_n_0_85.pickle\", 'rb') as input:\n",
    "    Q_grid = pickle.load(input)"
   ]
  },
  {
   "cell_type": "code",
   "execution_count": 3,
   "metadata": {},
   "outputs": [
    {
     "data": {
      "image/png": "[encoded data removed]",
      "text/plain": [
       "<Figure size 432x288 with 1 Axes>"
      ]
     },
     "metadata": {
      "needs_background": "light"
     },
     "output_type": "display_data"
    }
   ],
   "source": [
    "aff = np.zeros((100,100,3))\n",
    "aff[:,:,0] = (Q_grid - np.min(Q_grid))/np.max(Q_grid - np.min(Q_grid))\n",
    "aff[:,:,1] = (Q_grid - np.min(Q_grid))/np.max(Q_grid - np.min(Q_grid))\n",
    "aff[:,:,2] = (Q_grid - np.min(Q_grid))/np.max(Q_grid - np.min(Q_grid))\n",
    "\n",
    "plt.imshow(aff,origin=\"lower\",interpolation=\"none\")\n",
    "\n",
    "locs, labels = plt.xticks()\n",
    "labels = [np.round(item/locs[-1],2) for item in locs]\n",
    "labels[0] = \"\"\n",
    "plt.xticks(locs, labels)\n",
    "\n",
    "locs, labels = plt.yticks()\n",
    "labels = [np.round(item/locs[-1],2) for item in locs]\n",
    "labels[0] = \"\"\n",
    "plt.yticks(locs, labels)\n",
    "\n",
    "plt.xlim([0,100])\n",
    "plt.xlabel(\"qx / π\")\n",
    "plt.ylim([0,100])\n",
    "plt.ylabel(\"qy / π\")\n",
    "\n",
    "plt.show()"
   ]
  },
  {
   "cell_type": "code",
   "execution_count": 6,
   "metadata": {},
   "outputs": [
    {
     "data": {
      "text/plain": [
       "0.7676767676767677"
      ]
     },
     "execution_count": 6,
     "metadata": {},
     "output_type": "execute_result"
    }
   ],
   "source": [
    "np.unravel_index(np.argmin(Q_grid, axis=None), Q_grid.shape)\n"
   ]
  },
  {
   "cell_type": "markdown",
   "metadata": {},
   "source": [
    "Objectifs: \n",
    "2D square: U={2,4,6,8,10,12}\n",
    "\n",
    "2D square: 64x64 low temperatures\n",
    "\n",
    "3D cubic: U={2,4,6,8,10,12} L=20x20x20\n",
    "\n",
    "(0,0,q) - (0,q,q) - (q,q,q) - (pi,q,q) - (pi,pi,q) - (0,pi,q) \n",
    "\n",
    "2D square t'=0.3\n",
    "\n",
    "0<n<2"
   ]
  },
  {
   "cell_type": "markdown",
   "metadata": {},
   "source": [
    "## F on path"
   ]
  },
  {
   "cell_type": "code",
   "execution_count": 4,
   "metadata": {},
   "outputs": [
    {
     "data": {
      "text/plain": [
       "'/Users/LiamRampon/Documents/Éducation/ENSTA/3A/PRL'"
      ]
     },
     "execution_count": 4,
     "metadata": {},
     "output_type": "execute_result"
    }
   ],
   "source": [
    "import os\n",
    "os.getcwd()"
   ]
  },
  {
   "cell_type": "code",
   "execution_count": 7,
   "metadata": {
    "scrolled": true
   },
   "outputs": [
    {
     "name": "stdout",
     "output_type": "stream",
     "text": [
      "Computing side 00q...\n",
      "Computing side 0qq...\n",
      "Computing side qqq...\n",
      "Computing side 0qπ...\n",
      "Computing side qqπ...\n",
      "Computing side qππ...\n",
      "Computing vertex Γ...\n",
      "Computing vertex X...\n",
      "Computing vertex M...\n",
      "Computing vertex R...\n",
      "File saved as U_8.0_n_0.20_T_0.60_MF.pckl\n"
     ]
    }
   ],
   "source": [
    "π = np.pi\n",
    "\n",
    "U, n, T = 8.0, 0.2, 0.6\n",
    "beta = 1/T\n",
    "\n",
    "q_res = 19\n",
    "dq = np.pi/(q_res+1)\n",
    "q_min = dq\n",
    "q_max = np.pi-dq\n",
    "\n",
    "\n",
    "F = np.zeros((6, q_res+2))\n",
    "mag = np.zeros((6, q_res+2))\n",
    "mu = np.zeros((6, q_res+2))\n",
    "dens = np.zeros((6, q_res+2))\n",
    "\n",
    "\n",
    "for side_idx, side in enumerate([\"00q\", \"0qq\", \"qqq\", \"0qπ\", \"qqπ\", \"qππ\"]):\n",
    "    print(f\"Computing side {side}...\")\n",
    "    for q_idx, q in enumerate(np.linspace(q_min, q_max, q_res)):\n",
    "        #Initialize Q\n",
    "        side_conv = {\"0\":0, \"q\":q, \"π\":np.pi}\n",
    "        Qx, Qy, Qz = side_conv[side[0]], side_conv[side[1]], side_conv[side[2]]\n",
    "        \n",
    "        #Compute MF solution\n",
    "        n_res, m_res, mu_res = solve_mean_field(n)\n",
    "        F_res = compute_free_energy('Helmholtz', n_res, m_res, mu_res)\n",
    "\n",
    "        #PM case\n",
    "        #mu_para, n_res_para, slope_para = solve_for_mu(n, 0.0) # impose m=0\n",
    "        #F_para = compute_free_energy(\"Helmholtz\", n_res_para, 0, mu_para)\n",
    "        \n",
    "        #Add it to results\n",
    "        F[side_idx, q_idx +1] = F_res\n",
    "        mag[side_idx, q_idx +1] = m_res\n",
    "        mu[side_idx, q_idx +1] = mu_res\n",
    "        dens[side_idx, q_idx +1] = n_res\n",
    "\n",
    "        \n",
    "for vertex in ['Γ', 'X', 'M', 'R']:\n",
    "\n",
    "    print(f\"Computing vertex {vertex}...\")\n",
    "    \n",
    "    #Initialize Q\n",
    "    if vertex == 'Γ':\n",
    "        Qx, Qy, Qz = 0, 0, 0\n",
    "    elif vertex == 'X':\n",
    "        Qx, Qy, Qz = 0, 0, np.pi\n",
    "    elif vertex == 'M':\n",
    "        Qx, Qy, Qz = 0, np.pi, np.pi\n",
    "    elif vertex == 'R':\n",
    "        Qx, Qy, Qz = np.pi, np.pi, np.pi\n",
    "\n",
    "\n",
    "    #Compute MF solution\n",
    "    n_vert, m_vert, mu_vert = solve_mean_field(n)\n",
    "    F_vert = compute_free_energy('Helmholtz', n_vert, m_vert, mu_vert)\n",
    "\n",
    "\n",
    "    #Add it to results\n",
    "    if vertex == 'Γ':\n",
    "\n",
    "        #Start of 00q, 0qq, qqq\n",
    "        F[0:3,0] = F_vert\n",
    "        mag[0:3,0] = m_vert\n",
    "        mu[0:3,0] = mu_vert\n",
    "        dens[0:3,0] = n_vert\n",
    "\n",
    "    elif vertex == 'X':\n",
    "\n",
    "        #Start of 0qπ, qqπ\n",
    "        F[3:5,0] = F_vert\n",
    "        mag[3:5,0] = m_vert\n",
    "        mu[3:5,0] = mu_vert\n",
    "        dens[3:5,0] = n_vert\n",
    "\n",
    "        #End of 00q\n",
    "        F[0,-1] = F_vert\n",
    "        mag[0,-1] = m_vert\n",
    "        mu[0,-1] = mu_vert\n",
    "        dens[0,-1] = n_vert\n",
    "\n",
    "\n",
    "    elif vertex == 'M':\n",
    "\n",
    "        #Start of qππ\n",
    "        F[5,0] = F_vert\n",
    "        mag[5,0] = m_vert\n",
    "        mu[5,0] = mu_vert\n",
    "        dens[5,0] = n_vert\n",
    "\n",
    "        #End of 0qq\n",
    "        F[1,-1] = F_vert\n",
    "        mag[1,-1] = m_vert\n",
    "        mu[1,-1] = mu_vert\n",
    "        dens[1,-1] = n_vert\n",
    "\n",
    "        #End of 0qπ\n",
    "        F[3,-1] = F_vert\n",
    "        mag[3,-1] = m_vert\n",
    "        mu[3,-1] = mu_vert\n",
    "        dens[3,-1] = n_vert\n",
    "\n",
    "\n",
    "    elif vertex == 'R':\n",
    "\n",
    "        #End of qqq\n",
    "        F[2,-1] = F_vert\n",
    "        mag[2,-1] = m_vert\n",
    "        mu[2,-1] = mu_vert\n",
    "        dens[2,-1] = n_vert\n",
    "\n",
    "        #End of qqπ, qππ\n",
    "        F[4:,-1] = F_vert\n",
    "        mag[4:,-1] = m_vert\n",
    "        mu[4:,-1] = mu_vert\n",
    "        dens[4:,-1] = n_vert\n",
    "        \n",
    "archive_name = f\"U_{U:.1f}_n_{n:1.2f}_T_{T:.2f}_MF.pckl\"\n",
    "with open(f'/Users/LiamRampon/Downloads/diag_MF/{archive_name}', \"wb\") as f:\n",
    "    pickle.dump((F, mag, mu, dens), f)\n",
    "print(f\"File saved as {archive_name}\")"
   ]
  },
  {
   "cell_type": "code",
   "execution_count": null,
   "metadata": {},
   "outputs": [],
   "source": []
  }
 ],
 "metadata": {
  "kernelspec": {
   "display_name": "Python 3",
   "language": "python",
   "name": "python3"
  },
  "language_info": {
   "codemirror_mode": {
    "name": "ipython",
    "version": 3
   },
   "file_extension": ".py",
   "mimetype": "text/x-python",
   "name": "python",
   "nbconvert_exporter": "python",
   "pygments_lexer": "ipython3",
   "version": "3.8.3"
  }
 },
 "nbformat": 4,
 "nbformat_minor": 2
}
