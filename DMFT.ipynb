{
 "cells": [
  {
   "cell_type": "code",
   "execution_count": 1,
   "metadata": {},
   "outputs": [],
   "source": [
    "import numpy as np\n",
    "import matplotlib.pyplot as plt\n",
    "from qutip import *\n",
    "\n",
    "from scipy.optimize import minimize\n",
    "from scipy.signal import argrelmin"
   ]
  },
  {
   "cell_type": "code",
   "execution_count": 2,
   "metadata": {},
   "outputs": [],
   "source": [
    "T = 0.03\n",
    "beta = 1/T\n",
    "\n",
    "# The discretized values of omega\n",
    "omega = np.linspace(-10, 10, 100000, dtype = complex)\n",
    "\n",
    "# The Matsubara frequencies\n",
    "max_freq = 3\n",
    "n_freq = int(((max_freq * beta / np.pi) - 1) / 2) + 1\n",
    "matsu_freq = (2 * np.array(range(-n_freq, n_freq), dtype = complex) + 1) * np.pi / beta\n",
    "\n",
    "# The small delta\n",
    "delta = 1e-3"
   ]
  },
  {
   "cell_type": "code",
   "execution_count": 3,
   "metadata": {},
   "outputs": [],
   "source": [
    "# Plots complex array by showing real and imaginary parts\n",
    "def plot_complex(a, title, is_matsu = True):\n",
    "    \n",
    "    fig, ax = plt.subplots(1,2, figsize = (10,4))\n",
    "    fig.suptitle(title)\n",
    "    if is_matsu:\n",
    "        ax[0].plot(np.real(matsu_freq), np.real(a))\n",
    "        ax[1].plot(np.real(matsu_freq), np.imag(a))\n",
    "        #ax[1].plot(np.real(matsu_freq), - 1 / np.real(matsu_freq))\n",
    "        #ax[1].set_ylim(-3, 3)\n",
    "    else:\n",
    "        ax[0].plot(np.real(omega), np.real(a))\n",
    "        ax[1].plot(np.real(omega), np.imag(a))\n",
    "    ax[0].set_title(\"Real Part\")\n",
    "    ax[1].set_title(\"Imaginary Part\")"
   ]
  },
  {
   "cell_type": "markdown",
   "metadata": {},
   "source": [
    "We retrieve the parameters $\\{V_k, \\epsilon_k\\}_k$ of the Anderson impurity model from the hybridization function:\n",
    "\n",
    "$$\\Delta(\\omega) = \\sum_k \\frac{V_k^2}{\\omega - \\epsilon_k + i\\delta}$$\n",
    "\n",
    "We place ourselves at half-filling so that $\\mu = \\frac U2$, and the AIM hamiltonian reads:\n",
    "\n",
    "$$H = U n_\\uparrow n_\\downarrow - \\frac U 2 (n_\\uparrow + n_\\downarrow) + \\sum_{k,\\sigma} \\epsilon_k a_{k,\\sigma}^\\dagger a_{k,\\sigma} + \\sum_{k,\\sigma} V_k (a_{k,\\sigma}^\\dagger c_\\sigma + c_\\sigma^\\dagger a_{k,\\sigma})$$\n",
    "\n",
    "where $a_{k,\\sigma}^\\dagger$ denotes the creation operator of an electron in the bath, $c_\\sigma^\\dagger$ denotes the creation operator of the impurity electron and $n_\\sigma = c_\\sigma^\\dagger c_\\sigma$.\n",
    "\n",
    "### Retrieval of the hamiltonian parameters\n",
    "\n",
    "$\\Delta(\\omega)$ is represented as an array of complex numbers corresponding to different values of $\\omega$. We recover the hamiltonian parameters $\\{V_k, \\epsilon_k\\}_k$ by optimizing a function:\n",
    "\n",
    "$$f : \\{V_k, \\epsilon_k\\}_k \\to \\Delta(\\omega) $$\n",
    "\n",
    "against the real $\\Delta(\\omega)$.\n",
    "\n",
    "To obtain an initial guess, we use the fact that the local minima of $\\Im (\\Delta(\\omega))$ are the $\\epsilon_k$ and that close to $\\epsilon_k$, its contribution will dominate so that:\n",
    "\n",
    "$$V_k^2 \\approx - \\delta \\Im (\\Delta(\\epsilon_k))$$"
   ]
  },
  {
   "cell_type": "code",
   "execution_count": 4,
   "metadata": {},
   "outputs": [],
   "source": [
    "# Retrieval of hamiltonian parameters from the hybridization function with Matsubara frequencies\n",
    "\n",
    "def matsuHybridizationFunction(V, e):\n",
    "    n = len(V)\n",
    "    s = matsu_freq * 0\n",
    "    for k in range(n):\n",
    "        s += V[k]**2 / (1.j * matsu_freq - e[k])\n",
    "    return s\n",
    "\n",
    "def matsuHamParameters(matsu_hyb_func, n_k):\n",
    "    \n",
    "    # The format of the argument of matsu_optimize_me is V_i, e_i\n",
    "    def matsu_optimize_me(args):\n",
    "        n = len(args)\n",
    "        V = args[:n//2]\n",
    "        e = args[n//2:]\n",
    "        return np.linalg.norm(matsu_hyb_func - matsuHybridizationFunction(V, e)) ** 2\n",
    "    \n",
    "    args_ini = np.zeros(2 * n_k)\n",
    "    \n",
    "    # minimize matsu_optimize_me\n",
    "    res = minimize(matsu_optimize_me, args_ini, method = 'Powell', tol = 1e-10)\n",
    "    V = res.x[:n_k]\n",
    "    e = res.x[n_k:]\n",
    "    return V, e, res.fun"
   ]
  },
  {
   "cell_type": "code",
   "execution_count": 5,
   "metadata": {},
   "outputs": [
    {
     "data": {
      "text/plain": [
       "(array([1.76368158, 8.6601146 , 2.28879293]),\n",
       " array([-1.61659119, -2.95261278,  1.09233598]),\n",
       " 0.003939311549592378)"
      ]
     },
     "execution_count": 5,
     "metadata": {},
     "output_type": "execute_result"
    }
   ],
   "source": [
    "# Check that it works properly\n",
    "\n",
    "n_k = 3\n",
    "V = [3.6, 2.3, 8.1]\n",
    "e = [-2.1, 1.1, -3.1]\n",
    "\n",
    "matsu_hyb_func = matsuHybridizationFunction(V, e)\n",
    "matsuHamParameters(matsu_hyb_func, n_k)"
   ]
  },
  {
   "cell_type": "markdown",
   "metadata": {},
   "source": [
    "# Constructing the hamiltonian\n",
    "\n",
    "Using the hamiltonian parameters $\\{V_k, \\epsilon_k\\}_k$, we can now construct the hamiltonian. We use the following convention indexing the sites with $i$:\n",
    "- If $i$ is even, the site has spin up\n",
    "- If $i$ is odd, the site has spin down\n",
    "- $i//2 = 0$ indicates the impurity site\n",
    "- $i//2 = k > 0$ indicates site k - 1\n",
    "\n",
    "For example 100100 indicates that the spin up impurity site and the spin down first bath level are filled.\n",
    "\n",
    "Creation operator are ordered with the smallest index on the left:\n",
    "\n",
    "$$ |100100\\rangle = a_\\uparrow^\\dagger c_{1, \\downarrow}^\\dagger |000000\\rangle = c_1^\\dagger c_4^\\dagger |000000\\rangle$$\n",
    "\n",
    "### Change sign with ordering of operator\n",
    "\n",
    "With fermionic system, a state is defined with a conventional ordering of fermionic operators. For example:\n",
    "\n",
    "$$ | 1001 \\rangle = c_1^\\dagger c_4^\\dagger | 0 \\rangle = - c_4^\\dagger c_1^\\dagger | 0 \\rangle $$\n",
    "$$ | 1110 \\rangle = c_1^\\dagger c_2^\\dagger c_3^\\dagger | 0 \\rangle $$\n",
    "\n",
    "The Hamiltonian should reflect this because `create` and `destroy` do not have the good anticommutation relations.\n",
    "\n",
    "Defining $c_k^\\dagger = \\bigotimes_{j < k} \\sigma_j^z \\otimes \\sigma_k^+$ ensures the correct anticommutation relations."
   ]
  },
  {
   "cell_type": "code",
   "execution_count": 6,
   "metadata": {},
   "outputs": [],
   "source": [
    "def AIM(V, e, U):\n",
    "    \n",
    "    # Number of sites in the bath\n",
    "    nk = len(V)\n",
    "    \n",
    "    # Total number of sites\n",
    "    n = 2 * (nk + 1)\n",
    "    \n",
    "    # Defines the fermionic creation operators\n",
    "    cdags = []\n",
    "    for k in range(n):\n",
    "        prod = [sigmaz() for x in range(k)] + [create(2)] + [qeye(2) for x in range(n - k - 1)]\n",
    "        cdags.append(tensor(prod))\n",
    "    \n",
    "    # Impurity on-site interaction\n",
    "    prod = [qeye(2) for x in range(n)]\n",
    "    prod[0] = num(2)\n",
    "    prod[1] = num(2)\n",
    "    H1 = U * tensor(prod)\n",
    "    \n",
    "    # Impurity chemical potential\n",
    "    prod = [qeye(2) for x in range(n)]\n",
    "    prod[0] = num(2)\n",
    "    H2 = - (U/2) * tensor(prod)\n",
    "    prod = [qeye(2) for x in range(n)]\n",
    "    prod[1] = num(2)\n",
    "    H2 += - (U/2) * tensor(prod)\n",
    "    \n",
    "    # Bath energy levels\n",
    "    H3 = H1 * 0\n",
    "    for k in range(nk):\n",
    "        for spin in range(2):\n",
    "            prod = [qeye(2) for x in range(n)]\n",
    "            prod[2*(k + 1) + spin] = num(2)\n",
    "            H3 += e[k] * tensor(prod)\n",
    "    \n",
    "    # Bath-impurity interaction\n",
    "    H4 = H1 * 0\n",
    "    for k in range(nk):\n",
    "        for spin in range(2):\n",
    "            \n",
    "            H4 += V[k] * cdags[2*(k + 1) + spin] * cdags[spin].dag()\n",
    "            \n",
    "            H4 += V[k] * cdags[spin] * cdags[2*(k + 1) + spin].dag()\n",
    "            \n",
    "    return H1 + H2 + H3 + H4"
   ]
  },
  {
   "cell_type": "markdown",
   "metadata": {},
   "source": [
    "##### An example to check that the hamiltonian is correct"
   ]
  },
  {
   "cell_type": "code",
   "execution_count": 7,
   "metadata": {
    "scrolled": true
   },
   "outputs": [
    {
     "data": {
      "text/latex": [
       "Quantum object: dims = [[2, 2, 2, 2, 2, 2], [2, 2, 2, 2, 2, 2]], shape = (64, 64), type = oper, isherm = True\\begin{equation*}\\left(\\begin{array}{*{11}c}0.0 & 0.0 & 0.0 & 0.0 & 0.0 & \\cdots & 0.0 & 0.0 & 0.0 & 0.0 & 0.0\\\\0.0 & -3.0 & 0.0 & 0.0 & 0.0 & \\cdots & 0.0 & 0.0 & 0.0 & 0.0 & 0.0\\\\0.0 & 0.0 & -3.0 & 0.0 & 0.0 & \\cdots & 0.0 & 0.0 & 0.0 & 0.0 & 0.0\\\\0.0 & 0.0 & 0.0 & -6.0 & 0.0 & \\cdots & 0.0 & 0.0 & 0.0 & 0.0 & 0.0\\\\0.0 & 0.0 & 0.0 & 0.0 & 3.0 & \\cdots & 0.0 & 0.0 & 0.0 & 0.0 & 0.0\\\\\\vdots & \\vdots & \\vdots & \\vdots & \\vdots & \\ddots & \\vdots & \\vdots & \\vdots & \\vdots & \\vdots\\\\0.0 & 0.0 & 0.0 & 0.0 & 0.0 & \\cdots & -3.0 & 0.0 & 0.0 & 0.0 & 0.0\\\\0.0 & 0.0 & 0.0 & 0.0 & 0.0 & \\cdots & 0.0 & 6.0 & 0.0 & 0.0 & 0.0\\\\0.0 & 0.0 & 0.0 & 0.0 & 0.0 & \\cdots & 0.0 & 0.0 & 3.0 & 0.0 & 0.0\\\\0.0 & 0.0 & 0.0 & 0.0 & 0.0 & \\cdots & 0.0 & 0.0 & 0.0 & 3.0 & 0.0\\\\0.0 & 0.0 & 0.0 & 0.0 & 0.0 & \\cdots & 0.0 & 0.0 & 0.0 & 0.0 & 0.0\\\\\\end{array}\\right)\\end{equation*}"
      ],
      "text/plain": [
       "Quantum object: dims = [[2, 2, 2, 2, 2, 2], [2, 2, 2, 2, 2, 2]], shape = (64, 64), type = oper, isherm = True\n",
       "Qobj data =\n",
       "[[ 0.  0.  0. ...  0.  0.  0.]\n",
       " [ 0. -3.  0. ...  0.  0.  0.]\n",
       " [ 0.  0. -3. ...  0.  0.  0.]\n",
       " ...\n",
       " [ 0.  0.  0. ...  3.  0.  0.]\n",
       " [ 0.  0.  0. ...  0.  3.  0.]\n",
       " [ 0.  0.  0. ...  0.  0.  0.]]"
      ]
     },
     "execution_count": 7,
     "metadata": {},
     "output_type": "execute_result"
    }
   ],
   "source": [
    "H = AIM([2, 2], [3, -3], 1)\n",
    "H"
   ]
  },
  {
   "cell_type": "code",
   "execution_count": 8,
   "metadata": {
    "scrolled": false
   },
   "outputs": [
    {
     "data": {
      "text/plain": [
       "(-0.5+0j)"
      ]
     },
     "execution_count": 8,
     "metadata": {},
     "output_type": "execute_result"
    }
   ],
   "source": [
    "H[int('100000', 2), int('100000', 2)]"
   ]
  },
  {
   "cell_type": "markdown",
   "metadata": {},
   "source": [
    "### Impurity Green's function\n",
    "\n",
    "We compute the diagonal element of the Green's function corresponding to the impurity spin up site in frequency space.\n",
    "\n",
    "$$ G(\\omega) = \\frac{1}{Z} \\sum_{n,n'} \\frac{|\\langle n' | c_\\uparrow^\\dagger | n \\rangle|^2}{\\omega + E_n - E_{n'} + i\\delta} \\left( e^{-\\beta E_n} + e^{-\\beta E_{n'}} \\right) $$\n",
    "\n",
    "$$ G(i \\omega_k) = \\frac{1}{Z} \\sum_{n,n'} \\frac{|\\langle n' | c_\\uparrow^\\dagger | n \\rangle|^2}{i \\omega_k + E_n - E_{n'}} \\left( e^{-\\beta E_n} + e^{-\\beta E_{n'}} \\right) $$"
   ]
  },
  {
   "cell_type": "code",
   "execution_count": 9,
   "metadata": {},
   "outputs": [],
   "source": [
    "# Returns the spin up impurity green's function given the hamiltonian\n",
    "\n",
    "def impurity_green(H, T):\n",
    "    \n",
    "    beta = 1/T\n",
    "    \n",
    "    # Get the eigendecomposition\n",
    "    eigvals, eigvecs = np.linalg.eigh(H._data.todense())\n",
    "    n = len(eigvals)\n",
    "    \n",
    "    # The partition function\n",
    "    Z = np.sum(np.exp(-beta * eigvals))\n",
    "    \n",
    "    # Green's function\n",
    "    G = 0\n",
    "    for i in range(n):\n",
    "        for j in range(n):\n",
    "            \n",
    "            ei = eigvecs[:,i].copy()\n",
    "            ej = eigvecs[:,j].copy()\n",
    "            \n",
    "            # Computing c^dagger|j>\n",
    "            ej[n//2:] = ej[:n//2]\n",
    "            ej[:n//2] = 0\n",
    "            \n",
    "            prob = abs((ei.H @ ej)[0,0])**2\n",
    "            \n",
    "            G += prob * (np.exp(-beta * eigvals[i]) + np.exp(-beta * eigvals[j])) / (omega + eigvals[j] - eigvals[i] + 1.j * delta)\n",
    "    \n",
    "    return G / Z"
   ]
  },
  {
   "cell_type": "code",
   "execution_count": 10,
   "metadata": {},
   "outputs": [],
   "source": [
    "# Returns the spin up impurity green's function with Matsubara frequencies given the hamiltonian\n",
    "\n",
    "def matsu_impurity_green(H, T):\n",
    "    \n",
    "    beta = 1/T\n",
    "    \n",
    "    # Get the eigendecomposition\n",
    "    eigvals, eigvecs = np.linalg.eigh(H._data.todense())\n",
    "    n = len(eigvals)\n",
    "    \n",
    "    # The partition function\n",
    "    Z = np.sum(np.exp(-beta * eigvals))\n",
    "    \n",
    "    # Green's function\n",
    "    G = 0\n",
    "    for i in range(n):\n",
    "        for j in range(n):\n",
    "            \n",
    "            ei = eigvecs[:,i].copy()\n",
    "            ej = eigvecs[:,j].copy()\n",
    "            \n",
    "            # Computing c^dagger|j>\n",
    "            # No anticommutation problem because we consider the first site\n",
    "            ej[n//2:] = ej[:n//2]\n",
    "            ej[:n//2] = 0                \n",
    "            \n",
    "            prob = abs((ei.H @ ej)[0,0])**2\n",
    "            \n",
    "            G += prob * (np.exp(-beta * eigvals[i]) + np.exp(-beta * eigvals[j])) / (1.j * matsu_freq + eigvals[j] - eigvals[i])\n",
    "    \n",
    "    return G / Z"
   ]
  },
  {
   "cell_type": "markdown",
   "metadata": {},
   "source": [
    "### Computing Green's function with the Lanczos algorithm\n",
    "\n",
    "##### At zero temperature\n",
    "\n",
    "- Compute the ground state\n",
    "- Obtain the Lanczos coefficients starting from the ground state"
   ]
  },
  {
   "cell_type": "code",
   "execution_count": 315,
   "metadata": {},
   "outputs": [],
   "source": [
    "# Performs m iteration of the Lanczos algorithm on H with initial vector x\n",
    "\n",
    "def Lanczos(H, x, m):\n",
    "    \n",
    "    lx = [0 * x, x]\n",
    "    a = []\n",
    "    b = [0]\n",
    "    \n",
    "    for k in range(m - 1):\n",
    "        \n",
    "        y = H * lx[-1]\n",
    "        a.append((lx[-1].dag() * y).tr())\n",
    "        y = y - a[-1] * lx[-1] - b[-1] * lx[-2]\n",
    "        b.append(y.norm())\n",
    "        lx.append(y / b[-1])\n",
    "        \n",
    "        # Warn in case b becomes small\n",
    "        if b[-1] < 1e-5:\n",
    "            print(r\"Warning: Small b\")\n",
    "\n",
    "    y = H * lx[-1]\n",
    "    a.append((lx[-1].dag() * y).tr())\n",
    "    \n",
    "    del lx[0]\n",
    "    \n",
    "    return lx, a, b"
   ]
  },
  {
   "cell_type": "code",
   "execution_count": 316,
   "metadata": {},
   "outputs": [],
   "source": [
    "# Recompose the matrices T and U from the output of Lanczos such that H = U * T * U^dag\n",
    "\n",
    "def Lanczos_recompose(lx, a, b):\n",
    "    \n",
    "    m = len(a)\n",
    "    n = lx[0].shape[0]\n",
    "    \n",
    "    T = np.zeros((m,m), dtype = complex)\n",
    "    U = np.zeros((n,m), dtype = complex)\n",
    "\n",
    "    for k in range(m - 1):\n",
    "        T[k,k] = a[k]\n",
    "        T[k, k + 1] = b[k + 1]\n",
    "        T[k + 1, k] = b[k + 1]\n",
    "    T[-1, -1] = a[-1]\n",
    "\n",
    "    for k in range(m):\n",
    "        U[:,k] = np.array(lx[k]).flatten()\n",
    "\n",
    "    return Qobj(T), Qobj(U)"
   ]
  },
  {
   "cell_type": "code",
   "execution_count": 323,
   "metadata": {},
   "outputs": [
    {
     "name": "stdout",
     "output_type": "stream",
     "text": [
      "[-2.16852058e+00 -1.40753645e+00  1.20816237e-15  1.89150472e+00\n",
      "  2.50000000e+00  2.82041335e+00  3.90753645e+00  6.00000000e+00\n",
      "  6.60849528e+00  7.84810723e+00]\n",
      "[-2.16852058 -1.40753645 -1.40753645  0.          1.89150472  1.89150472\n",
      "  2.5         2.5         2.5         2.82041335  3.90753645  3.90753645\n",
      "  6.          6.60849528  6.60849528  7.84810723]\n"
     ]
    }
   ],
   "source": [
    "# A test with one bath site\n",
    "\n",
    "M = AIM([2], [3], 1)\n",
    "M.dims = [[16],[16]]\n",
    "\n",
    "x0 = Qobj(np.random.rand(16))\n",
    "x0 = x0 / x0.norm()\n",
    "\n",
    "lx, a, b = Lanczos(M, x0, 10)\n",
    "\n",
    "T, U = Lanczos_recompose(lx, a, b)\n",
    "\n",
    "Teigs, Tvecs = np.linalg.eigh(T._data.todense())\n",
    "Meigs, Mvecs = np.linalg.eigh(M._data.todense())\n",
    "\n",
    "print(Teigs)\n",
    "print(Meigs)"
   ]
  },
  {
   "cell_type": "code",
   "execution_count": 505,
   "metadata": {},
   "outputs": [],
   "source": [
    "# Returns the spin up impurity green's function given the hamiltonian using the Lanczos algorithm\n",
    "\n",
    "# m1 is the number of Lanczos iteration for the first step and m2 for the second\n",
    "\n",
    "# TO BEGIN WE ASSUME THAT THE TEMPERATURE IS LOW ENOUGH THAT WE CAN NEGLECT ALL TERMS DIFFERENT FROM THE GROUND STATE\n",
    "\n",
    "def Lanczos_green(H, T, m1, m2):\n",
    "    \n",
    "    # Compute the ground state\n",
    "    n = H.shape[0]\n",
    "    x0 = Qobj(np.random.rand(n))\n",
    "    x0 = x0 / x0.norm()\n",
    "    \n",
    "    lx, a, b = Lanczos(H, x0, m1)\n",
    "    T, U = Lanczos_recompose(lx, a, b)\n",
    "    \n",
    "    Teigs, Tvecs = np.linalg.eigh(T._data.todense())\n",
    "    \n",
    "    for i in range(m1):\n",
    "        for j in range(i + 1, m1):\n",
    "            print((lx[i].dag() * lx[j]).tr())\n",
    "    \n",
    "    print(b)\n",
    "    \n",
    "    return Teigs[0], U * Qobj(Tvecs[:,0])\n",
    "\n",
    "    # Second Lanczos starting from GS\n",
    "    # ..."
   ]
  },
  {
   "cell_type": "code",
   "execution_count": 506,
   "metadata": {
    "scrolled": false
   },
   "outputs": [
    {
     "name": "stdout",
     "output_type": "stream",
     "text": [
      "Warning: Small b\n",
      "0.0\n",
      "0.0\n",
      "0.0\n",
      "0.0\n",
      "0.0\n",
      "0.0\n",
      "0.0\n",
      "0.0\n",
      "0.0\n",
      "0.0\n",
      "0.0\n",
      "0.0\n",
      "0.0\n",
      "0.0\n",
      "-1.6521711082573276e-11\n",
      "6.470482569881364e-12\n",
      "-1.916984129757531e-08\n",
      "-0.002350788769928757\n",
      "-0.05606660318398549\n",
      "0.0\n",
      "0.0\n",
      "0.0\n",
      "0.0\n",
      "0.0\n",
      "0.0\n",
      "0.0\n",
      "0.0\n",
      "0.0\n",
      "0.0\n",
      "0.0\n",
      "0.0\n",
      "-1.1976737996334205e-11\n",
      "1.4382726671972879e-11\n",
      "-2.3033950183955383e-10\n",
      "-2.850535680538706e-09\n",
      "-0.08410081977201188\n",
      "-0.11229233829967743\n",
      "0.0\n",
      "0.0\n",
      "0.0\n",
      "0.0\n",
      "0.0\n",
      "0.0\n",
      "0.0\n",
      "0.0\n",
      "0.0\n",
      "0.0\n",
      "-1.099337201132533e-12\n",
      "0.0\n",
      "-3.88086192956022e-11\n",
      "-2.2916042978146645e-11\n",
      "-4.738292181348785e-08\n",
      "-0.021772612386377694\n",
      "-0.1552905671797651\n",
      "0.0\n",
      "0.0\n",
      "0.0\n",
      "0.0\n",
      "0.0\n",
      "0.0\n",
      "0.0\n",
      "0.0\n",
      "0.0\n",
      "0.0\n",
      "-8.520230639861301e-12\n",
      "0.0\n",
      "-1.6212950865743606e-10\n",
      "-1.5595846089142462e-08\n",
      "-0.05891545487174841\n",
      "-0.12165684761233875\n",
      "0.0\n",
      "0.0\n",
      "0.0\n",
      "0.0\n",
      "0.0\n",
      "0.0\n",
      "0.0\n",
      "0.0\n",
      "0.0\n",
      "-4.7933050080105e-12\n",
      "0.0\n",
      "-1.1075950139688429e-10\n",
      "-4.777402270550284e-09\n",
      "-0.048182875541577116\n",
      "-0.061887275329220115\n",
      "0.0\n",
      "0.0\n",
      "0.0\n",
      "0.0\n",
      "0.0\n",
      "0.0\n",
      "0.0\n",
      "-4.709102899291828e-12\n",
      "4.734919959370129e-11\n",
      "-2.2332258351603906e-10\n",
      "1.0176294269054198e-09\n",
      "-2.380814091239693e-07\n",
      "0.39260723884297816\n",
      "-0.2932452538932053\n",
      "0.0\n",
      "0.0\n",
      "0.0\n",
      "0.0\n",
      "0.0\n",
      "0.0\n",
      "4.607935127215468e-12\n",
      "-8.00737479930225e-11\n",
      "2.519958755011452e-10\n",
      "-1.7007073054541022e-09\n",
      "2.333231255558898e-07\n",
      "-0.6599471311688542\n",
      "-0.006242133505125549\n",
      "0.0\n",
      "0.0\n",
      "0.0\n",
      "0.0\n",
      "0.0\n",
      "-4.929773603223886e-12\n",
      "3.351441625848266e-11\n",
      "-2.1755572126788691e-10\n",
      "7.28358640327692e-10\n",
      "-2.480183060844061e-07\n",
      "0.2788630061432534\n",
      "-0.4435992798555645\n",
      "0.0\n",
      "0.0\n",
      "0.0\n",
      "0.0\n",
      "1.272684865480378e-12\n",
      "-3.626428367667356e-11\n",
      "8.374880080879929e-11\n",
      "-7.613079123277439e-10\n",
      "6.477579942858235e-08\n",
      "-0.29626810127176423\n",
      "-0.12227713280827476\n",
      "0.0\n",
      "0.0\n",
      "0.0\n",
      "-1.2977978067207907e-12\n",
      "6.601964987066125e-12\n",
      "-5.459093788996727e-11\n",
      "1.447816176843031e-10\n",
      "-6.434871872677828e-08\n",
      "0.05502950760846102\n",
      "-0.13349636603485845\n",
      "0.0\n",
      "0.0\n",
      "0.0\n",
      "0.0\n",
      "1.377582509870523e-12\n",
      "-1.3230574621991842e-11\n",
      "1.0079121079420439e-09\n",
      "-0.00514666417204446\n",
      "-0.0024755612404541456\n",
      "0.0\n",
      "0.0\n",
      "0.0\n",
      "0.0\n",
      "0.0\n",
      "-1.5021557064773478e-10\n",
      "3.009443827483459e-05\n",
      "-0.00041887561284386266\n",
      "0.0\n",
      "0.0\n",
      "0.0\n",
      "0.0\n",
      "2.826271784965237e-11\n",
      "-0.00014037334338040406\n",
      "-6.818752182151328e-05\n",
      "0.0\n",
      "0.0\n",
      "0.0\n",
      "-4.544203284061882e-12\n",
      "3.947544727320717e-06\n",
      "-9.429844128034093e-06\n",
      "0.0\n",
      "0.0\n",
      "0.0\n",
      "-4.3192128656707154e-07\n",
      "-4.2656957858748093e-08\n",
      "0.0\n",
      "0.0\n",
      "3.551001798897419e-07\n",
      "-3.117618331647871e-10\n",
      "0.0\n",
      "-2.5708780016079916e-08\n",
      "3.118615287449924e-08\n",
      "7.52578079098803e-08\n",
      "8.056122567532682e-08\n",
      "0.0\n",
      "[0, 3.59211983464485, 5.707889434836529, 4.468175098706571, 4.476609905627733, 0.5229974927188754, 5.05435718382823, 5.079160483966497, 4.056246468668439, 3.7153164163049954, 0.3233277809037145, 0.42086332961135026, 3.2617005649826893, 0.5467742593508573, 0.6530216971747692, 2.7510430235146415, 0.9173717577929839, 0.04235122505252263, 4.031161612861478e-06, 5.640331731997214]\n",
      "Lanczos ground energy: -8.575\n",
      "True ground energy:    -8.575\n",
      "\n",
      "|TGS - GS|: 0.3816\n",
      "\n",
      "\n",
      "TGS: Quantum object: dims = [[64], [1]], shape = (64, 1), type = ket\n",
      "Qobj data =\n",
      "[[ 0.        ]\n",
      " [ 0.        ]\n",
      " [ 0.        ]\n",
      " [ 0.        ]\n",
      " [ 0.        ]\n",
      " [ 0.        ]\n",
      " [ 0.        ]\n",
      " [ 0.3705568 ]\n",
      " [ 0.        ]\n",
      " [ 0.        ]\n",
      " [ 0.        ]\n",
      " [ 0.14972518]\n",
      " [ 0.        ]\n",
      " [-0.05784766]\n",
      " [-0.02337361]\n",
      " [ 0.        ]\n",
      " [ 0.        ]\n",
      " [ 0.        ]\n",
      " [ 0.        ]\n",
      " [-0.71449677]\n",
      " [ 0.        ]\n",
      " [ 0.        ]\n",
      " [-0.10611287]\n",
      " [ 0.        ]\n",
      " [ 0.        ]\n",
      " [-0.10611287]\n",
      " [-0.08575079]\n",
      " [ 0.        ]\n",
      " [ 0.01644041]\n",
      " [ 0.        ]\n",
      " [ 0.        ]\n",
      " [ 0.        ]\n",
      " [ 0.        ]\n",
      " [ 0.        ]\n",
      " [ 0.        ]\n",
      " [-0.28869571]\n",
      " [ 0.        ]\n",
      " [ 0.21222574]\n",
      " [ 0.04287539]\n",
      " [ 0.        ]\n",
      " [ 0.        ]\n",
      " [ 0.04287539]\n",
      " [ 0.        ]\n",
      " [ 0.        ]\n",
      " [ 0.00664282]\n",
      " [ 0.        ]\n",
      " [ 0.        ]\n",
      " [ 0.        ]\n",
      " [ 0.        ]\n",
      " [-0.3705568 ]\n",
      " [-0.14972518]\n",
      " [ 0.        ]\n",
      " [ 0.05784766]\n",
      " [ 0.        ]\n",
      " [ 0.        ]\n",
      " [ 0.        ]\n",
      " [ 0.02337361]\n",
      " [ 0.        ]\n",
      " [ 0.        ]\n",
      " [ 0.        ]\n",
      " [ 0.        ]\n",
      " [ 0.        ]\n",
      " [ 0.        ]\n",
      " [ 0.        ]]\n",
      "\n",
      "GS: Quantum object: dims = [[64], [1]], shape = (64, 1), type = ket\n",
      "Qobj data =\n",
      "[[ 0.00000000e+00]\n",
      " [ 0.00000000e+00]\n",
      " [ 0.00000000e+00]\n",
      " [ 0.00000000e+00]\n",
      " [ 0.00000000e+00]\n",
      " [ 0.00000000e+00]\n",
      " [ 0.00000000e+00]\n",
      " [ 3.99662320e-01]\n",
      " [ 0.00000000e+00]\n",
      " [ 0.00000000e+00]\n",
      " [ 0.00000000e+00]\n",
      " [ 9.56925444e-08]\n",
      " [ 0.00000000e+00]\n",
      " [-6.23913271e-02]\n",
      " [-1.49385732e-08]\n",
      " [ 0.00000000e+00]\n",
      " [ 0.00000000e+00]\n",
      " [ 0.00000000e+00]\n",
      " [ 0.00000000e+00]\n",
      " [-7.70617184e-01]\n",
      " [ 0.00000000e+00]\n",
      " [ 0.00000000e+00]\n",
      " [-1.14447546e-01]\n",
      " [ 0.00000000e+00]\n",
      " [ 0.00000000e+00]\n",
      " [-1.14447546e-01]\n",
      " [-5.48051508e-08]\n",
      " [ 0.00000000e+00]\n",
      " [ 1.77317289e-02]\n",
      " [ 0.00000000e+00]\n",
      " [ 0.00000000e+00]\n",
      " [ 0.00000000e+00]\n",
      " [ 0.00000000e+00]\n",
      " [ 0.00000000e+00]\n",
      " [ 0.00000000e+00]\n",
      " [-1.84511562e-07]\n",
      " [ 0.00000000e+00]\n",
      " [ 2.28895092e-01]\n",
      " [ 2.74025754e-08]\n",
      " [ 0.00000000e+00]\n",
      " [ 0.00000000e+00]\n",
      " [ 2.74025754e-08]\n",
      " [ 0.00000000e+00]\n",
      " [ 0.00000000e+00]\n",
      " [ 4.24556973e-09]\n",
      " [ 0.00000000e+00]\n",
      " [ 0.00000000e+00]\n",
      " [ 0.00000000e+00]\n",
      " [ 0.00000000e+00]\n",
      " [-3.99662320e-01]\n",
      " [-9.56925443e-08]\n",
      " [ 0.00000000e+00]\n",
      " [ 6.23913271e-02]\n",
      " [ 0.00000000e+00]\n",
      " [ 0.00000000e+00]\n",
      " [ 0.00000000e+00]\n",
      " [ 1.49385732e-08]\n",
      " [ 0.00000000e+00]\n",
      " [ 0.00000000e+00]\n",
      " [ 0.00000000e+00]\n",
      " [ 0.00000000e+00]\n",
      " [ 0.00000000e+00]\n",
      " [ 0.00000000e+00]\n",
      " [ 0.00000000e+00]]\n"
     ]
    }
   ],
   "source": [
    "# Test\n",
    "\n",
    "H = AIM([2,2], [3,-3], 1)\n",
    "n1,n2 = H.shape\n",
    "H.dims = [[n1],[n2]]\n",
    "\n",
    "TE0, TGS = Lanczos_green(H, 0.1, 20, 'hello')\n",
    "TGS = TGS / TGS.norm()\n",
    "\n",
    "Heigs, Hvecs = np.linalg.eigh(H._data.todense())\n",
    "E0, GS = Heigs[0], Qobj(Hvecs[:,0])\n",
    "GS = GS / GS.norm()\n",
    "\n",
    "print(\"Lanczos ground energy: {:.4}\".format(TE0))\n",
    "print(\"True ground energy:    {:.4}\".format(E0))\n",
    "print(\"\\n|TGS - GS|: {:.4}\".format(min((TGS - GS).norm(), (TGS + GS).norm())))\n",
    "print(\"\\n\\nTGS: \" + str(TGS))\n",
    "print(\"\\nGS: \" + str(GS))"
   ]
  },
  {
   "cell_type": "code",
   "execution_count": 464,
   "metadata": {},
   "outputs": [
    {
     "data": {
      "text/latex": [
       "Quantum object: dims = [[64], [1]], shape = (64, 1), type = ket\\begin{equation*}\\left(\\begin{array}{*{11}c}0.0\\\\0.0\\\\0.0\\\\1.590\\times10^{-12}\\\\0.0\\\\\\vdots\\\\2.371\\times10^{-11}\\\\0.0\\\\-1.436\\times10^{-11}\\\\-1.921\\times10^{-11}\\\\6.155\\times10^{-12}\\\\\\end{array}\\right)\\end{equation*}"
      ],
      "text/plain": [
       "Quantum object: dims = [[64], [1]], shape = (64, 1), type = ket\n",
       "Qobj data =\n",
       "[[ 0.00000000e+00]\n",
       " [ 0.00000000e+00]\n",
       " [ 0.00000000e+00]\n",
       " [ 1.58987693e-12]\n",
       " [ 0.00000000e+00]\n",
       " [ 7.81348033e-12]\n",
       " [ 0.00000000e+00]\n",
       " [-3.67225117e-01]\n",
       " [ 0.00000000e+00]\n",
       " [ 0.00000000e+00]\n",
       " [ 0.00000000e+00]\n",
       " [ 1.57743374e-01]\n",
       " [-1.81036741e-12]\n",
       " [ 5.73275518e-02]\n",
       " [-2.46253348e-02]\n",
       " [ 1.86726803e-12]\n",
       " [ 0.00000000e+00]\n",
       " [ 2.52191583e-12]\n",
       " [ 0.00000000e+00]\n",
       " [ 7.08072718e-01]\n",
       " [ 5.44200410e-12]\n",
       " [ 0.00000000e+00]\n",
       " [ 1.05158809e-01]\n",
       " [ 0.00000000e+00]\n",
       " [-1.31858894e-12]\n",
       " [ 1.05158809e-01]\n",
       " [-9.03429779e-02]\n",
       " [ 0.00000000e+00]\n",
       " [-1.62925947e-02]\n",
       " [ 0.00000000e+00]\n",
       " [ 0.00000000e+00]\n",
       " [-2.32065547e-11]\n",
       " [ 0.00000000e+00]\n",
       " [ 1.52156749e-12]\n",
       " [ 0.00000000e+00]\n",
       " [-3.04156155e-01]\n",
       " [ 0.00000000e+00]\n",
       " [-2.10317617e-01]\n",
       " [ 4.51714890e-02]\n",
       " [-1.05082995e-12]\n",
       " [ 0.00000000e+00]\n",
       " [ 4.51714890e-02]\n",
       " [ 0.00000000e+00]\n",
       " [ 3.68646989e-12]\n",
       " [ 6.99856504e-03]\n",
       " [ 0.00000000e+00]\n",
       " [ 8.01614876e-12]\n",
       " [-3.10448781e-11]\n",
       " [ 2.22722717e-12]\n",
       " [ 3.67225117e-01]\n",
       " [-1.57743374e-01]\n",
       " [ 0.00000000e+00]\n",
       " [-5.73275518e-02]\n",
       " [ 0.00000000e+00]\n",
       " [-2.27402018e-12]\n",
       " [ 1.77336196e-11]\n",
       " [ 2.46253348e-02]\n",
       " [ 2.92483409e-12]\n",
       " [ 1.15145345e-11]\n",
       " [ 2.37092187e-11]\n",
       " [ 0.00000000e+00]\n",
       " [-1.43613631e-11]\n",
       " [-1.92108304e-11]\n",
       " [ 6.15511406e-12]]"
      ]
     },
     "execution_count": 464,
     "metadata": {},
     "output_type": "execute_result"
    }
   ],
   "source": [
    "TGS"
   ]
  },
  {
   "cell_type": "code",
   "execution_count": 465,
   "metadata": {},
   "outputs": [
    {
     "data": {
      "text/latex": [
       "Quantum object: dims = [[64], [1]], shape = (64, 1), type = ket\\begin{equation*}\\left(\\begin{array}{*{11}c}0.0\\\\0.0\\\\1.193\\times10^{-17}\\\\-1.581\\times10^{-16}\\\\0.0\\\\\\vdots\\\\0.0\\\\-7.833\\times10^{-19}\\\\0.0\\\\0.0\\\\0.0\\\\\\end{array}\\right)\\end{equation*}"
      ],
      "text/plain": [
       "Quantum object: dims = [[64], [1]], shape = (64, 1), type = ket\n",
       "Qobj data =\n",
       "[[ 0.00000000e+00]\n",
       " [ 0.00000000e+00]\n",
       " [ 1.19250561e-17]\n",
       " [-1.58089272e-16]\n",
       " [ 0.00000000e+00]\n",
       " [ 4.25945618e-16]\n",
       " [ 2.83278520e-17]\n",
       " [ 3.99662320e-01]\n",
       " [ 1.70668312e-16]\n",
       " [ 1.63064007e-16]\n",
       " [-8.32667268e-17]\n",
       " [ 9.56925444e-08]\n",
       " [ 1.11022302e-16]\n",
       " [-6.23913271e-02]\n",
       " [-1.49385732e-08]\n",
       " [-2.60208521e-18]\n",
       " [ 1.08420217e-19]\n",
       " [ 6.24839265e-17]\n",
       " [ 2.17815369e-16]\n",
       " [-7.70617184e-01]\n",
       " [ 2.62088461e-16]\n",
       " [ 0.00000000e+00]\n",
       " [-1.14447546e-01]\n",
       " [-2.58493941e-26]\n",
       " [ 3.54833232e-17]\n",
       " [-1.14447546e-01]\n",
       " [-5.48051508e-08]\n",
       " [-9.18234826e-19]\n",
       " [ 1.77317289e-02]\n",
       " [ 7.06819371e-28]\n",
       " [-1.10950334e-18]\n",
       " [ 9.86076132e-32]\n",
       " [-3.37256539e-17]\n",
       " [ 7.78807847e-17]\n",
       " [ 1.88579752e-17]\n",
       " [-1.84511562e-07]\n",
       " [ 9.24782028e-17]\n",
       " [ 2.28895092e-01]\n",
       " [ 2.74025754e-08]\n",
       " [ 8.88597614e-19]\n",
       " [-2.18702755e-18]\n",
       " [ 2.74025754e-08]\n",
       " [ 0.00000000e+00]\n",
       " [ 0.00000000e+00]\n",
       " [ 4.24556973e-09]\n",
       " [ 1.06738944e-18]\n",
       " [ 0.00000000e+00]\n",
       " [ 0.00000000e+00]\n",
       " [ 9.72746221e-17]\n",
       " [-3.99662320e-01]\n",
       " [-9.56925443e-08]\n",
       " [ 3.58836793e-18]\n",
       " [ 6.23913271e-02]\n",
       " [ 4.05176273e-27]\n",
       " [ 1.09112626e-18]\n",
       " [ 0.00000000e+00]\n",
       " [ 1.49385732e-08]\n",
       " [-1.14119809e-18]\n",
       " [ 0.00000000e+00]\n",
       " [ 0.00000000e+00]\n",
       " [-7.83300988e-19]\n",
       " [ 0.00000000e+00]\n",
       " [ 0.00000000e+00]\n",
       " [ 0.00000000e+00]]"
      ]
     },
     "execution_count": 465,
     "metadata": {},
     "output_type": "execute_result"
    }
   ],
   "source": [
    "GS"
   ]
  },
  {
   "cell_type": "markdown",
   "metadata": {},
   "source": [
    "# DMFT loop\n",
    "\n",
    "We work on the Bethe lattice for a simplified loop: $\\Delta(\\omega) = t^2 G_\\text{imp}$"
   ]
  },
  {
   "cell_type": "code",
   "execution_count": 11,
   "metadata": {},
   "outputs": [],
   "source": [
    "# Returns the spin up impurity green's function given the hybridization function\n",
    "\n",
    "def matsu_loopstep(matsu_hyb_func, n_k, U, T, verbose = False):\n",
    "    print(\"Retrieving hamiltonian parameters\")\n",
    "    V, e, val = matsuHamParameters(matsu_hyb_func, n_k)\n",
    "    print(\"Optimization MSE: {:.4}\".format(val))\n",
    "    print(V)\n",
    "    print(e)\n",
    "    H = AIM(V, e, U)\n",
    "    print(\"Computing green's function\\n\")\n",
    "    G = matsu_impurity_green(H, T)\n",
    "    realG = impurity_green(H, T)\n",
    "    return G, realG"
   ]
  },
  {
   "cell_type": "markdown",
   "metadata": {},
   "source": [
    "### Initial Green's function\n",
    "\n",
    "We start with a circular spectral function:\n",
    "\n",
    "$$G_\\text{ini}(\\omega) = \\frac{\\omega - \\text{sgn}(\\omega)\\sqrt{\\omega^2 - 4t^2}}{2t^2}$$\n",
    "or $$G_\\text{ini}(i\\omega_n) = \\frac{i\\omega_n - \\text{sgn}(\\omega_n)i\\sqrt{\\omega_n^2 + 4t^2}}{2t^2}$$"
   ]
  },
  {
   "cell_type": "code",
   "execution_count": 12,
   "metadata": {
    "scrolled": false
   },
   "outputs": [
    {
     "data": {
      "image/png": "[encoded data removed]",
      "text/plain": [
       "<Figure size 720x288 with 2 Axes>"
      ]
     },
     "metadata": {
      "needs_background": "light"
     },
     "output_type": "display_data"
    },
    {
     "data": {
      "image/png": "[encoded data removed]",
      "text/plain": [
       "<Figure size 720x288 with 2 Axes>"
      ]
     },
     "metadata": {
      "needs_background": "light"
     },
     "output_type": "display_data"
    }
   ],
   "source": [
    "t = 0.5\n",
    "\n",
    "hyb_func = (omega - np.sign(np.real(omega)) * (omega ** 2 - 4 * t ** 2) ** 0.5) / (2 * t ** 2)\n",
    "plot_complex(hyb_func, \"Real frequency Green's function\", is_matsu = False)\n",
    "\n",
    "matsu_hyb_func = (1.j * matsu_freq - np.sign(np.real(matsu_freq)) * 1.j * (matsu_freq ** 2 + 4 * t ** 2) ** 0.5) / (2 * t ** 2)\n",
    "plot_complex(matsu_hyb_func, \"Matsubara frequency Green's function\", is_matsu = True)"
   ]
  },
  {
   "cell_type": "code",
   "execution_count": 13,
   "metadata": {
    "scrolled": false
   },
   "outputs": [
    {
     "name": "stdout",
     "output_type": "stream",
     "text": [
      "Step 1\n",
      "Retrieving hamiltonian parameters\n",
      "Optimization MSE: 0.5569\n",
      "[0.61199111 0.61199115]\n",
      "[-0.18304568  0.18304571]\n",
      "Computing green's function\n",
      "\n",
      "Step 2\n",
      "Retrieving hamiltonian parameters\n",
      "Optimization MSE: 0.3396\n",
      "[0.66367587 0.66367587]\n",
      "[-0.67031277  0.67031281]\n",
      "Computing green's function\n",
      "\n",
      "Step 3\n",
      "Retrieving hamiltonian parameters\n",
      "Optimization MSE: 0.7688\n",
      "[-0.58644943 -0.45545348]\n",
      "[-0.01300384  0.46052301]\n",
      "Computing green's function\n",
      "\n",
      "Step 4\n",
      "Retrieving hamiltonian parameters\n",
      "Optimization MSE: 0.02526\n",
      "[0.71457433 0.6601536 ]\n",
      "[-0.67283742  0.6013415 ]\n",
      "Computing green's function\n",
      "\n",
      "Step 5\n",
      "Retrieving hamiltonian parameters\n",
      "Optimization MSE: 0.7951\n",
      "[-0.54663463  0.48667976]\n",
      "[-0.0052143   0.48867021]\n",
      "Computing green's function\n",
      "\n",
      "Done\n"
     ]
    },
    {
     "data": {
      "image/png": "[encoded data removed]",
      "text/plain": [
       "<Figure size 720x288 with 2 Axes>"
      ]
     },
     "metadata": {
      "needs_background": "light"
     },
     "output_type": "display_data"
    },
    {
     "data": {
      "image/png": "[encoded data removed]",
      "text/plain": [
       "<Figure size 720x288 with 2 Axes>"
      ]
     },
     "metadata": {
      "needs_background": "light"
     },
     "output_type": "display_data"
    },
    {
     "data": {
      "image/png": "[encoded data removed]",
      "text/plain": [
       "<Figure size 720x288 with 2 Axes>"
      ]
     },
     "metadata": {
      "needs_background": "light"
     },
     "output_type": "display_data"
    },
    {
     "data": {
      "image/png": "[encoded data removed]",
      "text/plain": [
       "<Figure size 720x288 with 2 Axes>"
      ]
     },
     "metadata": {
      "needs_background": "light"
     },
     "output_type": "display_data"
    },
    {
     "data": {
      "image/png": "[encoded data removed]",
      "text/plain": [
       "<Figure size 720x288 with 2 Axes>"
      ]
     },
     "metadata": {
      "needs_background": "light"
     },
     "output_type": "display_data"
    },
    {
     "data": {
      "image/png": "[encoded data removed]",
      "text/plain": [
       "<Figure size 720x288 with 2 Axes>"
      ]
     },
     "metadata": {
      "needs_background": "light"
     },
     "output_type": "display_data"
    },
    {
     "data": {
      "image/png": "[encoded data removed]",
      "text/plain": [
       "<Figure size 720x288 with 2 Axes>"
      ]
     },
     "metadata": {
      "needs_background": "light"
     },
     "output_type": "display_data"
    },
    {
     "data": {
      "image/png": "[encoded data removed]",
      "text/plain": [
       "<Figure size 720x288 with 2 Axes>"
      ]
     },
     "metadata": {
      "needs_background": "light"
     },
     "output_type": "display_data"
    },
    {
     "data": {
      "image/png": "[encoded data removed]",
      "text/plain": [
       "<Figure size 720x288 with 2 Axes>"
      ]
     },
     "metadata": {
      "needs_background": "light"
     },
     "output_type": "display_data"
    },
    {
     "data": {
      "image/png": "[encoded data removed]",
      "text/plain": [
       "<Figure size 720x288 with 2 Axes>"
      ]
     },
     "metadata": {
      "needs_background": "light"
     },
     "output_type": "display_data"
    }
   ],
   "source": [
    "# In Matsubara frequency\n",
    "\n",
    "# T was defined above\n",
    "n_k = 2\n",
    "U = 0.1\n",
    "\n",
    "t = 0.5\n",
    "matsu_hyb_func = (1.j * matsu_freq - np.sign(np.real(matsu_freq)) * 1.j * (matsu_freq ** 2 + 4 * t ** 2) ** 0.5) / (2 * t ** 2)\n",
    "\n",
    "for k in range(5):\n",
    "    print(\"Step {}\".format(k + 1))\n",
    "    matsu_hyb_func, realG = matsu_loopstep(matsu_hyb_func, n_k, U, T)\n",
    "    plot_complex(realG, \"Real frequency Green's function at step \" + str(k + 1), is_matsu = False)\n",
    "    plot_complex(matsu_hyb_func, \"Matsubara frequency Green's function at step \" + str(k + 1), is_matsu = True)\n",
    "\n",
    "print(\"Done\")"
   ]
  },
  {
   "cell_type": "markdown",
   "metadata": {},
   "source": [
    "### Random notes\n",
    "\n",
    "$$ G(i\\omega_n) = G^*(-i\\omega_n) $$\n",
    "\n",
    "Matsubara Green's function should have symmetric real part and antisymmetric imaginary part. Retarded Green's function should be the opposite: antisymmetric real part and symmetric imaginary part.\n",
    "\n",
    "The extrapolation at 0 of the imaginary part of $G(i\\omega_n)$ should be $A(0)$ (The value at 0 of the corresponding spectral function).\n",
    "\n",
    "The imaginary part of $G(i\\omega_n)$ should decay as $1/\\omega_n$."
   ]
  },
  {
   "cell_type": "markdown",
   "metadata": {},
   "source": [
    "Every energies should be degenerated twice\n",
    "\n",
    "Real frequency GF should have symmetric peak"
   ]
  },
  {
   "cell_type": "markdown",
   "metadata": {},
   "source": [
    "# Old stuff\n",
    "\n",
    "Real frequency loop and other old stuff that doesn't work."
   ]
  },
  {
   "cell_type": "code",
   "execution_count": 4,
   "metadata": {},
   "outputs": [],
   "source": [
    "def hybridizationFunction(V, e):\n",
    "    n = len(V)\n",
    "    s = omega * 0\n",
    "    for k in range(n):\n",
    "        s += V[k]**2 / (omega - e[k] + 1.j * delta)\n",
    "    return s\n",
    "\n",
    "def hamParameters(hyb_func, n_k, verbose = False):\n",
    "    \n",
    "    # The format of the argument of optimize_me is V_i, e_i\n",
    "    def optimize_me(args):\n",
    "        n = len(args)\n",
    "        V = args[:n//2]\n",
    "        e = args[n//2:]\n",
    "        return np.linalg.norm(hyb_func - hybridizationFunction(V, e))\n",
    "    \n",
    "    # Obtain initial guess\n",
    "    \n",
    "    # The energies are the minimums of the imaginary part\n",
    "    e_ini = np.real(omega[argrelmin(np.imag(hyb_func))])\n",
    "    \n",
    "    # The V_k are approximately sqrt(delta ** 2 * hyb_func(e_k)\n",
    "    V_ini = np.sqrt(-delta * np.imag(hyb_func)[argrelmin(np.imag(hyb_func))[0]])\n",
    "    \n",
    "    args_ini = np.zeros(2 * n_k)\n",
    "    args_ini[:n_k] = V_ini\n",
    "    args_ini[n_k:] = e_ini\n",
    "    \n",
    "    if verbose:\n",
    "        print(optimize_me(args_ini))\n",
    "        print(\"\\nV_ini: \")\n",
    "        print(V_ini)\n",
    "        print(\"\\ne_ini: \")\n",
    "        print(e_ini)\n",
    "    \n",
    "    # minimize optimize_me based on the initial guess\n",
    "    res = minimize(optimize_me, args_ini, method = 'BFGS')\n",
    "    V = res.x[:n_k]\n",
    "    e = res.x[n_k:]\n",
    "    return V, e, res.fun"
   ]
  },
  {
   "cell_type": "code",
   "execution_count": 145,
   "metadata": {},
   "outputs": [
    {
     "data": {
      "text/plain": [
       "(array([12.09999559,  9.30000403,  5.4999936 ,  2.09997706]),\n",
       " array([-7.00000001, -3.        ,  4.        ,  9.00000002]),\n",
       " 2.581014680362732)"
      ]
     },
     "execution_count": 145,
     "metadata": {},
     "output_type": "execute_result"
    }
   ],
   "source": [
    "# Check that it works properly\n",
    "\n",
    "n_k = 4\n",
    "V = [9.3, 12.1, 2.1, 5.5]\n",
    "e = [-3,-7,9,4]\n",
    "\n",
    "hyb_func = hybridizationFunction(V, e)\n",
    "hamParameters(hyb_func, n_k)"
   ]
  },
  {
   "cell_type": "code",
   "execution_count": 13,
   "metadata": {},
   "outputs": [],
   "source": [
    "# Returns the spin up impurity green's function given the hybridization function\n",
    "\n",
    "def loopstep(hyb_func, n_k, U, T):\n",
    "    V, e, val = hamParameters(hyb_func, n_k)\n",
    "    H = AIM(V, e, U)\n",
    "    G = impurity_green(H, T)\n",
    "    return G"
   ]
  },
  {
   "cell_type": "markdown",
   "metadata": {},
   "source": [
    "##### Wrong hamiltonian (for bosons)"
   ]
  },
  {
   "cell_type": "code",
   "execution_count": 8,
   "metadata": {},
   "outputs": [],
   "source": [
    "def AIM_old(V, e, U):\n",
    "    \n",
    "    # Number of sites in the bath\n",
    "    nk = len(V)\n",
    "    \n",
    "    # Total number of sites\n",
    "    n = 2 * (nk + 1)\n",
    "    \n",
    "    # Impurity on-site interaction\n",
    "    prod = [qeye(2) for x in range(n)]\n",
    "    prod[0] = num(2)\n",
    "    prod[1] = num(2)\n",
    "    H1 = U * tensor(prod)\n",
    "    \n",
    "    # Impurity chemical potential\n",
    "    prod = [qeye(2) for x in range(n)]\n",
    "    prod[0] = num(2)\n",
    "    H2 = - (U/2) * tensor(prod)\n",
    "    prod = [qeye(2) for x in range(n)]\n",
    "    prod[1] = num(2)\n",
    "    H2 += - (U/2) * tensor(prod)\n",
    "    \n",
    "    # Bath energy levels\n",
    "    H3 = H1 * 0\n",
    "    for k in range(nk):\n",
    "        for spin in range(2):\n",
    "            prod = [qeye(2) for x in range(n)]\n",
    "            prod[2*(k + 1) + spin] = num(2)\n",
    "            H3 += e[k] * tensor(prod)\n",
    "    \n",
    "    # Bath-impurity interaction\n",
    "    H4 = H1 * 0\n",
    "    for k in range(nk):\n",
    "        for spin in range(2):\n",
    "            \n",
    "            prod = [qeye(2) for x in range(n)]\n",
    "            prod[spin] = destroy(2)\n",
    "            prod[2*(k + 1) + spin] = create(2)\n",
    "            H4 += V[k] * tensor(prod)\n",
    "            \n",
    "            prod = [qeye(2) for x in range(n)]\n",
    "            prod[spin] = create(2)\n",
    "            prod[2*(k + 1) + spin] = destroy(2)\n",
    "            H4 += V[k] * tensor(prod)\n",
    "            \n",
    "    return H1 + H2 + H3 + H4"
   ]
  }
 ],
 "metadata": {
  "kernelspec": {
   "display_name": "Python 3 (ipykernel)",
   "language": "python",
   "name": "python3"
  },
  "language_info": {
   "codemirror_mode": {
    "name": "ipython",
    "version": 3
   },
   "file_extension": ".py",
   "mimetype": "text/x-python",
   "name": "python",
   "nbconvert_exporter": "python",
   "pygments_lexer": "ipython3",
   "version": "3.8.3"
  }
 },
 "nbformat": 4,
 "nbformat_minor": 4
}
