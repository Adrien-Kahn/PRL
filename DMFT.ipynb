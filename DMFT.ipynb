{
 "cells": [
  {
   "cell_type": "code",
   "execution_count": 3,
   "metadata": {},
   "outputs": [],
   "source": [
    "import numpy as np\n",
    "import matplotlib.pyplot as plt\n",
    "from qutip import *\n",
    "\n",
    "from scipy.optimize import minimize\n",
    "from scipy.signal import argrelmin"
   ]
  },
  {
   "cell_type": "code",
   "execution_count": 244,
   "metadata": {},
   "outputs": [],
   "source": [
    "T = 0.03\n",
    "beta = 1/T\n",
    "\n",
    "# The discretized values of omega\n",
    "omega = np.linspace(-10, 10, 100000, dtype = complex)\n",
    "\n",
    "# The Matsubara frequencies\n",
    "max_freq = 3\n",
    "n_freq = int(((max_freq * beta / np.pi) - 1) / 2) + 1\n",
    "matsu_freq = (2 * np.array(range(-n_freq, n_freq), dtype = complex) + 1) * np.pi / beta\n",
    "\n",
    "# The small delta\n",
    "delta = 1e-3"
   ]
  },
  {
   "cell_type": "code",
   "execution_count": 189,
   "metadata": {},
   "outputs": [],
   "source": [
    "# Plots complex array by showing real and imaginary parts\n",
    "def plot_complex(a, is_matsu = True):\n",
    "    \n",
    "    fig, ax = plt.subplots(1,2, figsize = (10,4))\n",
    "    if is_matsu:\n",
    "        ax[0].plot(np.real(matsu_freq), np.real(a))\n",
    "        ax[1].plot(np.real(matsu_freq), np.imag(a))\n",
    "    else:\n",
    "        ax[0].plot(np.real(omega), np.real(a))\n",
    "        ax[1].plot(np.real(omega), np.imag(a))\n",
    "    ax[0].set_title(\"Real Part\")\n",
    "    ax[1].set_title(\"Imaginary Part\")"
   ]
  },
  {
   "cell_type": "markdown",
   "metadata": {},
   "source": [
    "We retrieve the parameters $\\{V_k, \\epsilon_k\\}_k$ of the Anderson impurity model from the hybridization function:\n",
    "\n",
    "$$\\Delta(\\omega) = \\sum_k \\frac{V_k^2}{\\omega - \\epsilon_k + i\\delta}$$\n",
    "\n",
    "We place ourselves at half-filling so that $\\mu = \\frac U2$, and the AIM hamiltonian reads:\n",
    "\n",
    "$$H = U n_\\uparrow n_\\downarrow - \\frac U 2 (n_\\uparrow + n_\\downarrow) + \\sum_{k,\\sigma} \\epsilon_k a_{k,\\sigma}^\\dagger a_{k,\\sigma} + \\sum_{k,\\sigma} V_k (a_{k,\\sigma}^\\dagger c_\\sigma + c_\\sigma^\\dagger a_{k,\\sigma})$$\n",
    "\n",
    "where $a_{k,\\sigma}^\\dagger$ denotes the creation operator of an electron in the bath, $c_\\sigma^\\dagger$ denotes the creation operator of the impurity electron and $n_\\sigma = c_\\sigma^\\dagger c_\\sigma$.\n",
    "\n",
    "### Retrieval of the hamiltonian parameters\n",
    "\n",
    "$\\Delta(\\omega)$ is represented as an array of complex numbers corresponding to different values of $\\omega$. We recover the hamiltonian parameters $\\{V_k, \\epsilon_k\\}_k$ by optimizing a function:\n",
    "\n",
    "$$f : \\{V_k, \\epsilon_k\\}_k \\to \\Delta(\\omega) $$\n",
    "\n",
    "against the real $\\Delta(\\omega)$.\n",
    "\n",
    "To obtain an initial guess, we use the fact that the local minima of $\\Im (\\Delta(\\omega))$ are the $\\epsilon_k$ and that close to $\\epsilon_k$, its contribution will dominate so that:\n",
    "\n",
    "$$V_k^2 \\approx - \\delta \\Im (\\Delta(\\epsilon_k))$$"
   ]
  },
  {
   "cell_type": "code",
   "execution_count": 144,
   "metadata": {},
   "outputs": [],
   "source": [
    "def hybridizationFunction(V, e):\n",
    "    n = len(V)\n",
    "    s = omega * 0\n",
    "    for k in range(n):\n",
    "        s += V[k]**2 / (omega - e[k] + 1.j * delta)\n",
    "    return s\n",
    "\n",
    "def hamParameters(hyb_func, n_k, verbose = False):\n",
    "    \n",
    "    # The format of the argument of optimize_me is V_i, e_i\n",
    "    def optimize_me(args):\n",
    "        n = len(args)\n",
    "        V = args[:n//2]\n",
    "        e = args[n//2:]\n",
    "        return np.linalg.norm(hyb_func - hybridizationFunction(V, e))\n",
    "    \n",
    "    # Obtain initial guess\n",
    "    \n",
    "    # The energies are the minimums of the imaginary part\n",
    "    e_ini = np.real(omega[argrelmin(np.imag(hyb_func))])\n",
    "    \n",
    "    # The V_k are approximately sqrt(delta ** 2 * hyb_func(e_k)\n",
    "    V_ini = np.sqrt(-delta * np.imag(hyb_func)[argrelmin(np.imag(hyb_func))[0]])\n",
    "    \n",
    "    args_ini = np.zeros(2 * n_k)\n",
    "    args_ini[:n_k] = V_ini\n",
    "    args_ini[n_k:] = e_ini\n",
    "    \n",
    "    if verbose:\n",
    "        print(optimize_me(args_ini))\n",
    "        print(\"\\nV_ini: \")\n",
    "        print(V_ini)\n",
    "        print(\"\\ne_ini: \")\n",
    "        print(e_ini)\n",
    "    \n",
    "    # minimize optimize_me based on the initial guess\n",
    "    res = minimize(optimize_me, args_ini, method = 'BFGS')\n",
    "    V = res.x[:n_k]\n",
    "    e = res.x[n_k:]\n",
    "    return V, e, res.fun"
   ]
  },
  {
   "cell_type": "code",
   "execution_count": 145,
   "metadata": {},
   "outputs": [
    {
     "data": {
      "text/plain": [
       "(array([12.09999559,  9.30000403,  5.4999936 ,  2.09997706]),\n",
       " array([-7.00000001, -3.        ,  4.        ,  9.00000002]),\n",
       " 2.581014680362732)"
      ]
     },
     "execution_count": 145,
     "metadata": {},
     "output_type": "execute_result"
    }
   ],
   "source": [
    "# Check that it works properly\n",
    "\n",
    "n_k = 4\n",
    "V = [9.3, 12.1, 2.1, 5.5]\n",
    "e = [-3,-7,9,4]\n",
    "\n",
    "hyb_func = hybridizationFunction(V, e)\n",
    "hamParameters(hyb_func, n_k)"
   ]
  },
  {
   "cell_type": "code",
   "execution_count": 149,
   "metadata": {},
   "outputs": [],
   "source": [
    "# Same thing but with Matsubara frequencies\n",
    "\n",
    "def matsuHybridizationFunction(V, e):\n",
    "    n = len(V)\n",
    "    s = matsu_freq * 0\n",
    "    for k in range(n):\n",
    "        s += V[k]**2 / (1.j * matsu_freq - e[k])\n",
    "    return s\n",
    "\n",
    "def matsuHamParameters(matsu_hyb_func, n_k):\n",
    "    \n",
    "    # The format of the argument of matsu_optimize_me is V_i, e_i\n",
    "    def matsu_optimize_me(args):\n",
    "        n = len(args)\n",
    "        V = args[:n//2]\n",
    "        e = args[n//2:]\n",
    "        return np.linalg.norm(matsu_hyb_func - matsuHybridizationFunction(V, e)) ** 2\n",
    "    \n",
    "    args_ini = np.zeros(2 * n_k)\n",
    "    \n",
    "    # minimize matsu_optimize_me\n",
    "    res = minimize(matsu_optimize_me, args_ini, method = 'Powell')\n",
    "    V = res.x[:n_k]\n",
    "    e = res.x[n_k:]\n",
    "    return V, e, res.fun"
   ]
  },
  {
   "cell_type": "code",
   "execution_count": 152,
   "metadata": {},
   "outputs": [
    {
     "data": {
      "text/plain": [
       "(array([1.08964136, 8.78358308, 2.29525185]),\n",
       " array([-1.07633155, -2.93512967,  1.09629472]),\n",
       " 0.032712673692940744)"
      ]
     },
     "execution_count": 152,
     "metadata": {},
     "output_type": "execute_result"
    }
   ],
   "source": [
    "# Check that it works properly\n",
    "\n",
    "n_k = 3\n",
    "V = [3.6, 2.3, 8.1]\n",
    "e = [-2.1, 1.1, -3.1]\n",
    "\n",
    "matsu_hyb_func = matsuHybridizationFunction(V, e)\n",
    "matsuHamParameters(matsu_hyb_func, n_k)"
   ]
  },
  {
   "cell_type": "code",
   "execution_count": 153,
   "metadata": {},
   "outputs": [
    {
     "data": {
      "image/png": "[encoded data removed]",
      "text/plain": [
       "<Figure size 720x288 with 2 Axes>"
      ]
     },
     "metadata": {
      "needs_background": "light"
     },
     "output_type": "display_data"
    }
   ],
   "source": [
    "plot_complex(matsu_hyb_func)"
   ]
  },
  {
   "cell_type": "markdown",
   "metadata": {},
   "source": [
    "### Constructing the hamiltonian\n",
    "\n",
    "Using the hamiltonian parameters $\\{V_k, \\epsilon_k\\}_k$, we can now construct the hamiltonian. We use the following convention indexing the sites with $i$:\n",
    "- If $i$ is even, the site has spin up\n",
    "- If $i$ is odd, the site has spin down\n",
    "- $i//2 = 0$ indicates the impurity site\n",
    "- $i//2 = k > 0$ indicates site k - 1\n",
    "\n",
    "For example 100100 indicates that the spin up impurity site and the spin down first bath level are filled."
   ]
  },
  {
   "cell_type": "code",
   "execution_count": 225,
   "metadata": {},
   "outputs": [],
   "source": [
    "def AIM(V, e, U):\n",
    "    \n",
    "    # Number of sites in the bath\n",
    "    nk = len(V)\n",
    "    \n",
    "    # Total number of sites\n",
    "    n = 2 * (nk + 1)\n",
    "    \n",
    "    # Impurity on-site interaction\n",
    "    prod = [qeye(2) for x in range(n)]\n",
    "    prod[0] = num(2)\n",
    "    prod[1] = num(2)\n",
    "    H1 = U * tensor(prod)\n",
    "    \n",
    "    # Impurity chemical potential\n",
    "    prod = [qeye(2) for x in range(n)]\n",
    "    prod[0] = num(2)\n",
    "    H2 = - (U/2) * tensor(prod)\n",
    "    prod = [qeye(2) for x in range(n)]\n",
    "    prod[1] = num(2)\n",
    "    H2 += - (U/2) * tensor(prod)\n",
    "    \n",
    "    # Bath energy levels\n",
    "    H3 = H1 * 0\n",
    "    for k in range(nk):\n",
    "        for spin in range(2):\n",
    "            prod = [qeye(2) for x in range(n)]\n",
    "            prod[2*(k + 1) + spin] = num(2)\n",
    "            H3 += e[k] * tensor(prod)\n",
    "    \n",
    "    # Bath-impurity interaction\n",
    "    H4 = H1 * 0\n",
    "    for k in range(nk):\n",
    "        for spin in range(2):\n",
    "            \n",
    "            prod = [qeye(2) for x in range(n)]\n",
    "            prod[spin] = destroy(2)\n",
    "            prod[2*(k + 1) + spin] = create(2)\n",
    "            H4 += V[k] * tensor(prod)\n",
    "            \n",
    "            prod = [qeye(2) for x in range(n)]\n",
    "            prod[spin] = create(2)\n",
    "            prod[2*(k + 1) + spin] = destroy(2)\n",
    "            H4 += V[k] * tensor(prod)\n",
    "            \n",
    "    return H1 + H2 + H3 + H4"
   ]
  },
  {
   "cell_type": "code",
   "execution_count": 147,
   "metadata": {
    "scrolled": true
   },
   "outputs": [
    {
     "data": {
      "text/latex": [
       "Quantum object: dims = [[2, 2, 2, 2, 2, 2], [2, 2, 2, 2, 2, 2]], shape = (64, 64), type = oper, isherm = True\\begin{equation*}\\left(\\begin{array}{*{11}c}0.0 & 0.0 & 0.0 & 0.0 & 0.0 & \\cdots & 0.0 & 0.0 & 0.0 & 0.0 & 0.0\\\\0.0 & 7.0 & 0.0 & 0.0 & 0.0 & \\cdots & 0.0 & 0.0 & 0.0 & 0.0 & 0.0\\\\0.0 & 0.0 & 7.0 & 0.0 & 0.0 & \\cdots & 0.0 & 0.0 & 0.0 & 0.0 & 0.0\\\\0.0 & 0.0 & 0.0 & 14.0 & 0.0 & \\cdots & 0.0 & 0.0 & 0.0 & 0.0 & 0.0\\\\0.0 & 0.0 & 0.0 & 0.0 & 3.0 & \\cdots & 0.0 & 0.0 & 0.0 & 0.0 & 0.0\\\\\\vdots & \\vdots & \\vdots & \\vdots & \\vdots & \\ddots & \\vdots & \\vdots & \\vdots & \\vdots & \\vdots\\\\0.0 & 0.0 & 0.0 & 0.0 & 0.0 & \\cdots & 17.0 & 0.0 & 0.0 & 0.0 & 0.0\\\\0.0 & 0.0 & 0.0 & 0.0 & 0.0 & \\cdots & 0.0 & 6.0 & 0.0 & 0.0 & 0.0\\\\0.0 & 0.0 & 0.0 & 0.0 & 0.0 & \\cdots & 0.0 & 0.0 & 13.0 & 0.0 & 0.0\\\\0.0 & 0.0 & 0.0 & 0.0 & 0.0 & \\cdots & 0.0 & 0.0 & 0.0 & 13.0 & 0.0\\\\0.0 & 0.0 & 0.0 & 0.0 & 0.0 & \\cdots & 0.0 & 0.0 & 0.0 & 0.0 & 20.0\\\\\\end{array}\\right)\\end{equation*}"
      ],
      "text/plain": [
       "Quantum object: dims = [[2, 2, 2, 2, 2, 2], [2, 2, 2, 2, 2, 2]], shape = (64, 64), type = oper, isherm = True\n",
       "Qobj data =\n",
       "[[ 0.  0.  0. ...  0.  0.  0.]\n",
       " [ 0.  7.  0. ...  0.  0.  0.]\n",
       " [ 0.  0.  7. ...  0.  0.  0.]\n",
       " ...\n",
       " [ 0.  0.  0. ... 13.  0.  0.]\n",
       " [ 0.  0.  0. ...  0. 13.  0.]\n",
       " [ 0.  0.  0. ...  0.  0. 20.]]"
      ]
     },
     "execution_count": 147,
     "metadata": {},
     "output_type": "execute_result"
    }
   ],
   "source": [
    "H = AIM([2,4], [3, 7], 1)\n",
    "H"
   ]
  },
  {
   "cell_type": "code",
   "execution_count": 148,
   "metadata": {
    "scrolled": true
   },
   "outputs": [
    {
     "data": {
      "text/plain": [
       "0j"
      ]
     },
     "execution_count": 148,
     "metadata": {},
     "output_type": "execute_result"
    }
   ],
   "source": [
    "H[int('001001', 2), int('101000', 2)]"
   ]
  },
  {
   "cell_type": "code",
   "execution_count": 149,
   "metadata": {},
   "outputs": [],
   "source": [
    "# Returns the spin up impurity green's function given the hamiltonian\n",
    "\n",
    "def impurity_green(H, T):\n",
    "    \n",
    "    beta = 1/T\n",
    "    \n",
    "    # Get the eigendecomposition\n",
    "    eigvals, eigvecs = np.linalg.eigh(H._data.todense())\n",
    "    n = len(eigvals)\n",
    "    \n",
    "    # The partition function\n",
    "    Z = np.sum(np.exp(-beta * eigvals))\n",
    "    \n",
    "    # Green's function\n",
    "    G = 0\n",
    "    for i in range(n):\n",
    "        for j in range(n):\n",
    "            \n",
    "            ei = eigvecs[:,i].copy()\n",
    "            ej = eigvecs[:,j].copy()\n",
    "            \n",
    "            # Computing c^dagger|j>\n",
    "            ej[n//2:] = ej[:n//2]\n",
    "            ej[:n//2] = 0\n",
    "            \n",
    "            prob = (ei.H @ ej)[0,0]\n",
    "            \n",
    "            G += prob * (np.exp(-beta * eigvals[i]) + np.exp(-beta * eigvals[j])) / (omega + eigvals[j] - eigvals[i] + 1.j * delta)\n",
    "    \n",
    "    return G / Z"
   ]
  },
  {
   "cell_type": "code",
   "execution_count": 155,
   "metadata": {},
   "outputs": [],
   "source": [
    "# Returns the spin up impurity green's function with Matsubara frequencies given the hamiltonian\n",
    "\n",
    "def matsu_impurity_green(H, T):\n",
    "    \n",
    "    beta = 1/T\n",
    "    \n",
    "    # Get the eigendecomposition\n",
    "    eigvals, eigvecs = np.linalg.eigh(H._data.todense())\n",
    "    n = len(eigvals)\n",
    "    \n",
    "    # The partition function\n",
    "    Z = np.sum(np.exp(-beta * eigvals))\n",
    "    \n",
    "    # Green's function\n",
    "    G = 0\n",
    "    for i in range(n):\n",
    "        for j in range(n):\n",
    "            \n",
    "            ei = eigvecs[:,i].copy()\n",
    "            ej = eigvecs[:,j].copy()\n",
    "            \n",
    "            # Computing c^dagger|j>\n",
    "            ej[n//2:] = ej[:n//2]\n",
    "            ej[:n//2] = 0\n",
    "            \n",
    "            prob = (ei.H @ ej)[0,0]\n",
    "            \n",
    "            G += prob * (np.exp(-beta * eigvals[i]) + np.exp(-beta * eigvals[j])) / (1.j * matsu_freq + eigvals[j] - eigvals[i])\n",
    "    \n",
    "    return G / Z"
   ]
  },
  {
   "cell_type": "code",
   "execution_count": 150,
   "metadata": {},
   "outputs": [],
   "source": [
    "# Returns the spin up impurity green's function given the hybridization function\n",
    "\n",
    "def loopstep(hyb_func, n_k, U, T):\n",
    "    V, e, val = hamParameters(hyb_func, n_k)\n",
    "    H = AIM(V, e, U)\n",
    "    G = impurity_green(H, T)\n",
    "    return G"
   ]
  },
  {
   "cell_type": "code",
   "execution_count": 228,
   "metadata": {},
   "outputs": [],
   "source": [
    "# Returns the spin up impurity green's function given the hybridization function\n",
    "\n",
    "def matsu_loopstep(matsu_hyb_func, n_k, U, T, verbose = False):\n",
    "    print(\"Retrieving hamiltonian parameters\")\n",
    "    V, e, val = matsuHamParameters(matsu_hyb_func, n_k)\n",
    "    print(\"Optimization MSE: {:.4}\".format(val))\n",
    "    H = AIM(V, e, U)\n",
    "    print(\"Computing green's function\\n\")\n",
    "    G = matsu_impurity_green(H, T)\n",
    "    return G"
   ]
  },
  {
   "cell_type": "markdown",
   "metadata": {},
   "source": [
    "# DMFT loop\n",
    "\n",
    "We work on the Bethe lattice for a simplified loop: $\\Delta(\\omega) = t^2 G_\\text{imp}$\n",
    "\n",
    "We start with $$\\Delta_0(\\omega) = \\frac{\\omega - \\sqrt{\\omega^2 - 4t^2}}{2t^2}$$\n",
    "or $$\\Delta_0(i\\omega_n) = \\frac{i\\omega_n - \\sqrt{-\\omega_n^2 - 4t^2}}{2t^2} = \\frac{i\\omega_n \\pm i\\sqrt{\\omega_n^2 + 4t^2}}{2t^2}$$"
   ]
  },
  {
   "cell_type": "code",
   "execution_count": 219,
   "metadata": {},
   "outputs": [
    {
     "data": {
      "text/plain": [
       "'for k in range(3):\\n    print(\"loop\")\\n    hyb_func = loopstep(hyb_func, n_k, U, T)'"
      ]
     },
     "execution_count": 219,
     "metadata": {},
     "output_type": "execute_result"
    }
   ],
   "source": [
    "# In real frequency\n",
    "\n",
    "# T was defined above\n",
    "n_k = 2\n",
    "U = 1\n",
    "\n",
    "hyb_func = - np.sign(np.real(omega)) * (omega - (omega ** 2 - 4) ** 0.5)\n",
    "\n",
    "for k in range(3):\n",
    "    print(\"Step {}\".format(k + 1))\n",
    "    hyb_func = loopstep(hyb_func, n_k, U, T)"
   ]
  },
  {
   "cell_type": "code",
   "execution_count": 246,
   "metadata": {},
   "outputs": [
    {
     "name": "stdout",
     "output_type": "stream",
     "text": [
      "Step 1\n",
      "Retrieving hamiltonian parameters\n",
      "Optimization MSE: 158.7\n",
      "Computing green's function\n",
      "\n"
     ]
    },
    {
     "name": "stderr",
     "output_type": "stream",
     "text": [
      "C:\\Users\\Adrien\\AppData\\Local\\Temp/ipykernel_14704/4213582834.py:12: RuntimeWarning: overflow encountered in exp\n",
      "  Z = np.sum(np.exp(-beta * eigvals))\n",
      "C:\\Users\\Adrien\\AppData\\Local\\Temp/ipykernel_14704/4213582834.py:28: RuntimeWarning: overflow encountered in exp\n",
      "  G += prob * (np.exp(-beta * eigvals[i]) + np.exp(-beta * eigvals[j])) / (1.j * matsu_freq + eigvals[j] - eigvals[i])\n",
      "C:\\Users\\Adrien\\AppData\\Local\\Temp/ipykernel_14704/4213582834.py:28: RuntimeWarning: invalid value encountered in cdouble_scalars\n",
      "  G += prob * (np.exp(-beta * eigvals[i]) + np.exp(-beta * eigvals[j])) / (1.j * matsu_freq + eigvals[j] - eigvals[i])\n",
      "C:\\Users\\Adrien\\AppData\\Local\\Temp/ipykernel_14704/4213582834.py:28: RuntimeWarning: invalid value encountered in true_divide\n",
      "  G += prob * (np.exp(-beta * eigvals[i]) + np.exp(-beta * eigvals[j])) / (1.j * matsu_freq + eigvals[j] - eigvals[i])\n"
     ]
    },
    {
     "name": "stdout",
     "output_type": "stream",
     "text": [
      "Step 2\n",
      "Retrieving hamiltonian parameters\n",
      "Optimization MSE: nan\n",
      "Computing green's function\n",
      "\n",
      "Step 3\n",
      "Retrieving hamiltonian parameters\n",
      "Optimization MSE: 4.914\n",
      "Computing green's function\n",
      "\n",
      "Done\n"
     ]
    }
   ],
   "source": [
    "# In Matsubara frequency\n",
    "\n",
    "# T was defined above\n",
    "n_k = 2\n",
    "U = 1\n",
    "\n",
    "matsu_hyb_func = - np.sign(np.real(matsu_freq)) * (1.j * matsu_freq + 1.j * (matsu_freq ** 2 + 4))\n",
    "\n",
    "for k in range(3):\n",
    "    print(\"Step {}\".format(k + 1))\n",
    "    matsu_hyb_func = matsu_loopstep(matsu_hyb_func, n_k, U, T)\n",
    "\n",
    "print(\"Done\")"
   ]
  },
  {
   "cell_type": "code",
   "execution_count": 247,
   "metadata": {
    "scrolled": true
   },
   "outputs": [
    {
     "data": {
      "image/png": "[encoded data removed]",
      "text/plain": [
       "<Figure size 720x288 with 2 Axes>"
      ]
     },
     "metadata": {
      "needs_background": "light"
     },
     "output_type": "display_data"
    }
   ],
   "source": [
    "#matsu_hyb_func = - (1.j * matsu_freq + 1.j * (matsu_freq ** 2 + 4))\n",
    "plot_complex(matsu_hyb_func, is_matsu = True)"
   ]
  },
  {
   "cell_type": "code",
   "execution_count": 243,
   "metadata": {},
   "outputs": [
    {
     "data": {
      "text/plain": [
       "(array([0.35021879, 0.21150638]),\n",
       " array([-0.69164003, -7.53920572]),\n",
       " 0.0018337681305730588)"
      ]
     },
     "execution_count": 243,
     "metadata": {},
     "output_type": "execute_result"
    }
   ],
   "source": [
    "matsuHamParameters(matsu_hyb_func, n_k)"
   ]
  }
 ],
 "metadata": {
  "kernelspec": {
   "display_name": "Python 3 (ipykernel)",
   "language": "python",
   "name": "python3"
  },
  "language_info": {
   "codemirror_mode": {
    "name": "ipython",
    "version": 3
   },
   "file_extension": ".py",
   "mimetype": "text/x-python",
   "name": "python",
   "nbconvert_exporter": "python",
   "pygments_lexer": "ipython3",
   "version": "3.9.7"
  }
 },
 "nbformat": 4,
 "nbformat_minor": 4
}
